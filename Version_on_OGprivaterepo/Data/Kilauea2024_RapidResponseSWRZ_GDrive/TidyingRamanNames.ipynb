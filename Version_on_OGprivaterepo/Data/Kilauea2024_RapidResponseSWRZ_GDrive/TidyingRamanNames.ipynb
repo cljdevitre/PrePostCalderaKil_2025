{
 "cells": [
  {
   "cell_type": "code",
   "execution_count": 1,
   "metadata": {},
   "outputs": [],
   "source": [
    "import numpy as np\n",
    "import pandas as pd\n",
    "import matplotlib.pyplot as plt"
   ]
  },
  {
   "cell_type": "code",
   "execution_count": 4,
   "metadata": {},
   "outputs": [],
   "source": [
    "df=pd.read_excel('KL_SWRZ_wdepths.xlsx')"
   ]
  },
  {
   "cell_type": "code",
   "execution_count": 3,
   "metadata": {},
   "outputs": [],
   "source": [
    "import re"
   ]
  },
  {
   "cell_type": "code",
   "execution_count": 16,
   "metadata": {},
   "outputs": [],
   "source": [
    "def transform_name(name):\n",
    "    # Check if the name starts with 'KL0919'\n",
    "    if name.startswith('KL0919'):\n",
    "        # Replace 'KL0919' with '919' and replace '-' with '_'\n",
    "        new_name = '919' + name[6:].replace('-', '_')\n",
    "    else:\n",
    "        # Replace '-' with '_'\n",
    "        new_name = name.replace('-', '_')\n",
    "    return new_name\n",
    "# Apply the transformation to the column\n",
    "df['consistent_name'] = df['filename'].apply(transform_name)\n",
    "\n",
    "\n"
   ]
  },
  {
   "cell_type": "code",
   "execution_count": 17,
   "metadata": {},
   "outputs": [],
   "source": [
    "df['consistent_name'].to_clipboard(excel=True, header=False, index=False)"
   ]
  }
 ],
 "metadata": {
  "kernelspec": {
   "display_name": "pandas15",
   "language": "python",
   "name": "python3"
  },
  "language_info": {
   "codemirror_mode": {
    "name": "ipython",
    "version": 3
   },
   "file_extension": ".py",
   "mimetype": "text/x-python",
   "name": "python",
   "nbconvert_exporter": "python",
   "pygments_lexer": "ipython3",
   "version": "3.8.18"
  }
 },
 "nbformat": 4,
 "nbformat_minor": 2
}
