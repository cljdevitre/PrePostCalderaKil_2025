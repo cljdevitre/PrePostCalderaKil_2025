{
 "cells": [
  {
   "cell_type": "code",
   "execution_count": 2,
   "metadata": {},
   "outputs": [],
   "source": [
    "import pandas as pd\n",
    "import numpy as np\n",
    "import matplotlib.pyplot as plt\n",
    "import DiadFit as pf\n"
   ]
  },
  {
   "cell_type": "code",
   "execution_count": 3,
   "metadata": {},
   "outputs": [
    {
     "data": {
      "text/plain": [
       "81"
      ]
     },
     "execution_count": 3,
     "metadata": {},
     "output_type": "execute_result"
    }
   ],
   "source": [
    "df_combo=pd.read_excel('Raman_SEM_Merged.xlsx')\n",
    "df_combo=df_combo.loc[df_combo['Fo']>0].reset_index(drop=True)\n",
    "len(df_combo)"
   ]
  },
  {
   "cell_type": "code",
   "execution_count": 4,
   "metadata": {},
   "outputs": [
    {
     "data": {
      "text/html": [
       "<div>\n",
       "<style scoped>\n",
       "    .dataframe tbody tr th:only-of-type {\n",
       "        vertical-align: middle;\n",
       "    }\n",
       "\n",
       "    .dataframe tbody tr th {\n",
       "        vertical-align: top;\n",
       "    }\n",
       "\n",
       "    .dataframe thead th {\n",
       "        text-align: right;\n",
       "    }\n",
       "</style>\n",
       "<table border=\"1\" class=\"dataframe\">\n",
       "  <thead>\n",
       "    <tr style=\"text-align: right;\">\n",
       "      <th></th>\n",
       "      <th>Unnamed: 0.1</th>\n",
       "      <th>Unnamed: 0</th>\n",
       "      <th>Mount</th>\n",
       "      <th>filename</th>\n",
       "      <th>Name_on_SEM</th>\n",
       "      <th>Notes regarding SEM matching</th>\n",
       "      <th>Unnamed: 5</th>\n",
       "      <th>Density g/cm3</th>\n",
       "      <th>σ Density g/cm3</th>\n",
       "      <th>σ Density g/cm3 (from Ne+peakfit)</th>\n",
       "      <th>...</th>\n",
       "      <th>Line_Ca</th>\n",
       "      <th>Line_Mn</th>\n",
       "      <th>Line_Fe</th>\n",
       "      <th>Line_Ni</th>\n",
       "      <th>Line_Al</th>\n",
       "      <th>Line_Ti</th>\n",
       "      <th>Line_Cr</th>\n",
       "      <th>Line_Cu</th>\n",
       "      <th>SampleID</th>\n",
       "      <th>Fo</th>\n",
       "    </tr>\n",
       "  </thead>\n",
       "  <tbody>\n",
       "    <tr>\n",
       "      <th>0</th>\n",
       "      <td>9</td>\n",
       "      <td>9</td>\n",
       "      <td>A</td>\n",
       "      <td>K24_10_FIA</td>\n",
       "      <td>K24_10_FIA</td>\n",
       "      <td>NaN</td>\n",
       "      <td>K24_10_FIA</td>\n",
       "      <td>0.048859</td>\n",
       "      <td>0.004082</td>\n",
       "      <td>0.001386</td>\n",
       "      <td>...</td>\n",
       "      <td>K series</td>\n",
       "      <td>K series</td>\n",
       "      <td>K series</td>\n",
       "      <td>Kα</td>\n",
       "      <td>NaN</td>\n",
       "      <td>NaN</td>\n",
       "      <td>NaN</td>\n",
       "      <td>NaN</td>\n",
       "      <td>K24_10_FIA</td>\n",
       "      <td>0.866691</td>\n",
       "    </tr>\n",
       "    <tr>\n",
       "      <th>1</th>\n",
       "      <td>10</td>\n",
       "      <td>10</td>\n",
       "      <td>A</td>\n",
       "      <td>K24_10_FIB</td>\n",
       "      <td>K24_10_FIB</td>\n",
       "      <td>NaN</td>\n",
       "      <td>K24_10_FIB</td>\n",
       "      <td>0.056119</td>\n",
       "      <td>0.004361</td>\n",
       "      <td>0.002092</td>\n",
       "      <td>...</td>\n",
       "      <td>K series</td>\n",
       "      <td>K series</td>\n",
       "      <td>K series</td>\n",
       "      <td>Kα</td>\n",
       "      <td>NaN</td>\n",
       "      <td>NaN</td>\n",
       "      <td>NaN</td>\n",
       "      <td>NaN</td>\n",
       "      <td>K24_10_FIB</td>\n",
       "      <td>0.867048</td>\n",
       "    </tr>\n",
       "    <tr>\n",
       "      <th>2</th>\n",
       "      <td>11</td>\n",
       "      <td>11</td>\n",
       "      <td>A</td>\n",
       "      <td>K24_11_FIA</td>\n",
       "      <td>K24_11_FIA,B</td>\n",
       "      <td>NaN</td>\n",
       "      <td>K24_11_FIA</td>\n",
       "      <td>0.125982</td>\n",
       "      <td>0.004292</td>\n",
       "      <td>0.001919</td>\n",
       "      <td>...</td>\n",
       "      <td>K series</td>\n",
       "      <td>K series</td>\n",
       "      <td>K series</td>\n",
       "      <td>Kα</td>\n",
       "      <td>NaN</td>\n",
       "      <td>NaN</td>\n",
       "      <td>NaN</td>\n",
       "      <td>NaN</td>\n",
       "      <td>K24_11_FIA,B</td>\n",
       "      <td>0.853562</td>\n",
       "    </tr>\n",
       "    <tr>\n",
       "      <th>3</th>\n",
       "      <td>12</td>\n",
       "      <td>12</td>\n",
       "      <td>A</td>\n",
       "      <td>K24_11_FIB</td>\n",
       "      <td>K24_11_FIA,B</td>\n",
       "      <td>NaN</td>\n",
       "      <td>K24_11_FIB</td>\n",
       "      <td>0.085747</td>\n",
       "      <td>0.012513</td>\n",
       "      <td>0.011921</td>\n",
       "      <td>...</td>\n",
       "      <td>K series</td>\n",
       "      <td>K series</td>\n",
       "      <td>K series</td>\n",
       "      <td>Kα</td>\n",
       "      <td>NaN</td>\n",
       "      <td>NaN</td>\n",
       "      <td>NaN</td>\n",
       "      <td>NaN</td>\n",
       "      <td>K24_11_FIA,B</td>\n",
       "      <td>0.853562</td>\n",
       "    </tr>\n",
       "    <tr>\n",
       "      <th>4</th>\n",
       "      <td>13</td>\n",
       "      <td>13</td>\n",
       "      <td>A</td>\n",
       "      <td>K24_11_FIC</td>\n",
       "      <td>K24_11_FIC</td>\n",
       "      <td>NaN</td>\n",
       "      <td>K24_11_FIC</td>\n",
       "      <td>0.129648</td>\n",
       "      <td>0.004284</td>\n",
       "      <td>0.001886</td>\n",
       "      <td>...</td>\n",
       "      <td>K series</td>\n",
       "      <td>K series</td>\n",
       "      <td>K series</td>\n",
       "      <td>Kα</td>\n",
       "      <td>NaN</td>\n",
       "      <td>NaN</td>\n",
       "      <td>NaN</td>\n",
       "      <td>NaN</td>\n",
       "      <td>K24_11_FIC</td>\n",
       "      <td>0.854730</td>\n",
       "    </tr>\n",
       "    <tr>\n",
       "      <th>...</th>\n",
       "      <td>...</td>\n",
       "      <td>...</td>\n",
       "      <td>...</td>\n",
       "      <td>...</td>\n",
       "      <td>...</td>\n",
       "      <td>...</td>\n",
       "      <td>...</td>\n",
       "      <td>...</td>\n",
       "      <td>...</td>\n",
       "      <td>...</td>\n",
       "      <td>...</td>\n",
       "      <td>...</td>\n",
       "      <td>...</td>\n",
       "      <td>...</td>\n",
       "      <td>...</td>\n",
       "      <td>...</td>\n",
       "      <td>...</td>\n",
       "      <td>...</td>\n",
       "      <td>...</td>\n",
       "      <td>...</td>\n",
       "      <td>...</td>\n",
       "    </tr>\n",
       "    <tr>\n",
       "      <th>76</th>\n",
       "      <td>93</td>\n",
       "      <td>93</td>\n",
       "      <td>A</td>\n",
       "      <td>KL0919-008-A</td>\n",
       "      <td>KL0919_008_FIA</td>\n",
       "      <td>NaN</td>\n",
       "      <td>919_008_A</td>\n",
       "      <td>0.452379</td>\n",
       "      <td>0.002782</td>\n",
       "      <td>0.001487</td>\n",
       "      <td>...</td>\n",
       "      <td>K series</td>\n",
       "      <td>K series</td>\n",
       "      <td>K series</td>\n",
       "      <td>Kα</td>\n",
       "      <td>NaN</td>\n",
       "      <td>NaN</td>\n",
       "      <td>NaN</td>\n",
       "      <td>NaN</td>\n",
       "      <td>KL0919_008_FIA</td>\n",
       "      <td>0.885386</td>\n",
       "    </tr>\n",
       "    <tr>\n",
       "      <th>77</th>\n",
       "      <td>94</td>\n",
       "      <td>94</td>\n",
       "      <td>A</td>\n",
       "      <td>KL0919-009-A</td>\n",
       "      <td>KL0919_009_FIA</td>\n",
       "      <td>NaN</td>\n",
       "      <td>919_009_A</td>\n",
       "      <td>0.155276</td>\n",
       "      <td>0.004816</td>\n",
       "      <td>0.002802</td>\n",
       "      <td>...</td>\n",
       "      <td>K series</td>\n",
       "      <td>K series</td>\n",
       "      <td>K series</td>\n",
       "      <td>Kα</td>\n",
       "      <td>NaN</td>\n",
       "      <td>NaN</td>\n",
       "      <td>NaN</td>\n",
       "      <td>NaN</td>\n",
       "      <td>KL0919_009_FIA</td>\n",
       "      <td>0.888669</td>\n",
       "    </tr>\n",
       "    <tr>\n",
       "      <th>78</th>\n",
       "      <td>95</td>\n",
       "      <td>95</td>\n",
       "      <td>NaN</td>\n",
       "      <td>KL0919-010-A</td>\n",
       "      <td>KL0919_010_FIA</td>\n",
       "      <td>NaN</td>\n",
       "      <td>919_010_A</td>\n",
       "      <td>0.119384</td>\n",
       "      <td>0.004053</td>\n",
       "      <td>0.001334</td>\n",
       "      <td>...</td>\n",
       "      <td>K series</td>\n",
       "      <td>K series</td>\n",
       "      <td>K series</td>\n",
       "      <td>Kα</td>\n",
       "      <td>NaN</td>\n",
       "      <td>NaN</td>\n",
       "      <td>NaN</td>\n",
       "      <td>NaN</td>\n",
       "      <td>KL0919_010_FIA</td>\n",
       "      <td>0.887075</td>\n",
       "    </tr>\n",
       "    <tr>\n",
       "      <th>79</th>\n",
       "      <td>96</td>\n",
       "      <td>96</td>\n",
       "      <td>NaN</td>\n",
       "      <td>KL0919-010-B</td>\n",
       "      <td>KL0919_010_FIA</td>\n",
       "      <td>NaN</td>\n",
       "      <td>919_010_B</td>\n",
       "      <td>0.105191</td>\n",
       "      <td>0.008116</td>\n",
       "      <td>0.007167</td>\n",
       "      <td>...</td>\n",
       "      <td>K series</td>\n",
       "      <td>K series</td>\n",
       "      <td>K series</td>\n",
       "      <td>Kα</td>\n",
       "      <td>NaN</td>\n",
       "      <td>NaN</td>\n",
       "      <td>NaN</td>\n",
       "      <td>NaN</td>\n",
       "      <td>KL0919_010_FIA</td>\n",
       "      <td>0.887075</td>\n",
       "    </tr>\n",
       "    <tr>\n",
       "      <th>80</th>\n",
       "      <td>97</td>\n",
       "      <td>97</td>\n",
       "      <td>NaN</td>\n",
       "      <td>KL0919-010-C-meltfilm</td>\n",
       "      <td>KL0919_010_FIA</td>\n",
       "      <td>NaN</td>\n",
       "      <td>919_010_C_meltfilm</td>\n",
       "      <td>0.090413</td>\n",
       "      <td>0.004864</td>\n",
       "      <td>0.003034</td>\n",
       "      <td>...</td>\n",
       "      <td>K series</td>\n",
       "      <td>K series</td>\n",
       "      <td>K series</td>\n",
       "      <td>Kα</td>\n",
       "      <td>NaN</td>\n",
       "      <td>NaN</td>\n",
       "      <td>NaN</td>\n",
       "      <td>NaN</td>\n",
       "      <td>KL0919_010_FIA</td>\n",
       "      <td>0.887075</td>\n",
       "    </tr>\n",
       "  </tbody>\n",
       "</table>\n",
       "<p>81 rows × 279 columns</p>\n",
       "</div>"
      ],
      "text/plain": [
       "    Unnamed: 0.1  Unnamed: 0 Mount               filename     Name_on_SEM  \\\n",
       "0              9           9     A             K24_10_FIA      K24_10_FIA   \n",
       "1             10          10     A             K24_10_FIB      K24_10_FIB   \n",
       "2             11          11     A             K24_11_FIA    K24_11_FIA,B   \n",
       "3             12          12     A             K24_11_FIB    K24_11_FIA,B   \n",
       "4             13          13     A             K24_11_FIC      K24_11_FIC   \n",
       "..           ...         ...   ...                    ...             ...   \n",
       "76            93          93     A           KL0919-008-A  KL0919_008_FIA   \n",
       "77            94          94     A           KL0919-009-A  KL0919_009_FIA   \n",
       "78            95          95   NaN           KL0919-010-A  KL0919_010_FIA   \n",
       "79            96          96   NaN           KL0919-010-B  KL0919_010_FIA   \n",
       "80            97          97   NaN  KL0919-010-C-meltfilm  KL0919_010_FIA   \n",
       "\n",
       "   Notes regarding SEM matching          Unnamed: 5  Density g/cm3  \\\n",
       "0                           NaN          K24_10_FIA       0.048859   \n",
       "1                           NaN          K24_10_FIB       0.056119   \n",
       "2                           NaN          K24_11_FIA       0.125982   \n",
       "3                           NaN          K24_11_FIB       0.085747   \n",
       "4                           NaN          K24_11_FIC       0.129648   \n",
       "..                          ...                 ...            ...   \n",
       "76                          NaN           919_008_A       0.452379   \n",
       "77                          NaN           919_009_A       0.155276   \n",
       "78                          NaN           919_010_A       0.119384   \n",
       "79                          NaN           919_010_B       0.105191   \n",
       "80                          NaN  919_010_C_meltfilm       0.090413   \n",
       "\n",
       "    σ Density g/cm3  σ Density g/cm3 (from Ne+peakfit)  ...   Line_Ca  \\\n",
       "0          0.004082                           0.001386  ...  K series   \n",
       "1          0.004361                           0.002092  ...  K series   \n",
       "2          0.004292                           0.001919  ...  K series   \n",
       "3          0.012513                           0.011921  ...  K series   \n",
       "4          0.004284                           0.001886  ...  K series   \n",
       "..              ...                                ...  ...       ...   \n",
       "76         0.002782                           0.001487  ...  K series   \n",
       "77         0.004816                           0.002802  ...  K series   \n",
       "78         0.004053                           0.001334  ...  K series   \n",
       "79         0.008116                           0.007167  ...  K series   \n",
       "80         0.004864                           0.003034  ...  K series   \n",
       "\n",
       "     Line_Mn   Line_Fe  Line_Ni  Line_Al  Line_Ti  Line_Cr  Line_Cu  \\\n",
       "0   K series  K series       Kα      NaN      NaN      NaN      NaN   \n",
       "1   K series  K series       Kα      NaN      NaN      NaN      NaN   \n",
       "2   K series  K series       Kα      NaN      NaN      NaN      NaN   \n",
       "3   K series  K series       Kα      NaN      NaN      NaN      NaN   \n",
       "4   K series  K series       Kα      NaN      NaN      NaN      NaN   \n",
       "..       ...       ...      ...      ...      ...      ...      ...   \n",
       "76  K series  K series       Kα      NaN      NaN      NaN      NaN   \n",
       "77  K series  K series       Kα      NaN      NaN      NaN      NaN   \n",
       "78  K series  K series       Kα      NaN      NaN      NaN      NaN   \n",
       "79  K series  K series       Kα      NaN      NaN      NaN      NaN   \n",
       "80  K series  K series       Kα      NaN      NaN      NaN      NaN   \n",
       "\n",
       "          SampleID        Fo  \n",
       "0       K24_10_FIA  0.866691  \n",
       "1       K24_10_FIB  0.867048  \n",
       "2     K24_11_FIA,B  0.853562  \n",
       "3     K24_11_FIA,B  0.853562  \n",
       "4       K24_11_FIC  0.854730  \n",
       "..             ...       ...  \n",
       "76  KL0919_008_FIA  0.885386  \n",
       "77  KL0919_009_FIA  0.888669  \n",
       "78  KL0919_010_FIA  0.887075  \n",
       "79  KL0919_010_FIA  0.887075  \n",
       "80  KL0919_010_FIA  0.887075  \n",
       "\n",
       "[81 rows x 279 columns]"
      ]
     },
     "execution_count": 4,
     "metadata": {},
     "output_type": "execute_result"
    }
   ],
   "source": [
    "df_combo"
   ]
  },
  {
   "cell_type": "markdown",
   "metadata": {},
   "source": [
    "## Lets load over the XH2O correction\n",
    "- This is from DeVitre and Wieser (2024) GPL"
   ]
  },
  {
   "cell_type": "code",
   "execution_count": 6,
   "metadata": {},
   "outputs": [],
   "source": [
    "import pickle\n",
    "# This is the lowest XH2O\n",
    "with open('Pf.pkl', 'rb') as f:\n",
    "    Pf_low = pickle.load(f)\n",
    "\n",
    "# This is the median XH2O\n",
    "with open('Pf3.pkl', 'rb') as f:\n",
    "    Pf_max = pickle.load(f)\n",
    "\n",
    "# This is the Max H2O\n",
    "with open('Pf4.pkl', 'rb') as f:\n",
    "    Pf_med = pickle.load(f)"
   ]
  },
  {
   "cell_type": "markdown",
   "metadata": {},
   "source": [
    "## Lets load over the Temp vs Fo correction\n",
    "- Also from DeVitre and Wieser (2024)"
   ]
  },
  {
   "cell_type": "code",
   "execution_count": 8,
   "metadata": {},
   "outputs": [],
   "source": [
    "with open('TempFoModel.pkl', 'rb') as f:\n",
    "    Pf_TempFo = pickle.load(f)"
   ]
  },
  {
   "cell_type": "code",
   "execution_count": 9,
   "metadata": {},
   "outputs": [],
   "source": [
    "SO2_frac=pf.calculate_mole_fraction_2comp(peak_area_a=df_combo['Peak_Area_SO2'], peak_area_b=df_combo['Diad1_Voigt_Area']+df_combo['Diad2_Voigt_Area'],\n",
    "                                  cross_section_a=5.3, cross_section_b=1.4+0.89, instrument_eff_a=1, instrument_eff_b=1)['% A']"
   ]
  },
  {
   "cell_type": "markdown",
   "metadata": {},
   "source": [
    "## temp "
   ]
  },
  {
   "cell_type": "code",
   "execution_count": 10,
   "metadata": {},
   "outputs": [],
   "source": [
    "\n",
    "df_combo['Temp_from_Fo_all']=Pf_TempFo(df_combo['Fo'])\n",
    "MeanT=np.nanmean(df_combo['Temp_from_Fo_all'])\n",
    "df_combo['Temp_from_Fo_all'] = df_combo['Temp_from_Fo_all'].fillna(MeanT)\n",
    "\n",
    "# Create 'Temp_error' column based on whether 'Temp_from_Fo' is a number\n",
    "df_combo['Temp_error'] = np.where(df_combo['Temp_from_Fo_all'] == MeanT, 100, 50)\n"
   ]
  },
  {
   "cell_type": "code",
   "execution_count": 11,
   "metadata": {},
   "outputs": [
    {
     "data": {
      "text/plain": [
       "37.68691368240039"
      ]
     },
     "execution_count": 11,
     "metadata": {},
     "output_type": "execute_result"
    }
   ],
   "source": [
    "np.nanstd(df_combo['Temp_from_Fo_all'])"
   ]
  },
  {
   "cell_type": "markdown",
   "metadata": {},
   "source": [
    "## Pure CO2 pressure"
   ]
  },
  {
   "cell_type": "code",
   "execution_count": 12,
   "metadata": {},
   "outputs": [
    {
     "data": {
      "text/html": [
       "<div>\n",
       "<style scoped>\n",
       "    .dataframe tbody tr th:only-of-type {\n",
       "        vertical-align: middle;\n",
       "    }\n",
       "\n",
       "    .dataframe tbody tr th {\n",
       "        vertical-align: top;\n",
       "    }\n",
       "\n",
       "    .dataframe thead th {\n",
       "        text-align: right;\n",
       "    }\n",
       "</style>\n",
       "<table border=\"1\" class=\"dataframe\">\n",
       "  <thead>\n",
       "    <tr style=\"text-align: right;\">\n",
       "      <th></th>\n",
       "      <th>P_kbar</th>\n",
       "      <th>P_MPa</th>\n",
       "      <th>T_K</th>\n",
       "      <th>CO2_dens_gcm3</th>\n",
       "    </tr>\n",
       "  </thead>\n",
       "  <tbody>\n",
       "    <tr>\n",
       "      <th>0</th>\n",
       "      <td>0.146670</td>\n",
       "      <td>14.667029</td>\n",
       "      <td>1536.589652</td>\n",
       "      <td>0.048859</td>\n",
       "    </tr>\n",
       "    <tr>\n",
       "      <th>1</th>\n",
       "      <td>0.169413</td>\n",
       "      <td>16.941292</td>\n",
       "      <td>1537.338539</td>\n",
       "      <td>0.056119</td>\n",
       "    </tr>\n",
       "    <tr>\n",
       "      <th>2</th>\n",
       "      <td>0.393081</td>\n",
       "      <td>39.308146</td>\n",
       "      <td>1510.998480</td>\n",
       "      <td>0.125982</td>\n",
       "    </tr>\n",
       "    <tr>\n",
       "      <th>3</th>\n",
       "      <td>0.259715</td>\n",
       "      <td>25.971509</td>\n",
       "      <td>1510.998480</td>\n",
       "      <td>0.085747</td>\n",
       "    </tr>\n",
       "    <tr>\n",
       "      <th>4</th>\n",
       "      <td>0.406249</td>\n",
       "      <td>40.624924</td>\n",
       "      <td>1513.124799</td>\n",
       "      <td>0.129648</td>\n",
       "    </tr>\n",
       "  </tbody>\n",
       "</table>\n",
       "</div>"
      ],
      "text/plain": [
       "     P_kbar      P_MPa          T_K  CO2_dens_gcm3\n",
       "0  0.146670  14.667029  1536.589652       0.048859\n",
       "1  0.169413  16.941292  1537.338539       0.056119\n",
       "2  0.393081  39.308146  1510.998480       0.125982\n",
       "3  0.259715  25.971509  1510.998480       0.085747\n",
       "4  0.406249  40.624924  1513.124799       0.129648"
      ]
     },
     "execution_count": 12,
     "metadata": {},
     "output_type": "execute_result"
    }
   ],
   "source": [
    "P_SW96=pf.calculate_P_for_rho_T(CO2_dens_gcm3=df_combo['Density g/cm3'], \n",
    "                                T_K=df_combo['Temp_from_Fo_all']+273.15, EOS='SW96')\n",
    "P_SW96.head()"
   ]
  },
  {
   "cell_type": "code",
   "execution_count": 13,
   "metadata": {},
   "outputs": [],
   "source": [
    "## Lets calculate XH2O from Kil\n",
    "XH2O_av=1-Pf_med(P_SW96['P_MPa'])\n",
    "XH2O_av[XH2O_av<0]=0.02\n",
    "\n",
    "XH2O_min=1-Pf_low(P_SW96['P_MPa'])\n",
    "XH2O_min[XH2O_min<0]=0.02\n",
    "\n",
    "XH2O_max=1-Pf_max(P_SW96['P_MPa'])\n",
    "XH2O_max[XH2O_max<0]=0.02\n",
    "\n",
    "df_combo['XH2O']=XH2O_av\n",
    "df_combo['XH2O']=df_combo['XH2O'].fillna(0)"
   ]
  },
  {
   "cell_type": "markdown",
   "metadata": {},
   "source": [
    "## CAlculate DZ EOS using the XH2O calc above "
   ]
  },
  {
   "cell_type": "code",
   "execution_count": 14,
   "metadata": {},
   "outputs": [],
   "source": [
    "P_DZ06=pf.calculate_entrapment_P_XH2O(XH2O=XH2O_av, CO2_dens_gcm3=df_combo['Density g/cm3'],\n",
    "                 T_K=df_combo['Temp_from_Fo_all']+273.15, T_K_ambient=37+273.15, fast_calcs=False, Hloss=True)\n",
    "P_DZ06_MinXH2O=pf.calculate_entrapment_P_XH2O(XH2O=XH2O_min, CO2_dens_gcm3=df_combo['Density g/cm3'],\n",
    "                 T_K=df_combo['Temp_from_Fo_all']+273.15, T_K_ambient=37+273.15, fast_calcs=False, Hloss=True)\n",
    "P_DZ06_MaxXH2O=pf.calculate_entrapment_P_XH2O(XH2O=XH2O_max, CO2_dens_gcm3=df_combo['Density g/cm3'],\n",
    "                 T_K=df_combo['Temp_from_Fo_all']+273.15, T_K_ambient=37+273.15, fast_calcs=False, Hloss=True)"
   ]
  },
  {
   "cell_type": "code",
   "execution_count": 15,
   "metadata": {},
   "outputs": [],
   "source": [
    "# Now lets do one more iteration - multiple ones really dont change much. \n",
    "XH2O_av2=1-Pf_med(100*P_DZ06['P_kbar_mixCO2_DZ06_no_Hloss'])\n",
    "XH2O_av2[XH2O_av2<0]=0.02\n",
    "\n",
    "XH2O_min2=1-Pf_low(100*P_DZ06_MinXH2O['P_kbar_mixCO2_DZ06_no_Hloss'])\n",
    "XH2O_min2[XH2O_min2<0]=0.02\n",
    "\n",
    "XH2O_max2=1-Pf_max(100*P_DZ06_MaxXH2O['P_kbar_mixCO2_DZ06_no_Hloss'])\n",
    "XH2O_max2[XH2O_max2<0]=0.02\n",
    "\n",
    "P_DZ062=pf.calculate_entrapment_P_XH2O(XH2O=XH2O_av2, CO2_dens_gcm3=df_combo['Density g/cm3'],\n",
    "                 T_K=df_combo['Temp_from_Fo_all']+273.15, T_K_ambient=37+273.15, fast_calcs=False, Hloss=True)\n",
    "P_DZ06_MinXH2O2=pf.calculate_entrapment_P_XH2O(XH2O=XH2O_min2, CO2_dens_gcm3=df_combo['Density g/cm3'],\n",
    "                 T_K=df_combo['Temp_from_Fo_all']+273.15, T_K_ambient=37+273.15, fast_calcs=False, Hloss=True)\n",
    "P_DZ06_MaxXH2O2=pf.calculate_entrapment_P_XH2O(XH2O=XH2O_max2, CO2_dens_gcm3=df_combo['Density g/cm3'],\n",
    "                 T_K=df_combo['Temp_from_Fo_all']+273.15, T_K_ambient=37+273.15, fast_calcs=False, Hloss=True)\n"
   ]
  },
  {
   "cell_type": "code",
   "execution_count": 16,
   "metadata": {},
   "outputs": [
    {
     "data": {
      "text/plain": [
       "(array([ 6.,  3., 14.,  9.,  5., 13.,  2.,  1., 10., 18.]),\n",
       " array([1194.456105  , 1206.52699167, 1218.59787834, 1230.66876501,\n",
       "        1242.73965168, 1254.81053835, 1266.88142502, 1278.95231169,\n",
       "        1291.02319836, 1303.09408503, 1315.1649717 ]),\n",
       " <BarContainer object of 10 artists>)"
      ]
     },
     "execution_count": 16,
     "metadata": {},
     "output_type": "execute_result"
    },
    {
     "data": {
      "image/png": "[encoded data removed]",
      "text/plain": [
       "<Figure size 640x480 with 1 Axes>"
      ]
     },
     "metadata": {},
     "output_type": "display_data"
    }
   ],
   "source": [
    "plt.hist(df_combo['Temp_from_Fo_all'])"
   ]
  },
  {
   "cell_type": "markdown",
   "metadata": {},
   "source": [
    "## Lets propagate uncertainty"
   ]
  },
  {
   "cell_type": "code",
   "execution_count": 17,
   "metadata": {},
   "outputs": [
    {
     "name": "stdout",
     "output_type": "stream",
     "text": [
      "You have entered a value for XH2O, so we are now using the EOS of Duan and Zhang 200 regardless of what model you selected. If you dont want this, specify XH2O=None\n",
      "Please note, the DZ2006 EOS is about 5-40X slower to run than the SP94 and SW94 EOS\n",
      "We are using multiprocessing based on your selected EOS. You can override this by setting multiprocess=False in the function, but it might slow it down a lot\n",
      "Number of processors:  8\n"
     ]
    }
   ],
   "source": [
    "## Duan and Zhang Error propagate. \n",
    "MC_Av_rho_T_df_B, MC_All_rho_T_df_B, fig=pf.propagate_FI_uncertainty(\n",
    "T_K=df_combo['Temp_from_Fo_all']+273.15,\n",
    "error_T_K=df_combo['Temp_error'], error_type_T_K='Abs', error_dist_T_K='normal',\n",
    "CO2_dens_gcm3=df_combo['Density g/cm3'],error_CO2_dens=df_combo['σ Density g/cm3'], \n",
    "error_type_CO2_dens='Abs', error_dist_CO2_dens='normal',\n",
    "XH2O=XH2O_av, error_XH2O=pd.Series(0.5*np.abs(XH2O_max-XH2O_min)), error_type_XH2O='Abs', error_dist_XH2O='normal',\n",
    "sample_ID=df_combo['filename'],\n",
    "model='denlinger_lerner',\n",
    "N_dup=500, fig_i=0, plot_figure=False)"
   ]
  },
  {
   "cell_type": "code",
   "execution_count": 18,
   "metadata": {},
   "outputs": [],
   "source": [
    "K24=df_combo['filename'].str.contains('K24')\n",
    "U919=df_combo['filename'].str.contains('919')"
   ]
  },
  {
   "cell_type": "code",
   "execution_count": 26,
   "metadata": {},
   "outputs": [
    {
     "data": {
      "text/plain": [
       "Text(0, 0.5, 'Depth (km)')"
      ]
     },
     "execution_count": 26,
     "metadata": {},
     "output_type": "execute_result"
    },
    {
     "data": {
      "image/png": "[encoded data removed]",
      "text/plain": [
       "<Figure size 800x500 with 1 Axes>"
      ]
     },
     "metadata": {},
     "output_type": "display_data"
    }
   ],
   "source": [
    "fig, (ax1) = plt.subplots(1, 1, figsize = (8,5))\n",
    "ax1.errorbar(df_combo['Fo'].loc[K24], MC_Av_rho_T_df_B['SingleCalc_D_km'].loc[K24], xerr=0, yerr=MC_Av_rho_T_df_B['std_dev_MC_D_km_from_percentile'].loc[K24],\n",
    "             fmt='d', ecolor='k', elinewidth=0.8, mfc='cyan', ms=8, mec='k', capsize=3, label='June 2024')\n",
    "ax1.errorbar(df_combo['Fo'].loc[U919], MC_Av_rho_T_df_B['SingleCalc_D_km'].loc[U919], xerr=0, yerr=MC_Av_rho_T_df_B['std_dev_MC_D_km_from_percentile'].loc[U919],\n",
    "             fmt='s', ecolor='k', elinewidth=0.8, mfc='blue', ms=6, mec='k', capsize=3, label='Dec 1974')\n",
    "ax1.legend()\n",
    "ax1.set_xlabel('Fo content of host')\n",
    "ax1.set_ylabel('Depth (km)')"
   ]
  },
  {
   "cell_type": "code",
   "execution_count": null,
   "metadata": {},
   "outputs": [],
   "source": []
  }
 ],
 "metadata": {
  "kernelspec": {
   "display_name": "base",
   "language": "python",
   "name": "python3"
  },
  "language_info": {
   "codemirror_mode": {
    "name": "ipython",
    "version": 3
   },
   "file_extension": ".py",
   "mimetype": "text/x-python",
   "name": "python",
   "nbconvert_exporter": "python",
   "pygments_lexer": "ipython3",
   "version": "3.11.5"
  }
 },
 "nbformat": 4,
 "nbformat_minor": 2
}
