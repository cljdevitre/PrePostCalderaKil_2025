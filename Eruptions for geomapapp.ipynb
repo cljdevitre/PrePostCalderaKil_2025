{
 "cells": [
  {
   "cell_type": "code",
   "execution_count": 1,
   "metadata": {},
   "outputs": [],
   "source": [
    "import pandas as pd\n",
    "\n",
    "# Define eruption locations\n",
    "eruption_data = [\n",
    "    (-155.291963, 19.398634, \"2020\", 'square', 'red'),\n",
    "    (-155.292979, 19.400748, \"2024 Summit\", 'triangle', 'pink'),\n",
    "    (-155.29812, 19.375625, \"2024 SWRZ\", 'circle', 'green'),\n",
    "    (-155.29348,19.37748, \"1974 SWRZ\", 'pentagon', 'yellow'),\n",
    "    (-155.29107,19.38315,  \"Keanakakoi\", 'diamond', 'black'),\n",
    "]\n",
    "\n",
    "# Convert to DataFrame\n",
    "df = pd.DataFrame(eruption_data, columns=[\"Longitude\", \"Latitude\", \"Year\", \"Symbol\", \"Color\"])\n",
    "\n",
    "# Save as CSV\n",
    "df.to_csv(\"Eruptions_Kilauea.csv\", index=False)\n"
   ]
  }
 ],
 "metadata": {
  "kernelspec": {
   "display_name": "py3124",
   "language": "python",
   "name": "python3"
  },
  "language_info": {
   "codemirror_mode": {
    "name": "ipython",
    "version": 3
   },
   "file_extension": ".py",
   "mimetype": "text/x-python",
   "name": "python",
   "nbconvert_exporter": "python",
   "pygments_lexer": "ipython3",
   "version": "3.12.4"
  }
 },
 "nbformat": 4,
 "nbformat_minor": 2
}
