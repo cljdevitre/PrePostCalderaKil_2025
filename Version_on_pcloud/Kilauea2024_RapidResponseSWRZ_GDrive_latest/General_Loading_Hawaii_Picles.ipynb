{
 "cells": [
  {
   "cell_type": "code",
   "execution_count": 1,
   "metadata": {},
   "outputs": [],
   "source": [
    "import pandas as pd\n",
    "import numpy as np\n",
    "import matplotlib.pyplot as plt\n",
    "import DiadFit as pf\n"
   ]
  },
  {
   "cell_type": "code",
   "execution_count": 49,
   "metadata": {},
   "outputs": [
    {
     "name": "stdout",
     "output_type": "stream",
     "text": [
      "Requirement already satisfied: DiadFit in c:\\users\\penny\\anaconda3\\lib\\site-packages (0.0.90)\n",
      "Requirement already satisfied: pandas in c:\\users\\penny\\anaconda3\\lib\\site-packages (from DiadFit) (2.1.4)\n",
      "Requirement already satisfied: numpy<2 in c:\\users\\penny\\anaconda3\\lib\\site-packages (from DiadFit) (1.26.4)\n",
      "Requirement already satisfied: matplotlib in c:\\users\\penny\\anaconda3\\lib\\site-packages (from DiadFit) (3.8.0)\n",
      "Requirement already satisfied: scikit-learn in c:\\users\\penny\\anaconda3\\lib\\site-packages (from DiadFit) (1.5.0)\n",
      "Requirement already satisfied: scipy in c:\\users\\penny\\anaconda3\\lib\\site-packages (from DiadFit) (1.11.4)\n",
      "Requirement already satisfied: lmfit>=1.1.0 in c:\\users\\penny\\anaconda3\\lib\\site-packages (from DiadFit) (1.3.1)\n",
      "Requirement already satisfied: tqdm in c:\\users\\penny\\anaconda3\\lib\\site-packages (from DiadFit) (4.65.0)\n",
      "Requirement already satisfied: python-docx in c:\\users\\penny\\anaconda3\\lib\\site-packages (from DiadFit) (1.1.2)\n",
      "Requirement already satisfied: asteval>=0.9.28 in c:\\users\\penny\\anaconda3\\lib\\site-packages (from lmfit>=1.1.0->DiadFit) (0.9.32)\n",
      "Requirement already satisfied: uncertainties>=3.1.4 in c:\\users\\penny\\anaconda3\\lib\\site-packages (from lmfit>=1.1.0->DiadFit) (3.1.7)\n",
      "Requirement already satisfied: dill>=0.3.4 in c:\\users\\penny\\anaconda3\\lib\\site-packages (from lmfit>=1.1.0->DiadFit) (0.3.7)\n",
      "Requirement already satisfied: contourpy>=1.0.1 in c:\\users\\penny\\anaconda3\\lib\\site-packages (from matplotlib->DiadFit) (1.2.0)\n",
      "Requirement already satisfied: cycler>=0.10 in c:\\users\\penny\\anaconda3\\lib\\site-packages (from matplotlib->DiadFit) (0.11.0)\n",
      "Requirement already satisfied: fonttools>=4.22.0 in c:\\users\\penny\\anaconda3\\lib\\site-packages (from matplotlib->DiadFit) (4.25.0)\n",
      "Requirement already satisfied: kiwisolver>=1.0.1 in c:\\users\\penny\\anaconda3\\lib\\site-packages (from matplotlib->DiadFit) (1.4.4)\n",
      "Requirement already satisfied: packaging>=20.0 in c:\\users\\penny\\anaconda3\\lib\\site-packages (from matplotlib->DiadFit) (23.1)\n",
      "Requirement already satisfied: pillow>=6.2.0 in c:\\users\\penny\\anaconda3\\lib\\site-packages (from matplotlib->DiadFit) (10.2.0)\n",
      "Requirement already satisfied: pyparsing>=2.3.1 in c:\\users\\penny\\anaconda3\\lib\\site-packages (from matplotlib->DiadFit) (3.0.9)\n",
      "Requirement already satisfied: python-dateutil>=2.7 in c:\\users\\penny\\anaconda3\\lib\\site-packages (from matplotlib->DiadFit) (2.8.2)\n",
      "Requirement already satisfied: pytz>=2020.1 in c:\\users\\penny\\anaconda3\\lib\\site-packages (from pandas->DiadFit) (2023.3.post1)\n",
      "Requirement already satisfied: tzdata>=2022.1 in c:\\users\\penny\\anaconda3\\lib\\site-packages (from pandas->DiadFit) (2023.3)\n",
      "Requirement already satisfied: lxml>=3.1.0 in c:\\users\\penny\\anaconda3\\lib\\site-packages (from python-docx->DiadFit) (4.9.3)\n",
      "Requirement already satisfied: typing-extensions>=4.9.0 in c:\\users\\penny\\anaconda3\\lib\\site-packages (from python-docx->DiadFit) (4.9.0)\n",
      "Requirement already satisfied: joblib>=1.2.0 in c:\\users\\penny\\anaconda3\\lib\\site-packages (from scikit-learn->DiadFit) (1.2.0)\n",
      "Requirement already satisfied: threadpoolctl>=3.1.0 in c:\\users\\penny\\anaconda3\\lib\\site-packages (from scikit-learn->DiadFit) (3.5.0)\n",
      "Requirement already satisfied: colorama in c:\\users\\penny\\anaconda3\\lib\\site-packages (from tqdm->DiadFit) (0.4.6)\n",
      "Requirement already satisfied: six>=1.5 in c:\\users\\penny\\anaconda3\\lib\\site-packages (from python-dateutil>=2.7->matplotlib->DiadFit) (1.16.0)\n",
      "Requirement already satisfied: future in c:\\users\\penny\\anaconda3\\lib\\site-packages (from uncertainties>=3.1.4->lmfit>=1.1.0->DiadFit) (0.18.3)\n"
     ]
    }
   ],
   "source": [
    "#!pip install --upgrade DiadFit"
   ]
  },
  {
   "cell_type": "code",
   "execution_count": 2,
   "metadata": {},
   "outputs": [
    {
     "data": {
      "text/plain": [
       "149"
      ]
     },
     "execution_count": 2,
     "metadata": {},
     "output_type": "execute_result"
    }
   ],
   "source": [
    "df_combo=pd.read_excel('Raman_SEM_Merged.xlsx')\n",
    "df_combo=df_combo.loc[df_combo['Fo']>0].reset_index(drop=True)\n",
    "len(df_combo)"
   ]
  },
  {
   "cell_type": "code",
   "execution_count": 3,
   "metadata": {},
   "outputs": [
    {
     "data": {
      "text/html": [
       "<div>\n",
       "<style scoped>\n",
       "    .dataframe tbody tr th:only-of-type {\n",
       "        vertical-align: middle;\n",
       "    }\n",
       "\n",
       "    .dataframe tbody tr th {\n",
       "        vertical-align: top;\n",
       "    }\n",
       "\n",
       "    .dataframe thead th {\n",
       "        text-align: right;\n",
       "    }\n",
       "</style>\n",
       "<table border=\"1\" class=\"dataframe\">\n",
       "  <thead>\n",
       "    <tr style=\"text-align: right;\">\n",
       "      <th></th>\n",
       "      <th>Unnamed: 0.1</th>\n",
       "      <th>Unnamed: 0</th>\n",
       "      <th>Mount</th>\n",
       "      <th>filename</th>\n",
       "      <th>Name_on_SEM</th>\n",
       "      <th>Notes regarding SEM matching</th>\n",
       "      <th>Unnamed: 5</th>\n",
       "      <th>Density g/cm3</th>\n",
       "      <th>σ Density g/cm3</th>\n",
       "      <th>σ Density g/cm3 (from Ne+peakfit)</th>\n",
       "      <th>...</th>\n",
       "      <th>Line_Si</th>\n",
       "      <th>Line_Ca</th>\n",
       "      <th>Line_Mn</th>\n",
       "      <th>Line_Fe</th>\n",
       "      <th>Line_Ni</th>\n",
       "      <th>Line_Al</th>\n",
       "      <th>Line_Ti</th>\n",
       "      <th>Line_Cr</th>\n",
       "      <th>SampleID</th>\n",
       "      <th>Fo</th>\n",
       "    </tr>\n",
       "  </thead>\n",
       "  <tbody>\n",
       "    <tr>\n",
       "      <th>0</th>\n",
       "      <td>9</td>\n",
       "      <td>9</td>\n",
       "      <td>A</td>\n",
       "      <td>K24_10_FIA</td>\n",
       "      <td>K24_10_FIA</td>\n",
       "      <td>NaN</td>\n",
       "      <td>K24_10_FIA</td>\n",
       "      <td>0.048859</td>\n",
       "      <td>0.004082</td>\n",
       "      <td>0.001386</td>\n",
       "      <td>...</td>\n",
       "      <td>K series</td>\n",
       "      <td>K series</td>\n",
       "      <td>K series</td>\n",
       "      <td>K series</td>\n",
       "      <td>Kα</td>\n",
       "      <td>NaN</td>\n",
       "      <td>NaN</td>\n",
       "      <td>NaN</td>\n",
       "      <td>K24_10_FIA</td>\n",
       "      <td>0.854767</td>\n",
       "    </tr>\n",
       "    <tr>\n",
       "      <th>1</th>\n",
       "      <td>10</td>\n",
       "      <td>10</td>\n",
       "      <td>A</td>\n",
       "      <td>K24_10_FIB</td>\n",
       "      <td>K24_10_FIB</td>\n",
       "      <td>NaN</td>\n",
       "      <td>K24_10_FIB</td>\n",
       "      <td>0.056119</td>\n",
       "      <td>0.004361</td>\n",
       "      <td>0.002092</td>\n",
       "      <td>...</td>\n",
       "      <td>K series</td>\n",
       "      <td>K series</td>\n",
       "      <td>K series</td>\n",
       "      <td>K series</td>\n",
       "      <td>Kα</td>\n",
       "      <td>NaN</td>\n",
       "      <td>NaN</td>\n",
       "      <td>NaN</td>\n",
       "      <td>K24_10_FIB</td>\n",
       "      <td>0.867048</td>\n",
       "    </tr>\n",
       "    <tr>\n",
       "      <th>2</th>\n",
       "      <td>11</td>\n",
       "      <td>11</td>\n",
       "      <td>A</td>\n",
       "      <td>K24_11_FIA</td>\n",
       "      <td>K24_11_FIA,B</td>\n",
       "      <td>NaN</td>\n",
       "      <td>K24_11_FIA</td>\n",
       "      <td>0.125982</td>\n",
       "      <td>0.004292</td>\n",
       "      <td>0.001919</td>\n",
       "      <td>...</td>\n",
       "      <td>K series</td>\n",
       "      <td>K series</td>\n",
       "      <td>K series</td>\n",
       "      <td>K series</td>\n",
       "      <td>Kα</td>\n",
       "      <td>NaN</td>\n",
       "      <td>NaN</td>\n",
       "      <td>NaN</td>\n",
       "      <td>K24_11_FIA,B</td>\n",
       "      <td>0.853562</td>\n",
       "    </tr>\n",
       "    <tr>\n",
       "      <th>3</th>\n",
       "      <td>12</td>\n",
       "      <td>12</td>\n",
       "      <td>A</td>\n",
       "      <td>K24_11_FIB</td>\n",
       "      <td>K24_11_FIA,B</td>\n",
       "      <td>NaN</td>\n",
       "      <td>K24_11_FIB</td>\n",
       "      <td>0.085747</td>\n",
       "      <td>0.012513</td>\n",
       "      <td>0.011921</td>\n",
       "      <td>...</td>\n",
       "      <td>K series</td>\n",
       "      <td>K series</td>\n",
       "      <td>K series</td>\n",
       "      <td>K series</td>\n",
       "      <td>Kα</td>\n",
       "      <td>NaN</td>\n",
       "      <td>NaN</td>\n",
       "      <td>NaN</td>\n",
       "      <td>K24_11_FIA,B</td>\n",
       "      <td>0.853562</td>\n",
       "    </tr>\n",
       "    <tr>\n",
       "      <th>4</th>\n",
       "      <td>13</td>\n",
       "      <td>13</td>\n",
       "      <td>A</td>\n",
       "      <td>K24_11_FIC</td>\n",
       "      <td>K24_11_FIC</td>\n",
       "      <td>NaN</td>\n",
       "      <td>K24_11_FIC</td>\n",
       "      <td>0.129648</td>\n",
       "      <td>0.004284</td>\n",
       "      <td>0.001886</td>\n",
       "      <td>...</td>\n",
       "      <td>K series</td>\n",
       "      <td>K series</td>\n",
       "      <td>K series</td>\n",
       "      <td>K series</td>\n",
       "      <td>Kα</td>\n",
       "      <td>NaN</td>\n",
       "      <td>NaN</td>\n",
       "      <td>NaN</td>\n",
       "      <td>K24_11_FIC</td>\n",
       "      <td>0.854732</td>\n",
       "    </tr>\n",
       "    <tr>\n",
       "      <th>...</th>\n",
       "      <td>...</td>\n",
       "      <td>...</td>\n",
       "      <td>...</td>\n",
       "      <td>...</td>\n",
       "      <td>...</td>\n",
       "      <td>...</td>\n",
       "      <td>...</td>\n",
       "      <td>...</td>\n",
       "      <td>...</td>\n",
       "      <td>...</td>\n",
       "      <td>...</td>\n",
       "      <td>...</td>\n",
       "      <td>...</td>\n",
       "      <td>...</td>\n",
       "      <td>...</td>\n",
       "      <td>...</td>\n",
       "      <td>...</td>\n",
       "      <td>...</td>\n",
       "      <td>...</td>\n",
       "      <td>...</td>\n",
       "      <td>...</td>\n",
       "    </tr>\n",
       "    <tr>\n",
       "      <th>144</th>\n",
       "      <td>163</td>\n",
       "      <td>163</td>\n",
       "      <td>NaN</td>\n",
       "      <td>K24_40_FIA</td>\n",
       "      <td>K24_40_FIA</td>\n",
       "      <td>NaN</td>\n",
       "      <td>K24_40_FIA</td>\n",
       "      <td>0.113685</td>\n",
       "      <td>0.004704</td>\n",
       "      <td>0.002748</td>\n",
       "      <td>...</td>\n",
       "      <td>K series</td>\n",
       "      <td>K series</td>\n",
       "      <td>K series</td>\n",
       "      <td>K series</td>\n",
       "      <td>Kα</td>\n",
       "      <td>NaN</td>\n",
       "      <td>NaN</td>\n",
       "      <td>NaN</td>\n",
       "      <td>K24_40_FIA</td>\n",
       "      <td>0.888021</td>\n",
       "    </tr>\n",
       "    <tr>\n",
       "      <th>145</th>\n",
       "      <td>164</td>\n",
       "      <td>164</td>\n",
       "      <td>NaN</td>\n",
       "      <td>K24_40_FIB</td>\n",
       "      <td>K24_40_core</td>\n",
       "      <td>NaN</td>\n",
       "      <td>K24_40_FIB</td>\n",
       "      <td>0.127505</td>\n",
       "      <td>0.004580</td>\n",
       "      <td>0.002494</td>\n",
       "      <td>...</td>\n",
       "      <td>K series</td>\n",
       "      <td>K series</td>\n",
       "      <td>K series</td>\n",
       "      <td>K series</td>\n",
       "      <td>Kα</td>\n",
       "      <td>NaN</td>\n",
       "      <td>NaN</td>\n",
       "      <td>NaN</td>\n",
       "      <td>K24_40_core</td>\n",
       "      <td>0.890827</td>\n",
       "    </tr>\n",
       "    <tr>\n",
       "      <th>146</th>\n",
       "      <td>165</td>\n",
       "      <td>165</td>\n",
       "      <td>NaN</td>\n",
       "      <td>KL0919-013-A-rep2-6mW</td>\n",
       "      <td>KL0919_013_FIA</td>\n",
       "      <td>NaN</td>\n",
       "      <td>919_013_A_rep2_6mW</td>\n",
       "      <td>0.429251</td>\n",
       "      <td>0.005502</td>\n",
       "      <td>0.004975</td>\n",
       "      <td>...</td>\n",
       "      <td>K series</td>\n",
       "      <td>K series</td>\n",
       "      <td>K series</td>\n",
       "      <td>K series</td>\n",
       "      <td>Kα</td>\n",
       "      <td>NaN</td>\n",
       "      <td>NaN</td>\n",
       "      <td>NaN</td>\n",
       "      <td>KL0919_013_FIA</td>\n",
       "      <td>0.887041</td>\n",
       "    </tr>\n",
       "    <tr>\n",
       "      <th>147</th>\n",
       "      <td>166</td>\n",
       "      <td>166</td>\n",
       "      <td>NaN</td>\n",
       "      <td>KL0919-013-B-rep2-6mW</td>\n",
       "      <td>KL0919_013_FIB</td>\n",
       "      <td>NaN</td>\n",
       "      <td>919_013_B_rep2_6mW</td>\n",
       "      <td>0.387546</td>\n",
       "      <td>0.003067</td>\n",
       "      <td>0.001973</td>\n",
       "      <td>...</td>\n",
       "      <td>K series</td>\n",
       "      <td>K series</td>\n",
       "      <td>K series</td>\n",
       "      <td>K series</td>\n",
       "      <td>Kα</td>\n",
       "      <td>NaN</td>\n",
       "      <td>NaN</td>\n",
       "      <td>NaN</td>\n",
       "      <td>KL0919_013_FIB</td>\n",
       "      <td>0.887478</td>\n",
       "    </tr>\n",
       "    <tr>\n",
       "      <th>148</th>\n",
       "      <td>167</td>\n",
       "      <td>167</td>\n",
       "      <td>NaN</td>\n",
       "      <td>KL0919-013-C-rep2-6mW</td>\n",
       "      <td>KL0919_013_FIC_away</td>\n",
       "      <td>NaN</td>\n",
       "      <td>919_013_C_rep2_6mW</td>\n",
       "      <td>0.374186</td>\n",
       "      <td>0.002926</td>\n",
       "      <td>0.001746</td>\n",
       "      <td>...</td>\n",
       "      <td>K series</td>\n",
       "      <td>K series</td>\n",
       "      <td>K series</td>\n",
       "      <td>K series</td>\n",
       "      <td>Kα</td>\n",
       "      <td>NaN</td>\n",
       "      <td>NaN</td>\n",
       "      <td>NaN</td>\n",
       "      <td>KL0919_013_FIC_away</td>\n",
       "      <td>0.889405</td>\n",
       "    </tr>\n",
       "  </tbody>\n",
       "</table>\n",
       "<p>149 rows × 266 columns</p>\n",
       "</div>"
      ],
      "text/plain": [
       "     Unnamed: 0.1  Unnamed: 0 Mount               filename  \\\n",
       "0               9           9     A             K24_10_FIA   \n",
       "1              10          10     A             K24_10_FIB   \n",
       "2              11          11     A             K24_11_FIA   \n",
       "3              12          12     A             K24_11_FIB   \n",
       "4              13          13     A             K24_11_FIC   \n",
       "..            ...         ...   ...                    ...   \n",
       "144           163         163   NaN             K24_40_FIA   \n",
       "145           164         164   NaN             K24_40_FIB   \n",
       "146           165         165   NaN  KL0919-013-A-rep2-6mW   \n",
       "147           166         166   NaN  KL0919-013-B-rep2-6mW   \n",
       "148           167         167   NaN  KL0919-013-C-rep2-6mW   \n",
       "\n",
       "             Name_on_SEM Notes regarding SEM matching          Unnamed: 5  \\\n",
       "0             K24_10_FIA                          NaN          K24_10_FIA   \n",
       "1             K24_10_FIB                          NaN          K24_10_FIB   \n",
       "2           K24_11_FIA,B                          NaN          K24_11_FIA   \n",
       "3           K24_11_FIA,B                          NaN          K24_11_FIB   \n",
       "4             K24_11_FIC                          NaN          K24_11_FIC   \n",
       "..                   ...                          ...                 ...   \n",
       "144           K24_40_FIA                          NaN          K24_40_FIA   \n",
       "145          K24_40_core                          NaN          K24_40_FIB   \n",
       "146       KL0919_013_FIA                          NaN  919_013_A_rep2_6mW   \n",
       "147       KL0919_013_FIB                          NaN  919_013_B_rep2_6mW   \n",
       "148  KL0919_013_FIC_away                          NaN  919_013_C_rep2_6mW   \n",
       "\n",
       "     Density g/cm3  σ Density g/cm3  σ Density g/cm3 (from Ne+peakfit)  ...  \\\n",
       "0         0.048859         0.004082                           0.001386  ...   \n",
       "1         0.056119         0.004361                           0.002092  ...   \n",
       "2         0.125982         0.004292                           0.001919  ...   \n",
       "3         0.085747         0.012513                           0.011921  ...   \n",
       "4         0.129648         0.004284                           0.001886  ...   \n",
       "..             ...              ...                                ...  ...   \n",
       "144       0.113685         0.004704                           0.002748  ...   \n",
       "145       0.127505         0.004580                           0.002494  ...   \n",
       "146       0.429251         0.005502                           0.004975  ...   \n",
       "147       0.387546         0.003067                           0.001973  ...   \n",
       "148       0.374186         0.002926                           0.001746  ...   \n",
       "\n",
       "      Line_Si   Line_Ca   Line_Mn   Line_Fe  Line_Ni  Line_Al  Line_Ti  \\\n",
       "0    K series  K series  K series  K series       Kα      NaN      NaN   \n",
       "1    K series  K series  K series  K series       Kα      NaN      NaN   \n",
       "2    K series  K series  K series  K series       Kα      NaN      NaN   \n",
       "3    K series  K series  K series  K series       Kα      NaN      NaN   \n",
       "4    K series  K series  K series  K series       Kα      NaN      NaN   \n",
       "..        ...       ...       ...       ...      ...      ...      ...   \n",
       "144  K series  K series  K series  K series       Kα      NaN      NaN   \n",
       "145  K series  K series  K series  K series       Kα      NaN      NaN   \n",
       "146  K series  K series  K series  K series       Kα      NaN      NaN   \n",
       "147  K series  K series  K series  K series       Kα      NaN      NaN   \n",
       "148  K series  K series  K series  K series       Kα      NaN      NaN   \n",
       "\n",
       "     Line_Cr             SampleID        Fo  \n",
       "0        NaN           K24_10_FIA  0.854767  \n",
       "1        NaN           K24_10_FIB  0.867048  \n",
       "2        NaN         K24_11_FIA,B  0.853562  \n",
       "3        NaN         K24_11_FIA,B  0.853562  \n",
       "4        NaN           K24_11_FIC  0.854732  \n",
       "..       ...                  ...       ...  \n",
       "144      NaN           K24_40_FIA  0.888021  \n",
       "145      NaN          K24_40_core  0.890827  \n",
       "146      NaN       KL0919_013_FIA  0.887041  \n",
       "147      NaN       KL0919_013_FIB  0.887478  \n",
       "148      NaN  KL0919_013_FIC_away  0.889405  \n",
       "\n",
       "[149 rows x 266 columns]"
      ]
     },
     "execution_count": 3,
     "metadata": {},
     "output_type": "execute_result"
    }
   ],
   "source": [
    "df_combo"
   ]
  },
  {
   "cell_type": "markdown",
   "metadata": {},
   "source": [
    "## Lets load over the XH2O correction\n",
    "- This is from DeVitre and Wieser (2024) GPL"
   ]
  },
  {
   "cell_type": "code",
   "execution_count": 4,
   "metadata": {},
   "outputs": [],
   "source": [
    "import pickle\n",
    "# This is the lowest XH2O\n",
    "with open('C:\\\\Users\\\\penny\\\\Box\\\\Berkeley_new\\\\Finished_VIBE_Projects\\\\DeVitre_MI_FI_Comparison\\\\Pf.pkl', 'rb') as f:\n",
    "    Pf_low = pickle.load(f)\n",
    "\n",
    "# This is the median XH2O\n",
    "with open('C:\\\\Users\\\\penny\\\\Box\\\\Berkeley_new\\\\Finished_VIBE_Projects\\\\DeVitre_MI_FI_Comparison\\\\Pf3.pkl', 'rb') as f:\n",
    "    Pf_max = pickle.load(f)\n",
    "\n",
    "# This is the median XH2O - pressure  relationship. \n",
    "with open('C:\\\\Users\\\\penny\\\\Box\\\\Berkeley_new\\\\Finished_VIBE_Projects\\\\DeVitre_MI_FI_Comparison\\\\Pf4.pkl', 'rb') as f:\n",
    "    Pf_med = pickle.load(f)\n",
    "\n",
    "# And its defined as XH2O_av=1-Pf_med(P_SW96['P_MPa'])"
   ]
  },
  {
   "cell_type": "code",
   "execution_count": 5,
   "metadata": {},
   "outputs": [
    {
     "data": {
      "text/plain": [
       "0.055096024995448634"
      ]
     },
     "execution_count": 5,
     "metadata": {},
     "output_type": "execute_result"
    }
   ],
   "source": [
    "1-Pf_max(100)"
   ]
  },
  {
   "cell_type": "code",
   "execution_count": 6,
   "metadata": {},
   "outputs": [
    {
     "data": {
      "text/plain": [
       "0.03426100203814175"
      ]
     },
     "execution_count": 6,
     "metadata": {},
     "output_type": "execute_result"
    }
   ],
   "source": [
    "1-Pf_med(100)"
   ]
  },
  {
   "cell_type": "code",
   "execution_count": 7,
   "metadata": {},
   "outputs": [
    {
     "data": {
      "text/plain": [
       "0.013905453706570592"
      ]
     },
     "execution_count": 7,
     "metadata": {},
     "output_type": "execute_result"
    }
   ],
   "source": [
    "1-Pf_low(100)"
   ]
  },
  {
   "cell_type": "markdown",
   "metadata": {},
   "source": [
    "## Lets load over the Temp vs Fo correction\n",
    "- Also from DeVitre and Wieser (2024)"
   ]
  },
  {
   "cell_type": "code",
   "execution_count": 8,
   "metadata": {},
   "outputs": [],
   "source": [
    "with open('TempFoModel.pkl', 'rb') as f:\n",
    "    Pf_TempFo = pickle.load(f)"
   ]
  },
  {
   "cell_type": "code",
   "execution_count": 9,
   "metadata": {},
   "outputs": [],
   "source": [
    "SO2_frac=pf.calculate_mole_fraction_2comp(peak_area_a=df_combo['Peak_Area_SO2'], peak_area_b=df_combo['Diad1_Voigt_Area']+df_combo['Diad2_Voigt_Area'],\n",
    "                                  cross_section_a=5.3, cross_section_b=1.4+0.89, instrument_eff_a=1, instrument_eff_b=1)['% A']"
   ]
  },
  {
   "cell_type": "markdown",
   "metadata": {},
   "source": [
    "## temp "
   ]
  },
  {
   "cell_type": "code",
   "execution_count": 10,
   "metadata": {},
   "outputs": [],
   "source": [
    "\n",
    "df_combo['Temp_from_Fo_all']=Pf_TempFo(df_combo['Fo'])\n",
    "MeanT=np.nanmean(df_combo['Temp_from_Fo_all'])\n",
    "df_combo['Temp_from_Fo_all'] = df_combo['Temp_from_Fo_all'].fillna(MeanT)\n",
    "\n",
    "# Create 'Temp_error' column based on whether 'Temp_from_Fo' is a number\n",
    "df_combo['Temp_error'] = np.where(df_combo['Temp_from_Fo_all'] == MeanT, 100, 50)\n"
   ]
  },
  {
   "cell_type": "code",
   "execution_count": 11,
   "metadata": {},
   "outputs": [
    {
     "data": {
      "text/plain": [
       "36.79809381905391"
      ]
     },
     "execution_count": 11,
     "metadata": {},
     "output_type": "execute_result"
    }
   ],
   "source": [
    "np.nanstd(df_combo['Temp_from_Fo_all'])"
   ]
  },
  {
   "cell_type": "markdown",
   "metadata": {},
   "source": [
    "## Pure CO2 pressure"
   ]
  },
  {
   "cell_type": "code",
   "execution_count": 12,
   "metadata": {},
   "outputs": [
    {
     "data": {
      "text/html": [
       "<div>\n",
       "<style scoped>\n",
       "    .dataframe tbody tr th:only-of-type {\n",
       "        vertical-align: middle;\n",
       "    }\n",
       "\n",
       "    .dataframe tbody tr th {\n",
       "        vertical-align: top;\n",
       "    }\n",
       "\n",
       "    .dataframe thead th {\n",
       "        text-align: right;\n",
       "    }\n",
       "</style>\n",
       "<table border=\"1\" class=\"dataframe\">\n",
       "  <thead>\n",
       "    <tr style=\"text-align: right;\">\n",
       "      <th></th>\n",
       "      <th>P_kbar</th>\n",
       "      <th>P_MPa</th>\n",
       "      <th>T_K</th>\n",
       "      <th>CO2_dens_gcm3</th>\n",
       "    </tr>\n",
       "  </thead>\n",
       "  <tbody>\n",
       "    <tr>\n",
       "      <th>0</th>\n",
       "      <td>0.144386</td>\n",
       "      <td>14.438553</td>\n",
       "      <td>1513.193250</td>\n",
       "      <td>0.048859</td>\n",
       "    </tr>\n",
       "    <tr>\n",
       "      <th>1</th>\n",
       "      <td>0.169413</td>\n",
       "      <td>16.941292</td>\n",
       "      <td>1537.338539</td>\n",
       "      <td>0.056119</td>\n",
       "    </tr>\n",
       "    <tr>\n",
       "      <th>2</th>\n",
       "      <td>0.393081</td>\n",
       "      <td>39.308146</td>\n",
       "      <td>1510.998480</td>\n",
       "      <td>0.125982</td>\n",
       "    </tr>\n",
       "    <tr>\n",
       "      <th>3</th>\n",
       "      <td>0.259715</td>\n",
       "      <td>25.971509</td>\n",
       "      <td>1510.998480</td>\n",
       "      <td>0.085747</td>\n",
       "    </tr>\n",
       "    <tr>\n",
       "      <th>4</th>\n",
       "      <td>0.406250</td>\n",
       "      <td>40.625050</td>\n",
       "      <td>1513.129226</td>\n",
       "      <td>0.129648</td>\n",
       "    </tr>\n",
       "  </tbody>\n",
       "</table>\n",
       "</div>"
      ],
      "text/plain": [
       "     P_kbar      P_MPa          T_K  CO2_dens_gcm3\n",
       "0  0.144386  14.438553  1513.193250       0.048859\n",
       "1  0.169413  16.941292  1537.338539       0.056119\n",
       "2  0.393081  39.308146  1510.998480       0.125982\n",
       "3  0.259715  25.971509  1510.998480       0.085747\n",
       "4  0.406250  40.625050  1513.129226       0.129648"
      ]
     },
     "execution_count": 12,
     "metadata": {},
     "output_type": "execute_result"
    }
   ],
   "source": [
    "P_SW96=pf.calculate_P_for_rho_T(CO2_dens_gcm3=df_combo['Density g/cm3'], \n",
    "                                T_K=df_combo['Temp_from_Fo_all']+273.15, EOS='SW96')\n",
    "P_SW96.head()"
   ]
  },
  {
   "cell_type": "code",
   "execution_count": 13,
   "metadata": {},
   "outputs": [],
   "source": [
    "## Lets calculate XH2O from Kil\n",
    "XH2O_av=1-Pf_med(P_SW96['P_MPa'])\n",
    "XH2O_av[XH2O_av<0]=0.02\n",
    "\n",
    "XH2O_min=1-Pf_low(P_SW96['P_MPa'])\n",
    "XH2O_min[XH2O_min<0]=0.02\n",
    "\n",
    "XH2O_max=1-Pf_max(P_SW96['P_MPa'])\n",
    "XH2O_max[XH2O_max<0]=0.02\n",
    "\n",
    "df_combo['XH2O']=XH2O_av\n",
    "df_combo['XH2O']=df_combo['XH2O'].fillna(0)"
   ]
  },
  {
   "cell_type": "markdown",
   "metadata": {},
   "source": [
    "## CAlculate DZ EOS using the XH2O calc above "
   ]
  },
  {
   "cell_type": "code",
   "execution_count": 14,
   "metadata": {},
   "outputs": [],
   "source": [
    "P_DZ06=pf.calculate_entrapment_P_XH2O(XH2O=XH2O_av, CO2_dens_gcm3=df_combo['Density g/cm3'],\n",
    "                 T_K=df_combo['Temp_from_Fo_all']+273.15, T_K_ambient=37+273.15, fast_calcs=False, Hloss=True)\n",
    "P_DZ06_MinXH2O=pf.calculate_entrapment_P_XH2O(XH2O=XH2O_min, CO2_dens_gcm3=df_combo['Density g/cm3'],\n",
    "                 T_K=df_combo['Temp_from_Fo_all']+273.15, T_K_ambient=37+273.15, fast_calcs=False, Hloss=True)\n",
    "P_DZ06_MaxXH2O=pf.calculate_entrapment_P_XH2O(XH2O=XH2O_max, CO2_dens_gcm3=df_combo['Density g/cm3'],\n",
    "                 T_K=df_combo['Temp_from_Fo_all']+273.15, T_K_ambient=37+273.15, fast_calcs=False, Hloss=True)"
   ]
  },
  {
   "cell_type": "code",
   "execution_count": 15,
   "metadata": {},
   "outputs": [],
   "source": [
    "# Now lets do one more iteration - multiple ones really dont change much. \n",
    "XH2O_av2=1-Pf_med(100*P_DZ06['P_kbar_mixCO2_DZ06_no_Hloss'])\n",
    "XH2O_av2[XH2O_av2<0]=0.02\n",
    "\n",
    "XH2O_min2=1-Pf_low(100*P_DZ06_MinXH2O['P_kbar_mixCO2_DZ06_no_Hloss'])\n",
    "XH2O_min2[XH2O_min2<0]=0.02\n",
    "\n",
    "XH2O_max2=1-Pf_max(100*P_DZ06_MaxXH2O['P_kbar_mixCO2_DZ06_no_Hloss'])\n",
    "XH2O_max2[XH2O_max2<0]=0.02\n",
    "\n",
    "P_DZ062=pf.calculate_entrapment_P_XH2O(XH2O=XH2O_av2, CO2_dens_gcm3=df_combo['Density g/cm3'],\n",
    "                 T_K=df_combo['Temp_from_Fo_all']+273.15, T_K_ambient=37+273.15, fast_calcs=False, Hloss=True)\n",
    "P_DZ06_MinXH2O2=pf.calculate_entrapment_P_XH2O(XH2O=XH2O_min2, CO2_dens_gcm3=df_combo['Density g/cm3'],\n",
    "                 T_K=df_combo['Temp_from_Fo_all']+273.15, T_K_ambient=37+273.15, fast_calcs=False, Hloss=True)\n",
    "P_DZ06_MaxXH2O2=pf.calculate_entrapment_P_XH2O(XH2O=XH2O_max2, CO2_dens_gcm3=df_combo['Density g/cm3'],\n",
    "                 T_K=df_combo['Temp_from_Fo_all']+273.15, T_K_ambient=37+273.15, fast_calcs=False, Hloss=True)\n"
   ]
  },
  {
   "cell_type": "code",
   "execution_count": 69,
   "metadata": {},
   "outputs": [
    {
     "data": {
      "text/plain": [
       "[<matplotlib.lines.Line2D at 0x1d158bedf10>]"
      ]
     },
     "execution_count": 69,
     "metadata": {},
     "output_type": "execute_result"
    },
    {
     "data": {
      "image/png": "[encoded data removed]",
      "text/plain": [
       "<Figure size 640x480 with 1 Axes>"
      ]
     },
     "metadata": {},
     "output_type": "display_data"
    }
   ],
   "source": [
    "plt.plot(df_combo['Fo'], df_combo['Temp_from_Fo_all'], '.r')"
   ]
  },
  {
   "cell_type": "markdown",
   "metadata": {},
   "source": [
    "## Lets propagate uncertainty"
   ]
  },
  {
   "cell_type": "code",
   "execution_count": 17,
   "metadata": {},
   "outputs": [
    {
     "name": "stdout",
     "output_type": "stream",
     "text": [
      "You have entered a value for XH2O, so we are now using the EOS of Duan and Zhang 2006. If you dont want this, specify XH2O=None\n",
      "Please note, the DZ2006 EOS is about 5-40X slower to run than the SP94 and SW94 EOS\n"
     ]
    },
    {
     "name": "stderr",
     "output_type": "stream",
     "text": [
      "Processing: 100%|██████████| 149/149 [04:37<00:00,  1.86s/it]\n"
     ]
    }
   ],
   "source": [
    "## Duan and Zhang Error propagate. \n",
    "MC_Av_rho_T_df_B, MC_All_rho_T_df_B, fig=pf.propagate_FI_uncertainty(\n",
    "T_K=df_combo['Temp_from_Fo_all']+273.15,\n",
    "error_T_K=df_combo['Temp_error'], error_type_T_K='Abs', error_dist_T_K='normal',\n",
    "CO2_dens_gcm3=df_combo['Density g/cm3'],error_CO2_dens=df_combo['σ Density g/cm3'], \n",
    "error_type_CO2_dens='Abs', error_dist_CO2_dens='normal',\n",
    "XH2O=XH2O_av, error_XH2O=pd.Series(0.5*np.abs(XH2O_max-XH2O_min)), error_type_XH2O='Abs', error_dist_XH2O='normal',\n",
    "sample_ID=df_combo['filename'],\n",
    "model='denlinger_lerner',\n",
    "N_dup=500, fig_i=0, plot_figure=False)"
   ]
  },
  {
   "cell_type": "code",
   "execution_count": 20,
   "metadata": {},
   "outputs": [],
   "source": [
    "K24=df_combo['filename'].str.contains('K24')\n",
    "U919=df_combo['filename'].str.contains('919')"
   ]
  },
  {
   "cell_type": "code",
   "execution_count": null,
   "metadata": {},
   "outputs": [],
   "source": [
    "df_combo['Fo']=df_combo['Fo'].fillna(0.9)"
   ]
  },
  {
   "cell_type": "code",
   "execution_count": 23,
   "metadata": {},
   "outputs": [],
   "source": [
    "import Thermobar as pt"
   ]
  },
  {
   "cell_type": "markdown",
   "metadata": {},
   "source": [
    "## Lets get the equilibrium Olivine Fo contents here "
   ]
  },
  {
   "cell_type": "code",
   "execution_count": 25,
   "metadata": {},
   "outputs": [],
   "source": [
    "Ulu_MG_input=pt.import_excel(r'G:\\My Drive\\Kilauea2024_RapidResponseSWRZ\\1974_olivine_glass_data\\UluData.xlsx',\n",
    "                         sheet_name='Matrix Glass')\n",
    "Ulu_all=Ulu_MG_input['my_input'] ## All columns\n",
    "Ulu_Liqs_all=Ulu_MG_input['Liqs'] ## Just Liquid columns\n",
    "Ulu_Liqs_19=Ulu_Liqs_all.loc[Ulu_all['Eruption']==919]\n",
    "Ulu_Liqs_19.head()\n",
    "Mean_19=np.mean(Ulu_Liqs_19)"
   ]
  },
  {
   "cell_type": "code",
   "execution_count": 27,
   "metadata": {},
   "outputs": [
    {
     "data": {
      "text/html": [
       "<div>\n",
       "<style scoped>\n",
       "    .dataframe tbody tr th:only-of-type {\n",
       "        vertical-align: middle;\n",
       "    }\n",
       "\n",
       "    .dataframe tbody tr th {\n",
       "        vertical-align: top;\n",
       "    }\n",
       "\n",
       "    .dataframe thead th {\n",
       "        text-align: right;\n",
       "    }\n",
       "</style>\n",
       "<table border=\"1\" class=\"dataframe\">\n",
       "  <thead>\n",
       "    <tr style=\"text-align: right;\">\n",
       "      <th></th>\n",
       "      <th>Unnamed: 0</th>\n",
       "      <th>Sample Name</th>\n",
       "      <th>Total_wt%</th>\n",
       "      <th>Total_Oxide%</th>\n",
       "      <th>Al2O3</th>\n",
       "      <th>CaO</th>\n",
       "      <th>FeOt</th>\n",
       "      <th>K2O</th>\n",
       "      <th>MgO</th>\n",
       "      <th>MnO</th>\n",
       "      <th>...</th>\n",
       "      <th>Line_Si</th>\n",
       "      <th>Line_P</th>\n",
       "      <th>Line_S</th>\n",
       "      <th>Line_K</th>\n",
       "      <th>Line_Ca</th>\n",
       "      <th>Line_Ti</th>\n",
       "      <th>Line_Mn</th>\n",
       "      <th>Line_Fe</th>\n",
       "      <th>SampleID</th>\n",
       "      <th>Mg#</th>\n",
       "    </tr>\n",
       "  </thead>\n",
       "  <tbody>\n",
       "    <tr>\n",
       "      <th>3</th>\n",
       "      <td>3</td>\n",
       "      <td>K24_Mount1_glass1_1</td>\n",
       "      <td>99.0818</td>\n",
       "      <td>99.0818</td>\n",
       "      <td>13.9494</td>\n",
       "      <td>10.9124</td>\n",
       "      <td>10.8721</td>\n",
       "      <td>0.5062</td>\n",
       "      <td>6.3378</td>\n",
       "      <td>0.1965</td>\n",
       "      <td>...</td>\n",
       "      <td>K series</td>\n",
       "      <td>K series</td>\n",
       "      <td>K series</td>\n",
       "      <td>K series</td>\n",
       "      <td>K series</td>\n",
       "      <td>K series</td>\n",
       "      <td>K series</td>\n",
       "      <td>K series</td>\n",
       "      <td>Mount1_glass1_1</td>\n",
       "      <td>0.558930</td>\n",
       "    </tr>\n",
       "    <tr>\n",
       "      <th>4</th>\n",
       "      <td>4</td>\n",
       "      <td>K24_Mount1_glass1_2</td>\n",
       "      <td>98.9432</td>\n",
       "      <td>98.9432</td>\n",
       "      <td>13.9718</td>\n",
       "      <td>10.8649</td>\n",
       "      <td>10.8212</td>\n",
       "      <td>0.5404</td>\n",
       "      <td>6.3854</td>\n",
       "      <td>0.2244</td>\n",
       "      <td>...</td>\n",
       "      <td>K series</td>\n",
       "      <td>K series</td>\n",
       "      <td>K series</td>\n",
       "      <td>K series</td>\n",
       "      <td>K series</td>\n",
       "      <td>K series</td>\n",
       "      <td>K series</td>\n",
       "      <td>K series</td>\n",
       "      <td>Mount1_glass1_2</td>\n",
       "      <td>0.561929</td>\n",
       "    </tr>\n",
       "    <tr>\n",
       "      <th>5</th>\n",
       "      <td>5</td>\n",
       "      <td>K24_Mount1_glass2_1</td>\n",
       "      <td>99.9994</td>\n",
       "      <td>99.9994</td>\n",
       "      <td>14.1871</td>\n",
       "      <td>10.9437</td>\n",
       "      <td>10.8275</td>\n",
       "      <td>0.5239</td>\n",
       "      <td>6.4555</td>\n",
       "      <td>0.1853</td>\n",
       "      <td>...</td>\n",
       "      <td>K series</td>\n",
       "      <td>K series</td>\n",
       "      <td>K series</td>\n",
       "      <td>K series</td>\n",
       "      <td>K series</td>\n",
       "      <td>K series</td>\n",
       "      <td>K series</td>\n",
       "      <td>K series</td>\n",
       "      <td>Mount1_glass2_1</td>\n",
       "      <td>0.564472</td>\n",
       "    </tr>\n",
       "    <tr>\n",
       "      <th>6</th>\n",
       "      <td>6</td>\n",
       "      <td>K24_Mount1_glass3_1</td>\n",
       "      <td>99.6900</td>\n",
       "      <td>99.6900</td>\n",
       "      <td>14.1024</td>\n",
       "      <td>10.9767</td>\n",
       "      <td>10.8489</td>\n",
       "      <td>0.5137</td>\n",
       "      <td>6.4336</td>\n",
       "      <td>0.1964</td>\n",
       "      <td>...</td>\n",
       "      <td>K series</td>\n",
       "      <td>K series</td>\n",
       "      <td>K series</td>\n",
       "      <td>K series</td>\n",
       "      <td>K series</td>\n",
       "      <td>K series</td>\n",
       "      <td>K series</td>\n",
       "      <td>K series</td>\n",
       "      <td>Mount1_glass3_1</td>\n",
       "      <td>0.563150</td>\n",
       "    </tr>\n",
       "    <tr>\n",
       "      <th>7</th>\n",
       "      <td>7</td>\n",
       "      <td>L24_Mount1_glass4_1</td>\n",
       "      <td>100.8245</td>\n",
       "      <td>100.8245</td>\n",
       "      <td>14.2734</td>\n",
       "      <td>11.0545</td>\n",
       "      <td>10.9645</td>\n",
       "      <td>0.5205</td>\n",
       "      <td>6.5610</td>\n",
       "      <td>0.1720</td>\n",
       "      <td>...</td>\n",
       "      <td>K series</td>\n",
       "      <td>K series</td>\n",
       "      <td>K series</td>\n",
       "      <td>K series</td>\n",
       "      <td>K series</td>\n",
       "      <td>K series</td>\n",
       "      <td>K series</td>\n",
       "      <td>K series</td>\n",
       "      <td>Mount1_glass4_1</td>\n",
       "      <td>0.565366</td>\n",
       "    </tr>\n",
       "  </tbody>\n",
       "</table>\n",
       "<p>5 rows × 166 columns</p>\n",
       "</div>"
      ],
      "text/plain": [
       "   Unnamed: 0          Sample Name  Total_wt%  Total_Oxide%    Al2O3      CaO  \\\n",
       "3           3  K24_Mount1_glass1_1    99.0818       99.0818  13.9494  10.9124   \n",
       "4           4  K24_Mount1_glass1_2    98.9432       98.9432  13.9718  10.8649   \n",
       "5           5  K24_Mount1_glass2_1    99.9994       99.9994  14.1871  10.9437   \n",
       "6           6  K24_Mount1_glass3_1    99.6900       99.6900  14.1024  10.9767   \n",
       "7           7  L24_Mount1_glass4_1   100.8245      100.8245  14.2734  11.0545   \n",
       "\n",
       "      FeOt     K2O     MgO     MnO  ...   Line_Si    Line_P    Line_S  \\\n",
       "3  10.8721  0.5062  6.3378  0.1965  ...  K series  K series  K series   \n",
       "4  10.8212  0.5404  6.3854  0.2244  ...  K series  K series  K series   \n",
       "5  10.8275  0.5239  6.4555  0.1853  ...  K series  K series  K series   \n",
       "6  10.8489  0.5137  6.4336  0.1964  ...  K series  K series  K series   \n",
       "7  10.9645  0.5205  6.5610  0.1720  ...  K series  K series  K series   \n",
       "\n",
       "     Line_K   Line_Ca   Line_Ti   Line_Mn   Line_Fe         SampleID       Mg#  \n",
       "3  K series  K series  K series  K series  K series  Mount1_glass1_1  0.558930  \n",
       "4  K series  K series  K series  K series  K series  Mount1_glass1_2  0.561929  \n",
       "5  K series  K series  K series  K series  K series  Mount1_glass2_1  0.564472  \n",
       "6  K series  K series  K series  K series  K series  Mount1_glass3_1  0.563150  \n",
       "7  K series  K series  K series  K series  K series  Mount1_glass4_1  0.565366  \n",
       "\n",
       "[5 rows x 166 columns]"
      ]
     },
     "execution_count": 27,
     "metadata": {},
     "output_type": "execute_result"
    }
   ],
   "source": [
    "glass"
   ]
  },
  {
   "cell_type": "code",
   "execution_count": 38,
   "metadata": {},
   "outputs": [],
   "source": [
    "## Glasses \n",
    "\n",
    "\n",
    "K24_MG_input=pt.import_excel(r'GlassData2024.xlsx',\n",
    "                         sheet_name='glass', suffix='_Liq')\n",
    "K24_all=K24_MG_input['my_input'] ## All columns\n",
    "K24_Liqs_all=K24_MG_input['Liqs'] ## Just Liquid columns\n",
    "Liq_Mean_24=np.mean(K24_Liqs_all)"
   ]
  },
  {
   "cell_type": "code",
   "execution_count": 39,
   "metadata": {},
   "outputs": [
    {
     "data": {
      "text/html": [
       "<div>\n",
       "<style scoped>\n",
       "    .dataframe tbody tr th:only-of-type {\n",
       "        vertical-align: middle;\n",
       "    }\n",
       "\n",
       "    .dataframe tbody tr th {\n",
       "        vertical-align: top;\n",
       "    }\n",
       "\n",
       "    .dataframe thead th {\n",
       "        text-align: right;\n",
       "    }\n",
       "</style>\n",
       "<table border=\"1\" class=\"dataframe\">\n",
       "  <thead>\n",
       "    <tr style=\"text-align: right;\">\n",
       "      <th></th>\n",
       "      <th>SiO2_Liq</th>\n",
       "      <th>TiO2_Liq</th>\n",
       "      <th>Al2O3_Liq</th>\n",
       "      <th>FeOt_Liq</th>\n",
       "      <th>MnO_Liq</th>\n",
       "      <th>MgO_Liq</th>\n",
       "      <th>CaO_Liq</th>\n",
       "      <th>Na2O_Liq</th>\n",
       "      <th>K2O_Liq</th>\n",
       "      <th>Cr2O3_Liq</th>\n",
       "      <th>P2O5_Liq</th>\n",
       "      <th>H2O_Liq</th>\n",
       "      <th>Fe3Fet_Liq</th>\n",
       "      <th>NiO_Liq</th>\n",
       "      <th>CoO_Liq</th>\n",
       "      <th>CO2_Liq</th>\n",
       "      <th>Sample_ID_Liq</th>\n",
       "    </tr>\n",
       "  </thead>\n",
       "  <tbody>\n",
       "    <tr>\n",
       "      <th>0</th>\n",
       "      <td>49.5836</td>\n",
       "      <td>1.9870</td>\n",
       "      <td>13.9269</td>\n",
       "      <td>11.9916</td>\n",
       "      <td>0.2289</td>\n",
       "      <td>6.5309</td>\n",
       "      <td>10.7876</td>\n",
       "      <td>2.6928</td>\n",
       "      <td>0.2097</td>\n",
       "      <td>0.0</td>\n",
       "      <td>0.2532</td>\n",
       "      <td>0.0</td>\n",
       "      <td>0.0</td>\n",
       "      <td>0.0</td>\n",
       "      <td>0.0</td>\n",
       "      <td>0.0</td>\n",
       "      <td>0</td>\n",
       "    </tr>\n",
       "    <tr>\n",
       "      <th>1</th>\n",
       "      <td>49.4155</td>\n",
       "      <td>2.0029</td>\n",
       "      <td>13.8746</td>\n",
       "      <td>11.8569</td>\n",
       "      <td>0.2258</td>\n",
       "      <td>6.6142</td>\n",
       "      <td>10.7479</td>\n",
       "      <td>2.7164</td>\n",
       "      <td>0.1747</td>\n",
       "      <td>0.0</td>\n",
       "      <td>0.2057</td>\n",
       "      <td>0.0</td>\n",
       "      <td>0.0</td>\n",
       "      <td>0.0</td>\n",
       "      <td>0.0</td>\n",
       "      <td>0.0</td>\n",
       "      <td>1</td>\n",
       "    </tr>\n",
       "    <tr>\n",
       "      <th>2</th>\n",
       "      <td>49.6459</td>\n",
       "      <td>2.0178</td>\n",
       "      <td>13.8297</td>\n",
       "      <td>11.8792</td>\n",
       "      <td>0.2454</td>\n",
       "      <td>6.5330</td>\n",
       "      <td>10.8564</td>\n",
       "      <td>2.7839</td>\n",
       "      <td>0.2095</td>\n",
       "      <td>0.0</td>\n",
       "      <td>0.1946</td>\n",
       "      <td>0.0</td>\n",
       "      <td>0.0</td>\n",
       "      <td>0.0</td>\n",
       "      <td>0.0</td>\n",
       "      <td>0.0</td>\n",
       "      <td>2</td>\n",
       "    </tr>\n",
       "    <tr>\n",
       "      <th>3</th>\n",
       "      <td>50.6236</td>\n",
       "      <td>2.9163</td>\n",
       "      <td>13.9494</td>\n",
       "      <td>10.8721</td>\n",
       "      <td>0.1965</td>\n",
       "      <td>6.3378</td>\n",
       "      <td>10.9124</td>\n",
       "      <td>2.4751</td>\n",
       "      <td>0.5062</td>\n",
       "      <td>0.0</td>\n",
       "      <td>0.2584</td>\n",
       "      <td>0.0</td>\n",
       "      <td>0.0</td>\n",
       "      <td>0.0</td>\n",
       "      <td>0.0</td>\n",
       "      <td>0.0</td>\n",
       "      <td>3</td>\n",
       "    </tr>\n",
       "    <tr>\n",
       "      <th>4</th>\n",
       "      <td>50.4679</td>\n",
       "      <td>2.8971</td>\n",
       "      <td>13.9718</td>\n",
       "      <td>10.8212</td>\n",
       "      <td>0.2244</td>\n",
       "      <td>6.3854</td>\n",
       "      <td>10.8649</td>\n",
       "      <td>2.5100</td>\n",
       "      <td>0.5404</td>\n",
       "      <td>0.0</td>\n",
       "      <td>0.2302</td>\n",
       "      <td>0.0</td>\n",
       "      <td>0.0</td>\n",
       "      <td>0.0</td>\n",
       "      <td>0.0</td>\n",
       "      <td>0.0</td>\n",
       "      <td>4</td>\n",
       "    </tr>\n",
       "    <tr>\n",
       "      <th>5</th>\n",
       "      <td>51.1935</td>\n",
       "      <td>2.9535</td>\n",
       "      <td>14.1871</td>\n",
       "      <td>10.8275</td>\n",
       "      <td>0.1853</td>\n",
       "      <td>6.4555</td>\n",
       "      <td>10.9437</td>\n",
       "      <td>2.4221</td>\n",
       "      <td>0.5239</td>\n",
       "      <td>0.0</td>\n",
       "      <td>0.2929</td>\n",
       "      <td>0.0</td>\n",
       "      <td>0.0</td>\n",
       "      <td>0.0</td>\n",
       "      <td>0.0</td>\n",
       "      <td>0.0</td>\n",
       "      <td>5</td>\n",
       "    </tr>\n",
       "    <tr>\n",
       "      <th>6</th>\n",
       "      <td>50.8685</td>\n",
       "      <td>2.8981</td>\n",
       "      <td>14.1024</td>\n",
       "      <td>10.8489</td>\n",
       "      <td>0.1964</td>\n",
       "      <td>6.4336</td>\n",
       "      <td>10.9767</td>\n",
       "      <td>2.5362</td>\n",
       "      <td>0.5137</td>\n",
       "      <td>0.0</td>\n",
       "      <td>0.2931</td>\n",
       "      <td>0.0</td>\n",
       "      <td>0.0</td>\n",
       "      <td>0.0</td>\n",
       "      <td>0.0</td>\n",
       "      <td>0.0</td>\n",
       "      <td>6</td>\n",
       "    </tr>\n",
       "    <tr>\n",
       "      <th>7</th>\n",
       "      <td>51.4317</td>\n",
       "      <td>2.9307</td>\n",
       "      <td>14.2734</td>\n",
       "      <td>10.9645</td>\n",
       "      <td>0.1720</td>\n",
       "      <td>6.5610</td>\n",
       "      <td>11.0545</td>\n",
       "      <td>2.5762</td>\n",
       "      <td>0.5205</td>\n",
       "      <td>0.0</td>\n",
       "      <td>0.2915</td>\n",
       "      <td>0.0</td>\n",
       "      <td>0.0</td>\n",
       "      <td>0.0</td>\n",
       "      <td>0.0</td>\n",
       "      <td>0.0</td>\n",
       "      <td>7</td>\n",
       "    </tr>\n",
       "  </tbody>\n",
       "</table>\n",
       "</div>"
      ],
      "text/plain": [
       "   SiO2_Liq  TiO2_Liq  Al2O3_Liq  FeOt_Liq  MnO_Liq  MgO_Liq  CaO_Liq  \\\n",
       "0   49.5836    1.9870    13.9269   11.9916   0.2289   6.5309  10.7876   \n",
       "1   49.4155    2.0029    13.8746   11.8569   0.2258   6.6142  10.7479   \n",
       "2   49.6459    2.0178    13.8297   11.8792   0.2454   6.5330  10.8564   \n",
       "3   50.6236    2.9163    13.9494   10.8721   0.1965   6.3378  10.9124   \n",
       "4   50.4679    2.8971    13.9718   10.8212   0.2244   6.3854  10.8649   \n",
       "5   51.1935    2.9535    14.1871   10.8275   0.1853   6.4555  10.9437   \n",
       "6   50.8685    2.8981    14.1024   10.8489   0.1964   6.4336  10.9767   \n",
       "7   51.4317    2.9307    14.2734   10.9645   0.1720   6.5610  11.0545   \n",
       "\n",
       "   Na2O_Liq  K2O_Liq  Cr2O3_Liq  P2O5_Liq  H2O_Liq  Fe3Fet_Liq  NiO_Liq  \\\n",
       "0    2.6928   0.2097        0.0    0.2532      0.0         0.0      0.0   \n",
       "1    2.7164   0.1747        0.0    0.2057      0.0         0.0      0.0   \n",
       "2    2.7839   0.2095        0.0    0.1946      0.0         0.0      0.0   \n",
       "3    2.4751   0.5062        0.0    0.2584      0.0         0.0      0.0   \n",
       "4    2.5100   0.5404        0.0    0.2302      0.0         0.0      0.0   \n",
       "5    2.4221   0.5239        0.0    0.2929      0.0         0.0      0.0   \n",
       "6    2.5362   0.5137        0.0    0.2931      0.0         0.0      0.0   \n",
       "7    2.5762   0.5205        0.0    0.2915      0.0         0.0      0.0   \n",
       "\n",
       "   CoO_Liq  CO2_Liq  Sample_ID_Liq  \n",
       "0      0.0      0.0              0  \n",
       "1      0.0      0.0              1  \n",
       "2      0.0      0.0              2  \n",
       "3      0.0      0.0              3  \n",
       "4      0.0      0.0              4  \n",
       "5      0.0      0.0              5  \n",
       "6      0.0      0.0              6  \n",
       "7      0.0      0.0              7  "
      ]
     },
     "execution_count": 39,
     "metadata": {},
     "output_type": "execute_result"
    }
   ],
   "source": [
    "K24_Liqs_all"
   ]
  },
  {
   "cell_type": "code",
   "execution_count": 43,
   "metadata": {},
   "outputs": [
    {
     "name": "stdout",
     "output_type": "stream",
     "text": [
      "Help on function calculate_eq_ol_content in module Thermobar.mineral_equilibrium:\n",
      "\n",
      "calculate_eq_ol_content(liq_comps, Kd_model, ol_comps=None, T=None, P=None, Fe3Fet_Liq=None, ol_fo=None, H2O_Liq=None, logfo2=None)\n",
      "    calculates equilibrium forsterite contents based on inputtted liquid compositions.\n",
      "    \n",
      "    \n",
      "    Parameters\n",
      "     -------\n",
      "    \n",
      "     liq_comps: pandas.DataFrame\n",
      "         Liquid compositions with column headings SiO2_Ol, MgO_Ol etc.\n",
      "    \n",
      "    \n",
      "     Kd_model: str, int or float\n",
      "         Specify which Kd model you wish to use.\n",
      "    \n",
      "         int or float: e.g. Kd=0.35, will return that number.\n",
      "    \n",
      "         \"Shea2022\": Uses 0.335+-0.1 (not sensitive to P, T, or ol Fo content. For hawaiian tholeiites)\n",
      "    \n",
      "         \"Roeder1970\": uses Kd=0.3+0.03 (Not sensitive to P, T, or Ol Fo content)\n",
      "    \n",
      "         \"Matzen2011\": uses Kd=0.34+0.012 (Not sensitive to P, T, or Ol Fo content)\n",
      "    \n",
      "         \"Toplis2005\": calculates Kd based on melt SiO2, Na2O, K2O, P, T, H2O, Ol Fo content.\n",
      "         Users can specify a ol_fo content, or the function iterates Kd and Fo and returns both.\n",
      "    \n",
      "         \"Putirka2016\":\n",
      "         Uses equation 8a, 8b and 8c of Putirka (2016)\n",
      "         These are recomended when the proportion of Fe2O3 is known.\n",
      "         8a=0.33+-0.04 (constant)\n",
      "         8b= function of P, Si, Na and K\n",
      "         8c= function of Si, Na and K\n",
      "    \n",
      "         Also uses equation 9a and 9b of Putirka, which are\n",
      "         designed for FeOt. 9a is 0.29+-0.051, 9b is a function of Si, P, Na and\n",
      "         K, and fo2.\n",
      "    \n",
      "    \n",
      "         \"All\": Returns outputs for all models\n",
      "    \n",
      "     Fe3FeT: optional, float or int.\n",
      "         overwrites Fe3Fet_Liq in liq_comps DataFrame\n",
      "    \n",
      "     Additional required inputs for Toplis, 2005:\n",
      "         P: Pressure in kbar\n",
      "         T: Temperature in Kelvin\n",
      "         H2O: melt H2O content\n",
      "         Optional:\n",
      "             ol_fo: If specify Fo content (decimal, 0-1), calculates Kd\n",
      "             Else, will iterate to find equilibrium Ol content and Kd.\n",
      "    \n",
      "     Returns\n",
      "     -------\n",
      "     pandas DataFrame\n",
      "         returns equilibrium olivine contents (+- sigma for Roeder and Matzen).\n",
      "         For Toplis, returns Kd-Ol Fo pair if an olivine-forsterite content wasn't specified\n",
      "\n"
     ]
    }
   ],
   "source": [
    "help(pt.calculate_eq_ol_content)"
   ]
  },
  {
   "cell_type": "code",
   "execution_count": 54,
   "metadata": {},
   "outputs": [],
   "source": [
    "Eq_Ol_19=pt.calculate_eq_ol_content(liq_comps=Ulu_Liqs_19, Kd_model=\"Shea2022\",Fe3Fet_Liq=0.18)\n",
    "Eq_Ol_24=pt.calculate_eq_ol_content(liq_comps=K24_Liqs_all, Kd_model=\"Shea2022\",Fe3Fet_Liq=0.18)"
   ]
  },
  {
   "cell_type": "code",
   "execution_count": 55,
   "metadata": {},
   "outputs": [
    {
     "data": {
      "text/plain": [
       "0.834256220498497"
      ]
     },
     "execution_count": 55,
     "metadata": {},
     "output_type": "execute_result"
    }
   ],
   "source": [
    "np.mean(Eq_Ol_19['Eq Fo (Shea, Kd=0.335)'])"
   ]
  },
  {
   "cell_type": "code",
   "execution_count": 56,
   "metadata": {},
   "outputs": [
    {
     "data": {
      "text/html": [
       "<div>\n",
       "<style scoped>\n",
       "    .dataframe tbody tr th:only-of-type {\n",
       "        vertical-align: middle;\n",
       "    }\n",
       "\n",
       "    .dataframe tbody tr th {\n",
       "        vertical-align: top;\n",
       "    }\n",
       "\n",
       "    .dataframe thead th {\n",
       "        text-align: right;\n",
       "    }\n",
       "</style>\n",
       "<table border=\"1\" class=\"dataframe\">\n",
       "  <thead>\n",
       "    <tr style=\"text-align: right;\">\n",
       "      <th></th>\n",
       "      <th>Filename</th>\n",
       "      <th>CO2_dens_gcm3</th>\n",
       "      <th>SingleFI_D_km</th>\n",
       "      <th>SingleFI_P_kbar</th>\n",
       "      <th>Mean_MC_P_kbar</th>\n",
       "      <th>Med_MC_P_kbar</th>\n",
       "      <th>std_dev_MC_P_kbar</th>\n",
       "      <th>std_dev_MC_P_kbar_from_percentile</th>\n",
       "      <th>Mean_MC_D_km</th>\n",
       "      <th>Med_MC_D_km</th>\n",
       "      <th>...</th>\n",
       "      <th>error_CO2_dens_gcm3</th>\n",
       "      <th>error_crust_dens_kgm3</th>\n",
       "      <th>T_K</th>\n",
       "      <th>CO2_dens_gcm3_input</th>\n",
       "      <th>model</th>\n",
       "      <th>crust_dens_kgm3</th>\n",
       "      <th>EOS</th>\n",
       "      <th>error_XH2O</th>\n",
       "      <th>error_type_XH2O</th>\n",
       "      <th>error_dist_XH2O</th>\n",
       "    </tr>\n",
       "  </thead>\n",
       "  <tbody>\n",
       "    <tr>\n",
       "      <th>0</th>\n",
       "      <td>K24_10_FIA</td>\n",
       "      <td>0.048859</td>\n",
       "      <td>0.765054</td>\n",
       "      <td>0.174482</td>\n",
       "      <td>0.178643</td>\n",
       "      <td>0.175863</td>\n",
       "      <td>0.027504</td>\n",
       "      <td>0.027310</td>\n",
       "      <td>0.782594</td>\n",
       "      <td>0.770993</td>\n",
       "      <td>...</td>\n",
       "      <td>0.004082</td>\n",
       "      <td>0.0</td>\n",
       "      <td>1513.193250</td>\n",
       "      <td>0.048859</td>\n",
       "      <td>denlinger_lerner</td>\n",
       "      <td>None</td>\n",
       "      <td>SW96</td>\n",
       "      <td>0.098100</td>\n",
       "      <td>Abs</td>\n",
       "      <td>normal</td>\n",
       "    </tr>\n",
       "    <tr>\n",
       "      <th>1</th>\n",
       "      <td>K24_10_FIB</td>\n",
       "      <td>0.056119</td>\n",
       "      <td>0.880502</td>\n",
       "      <td>0.201400</td>\n",
       "      <td>0.202793</td>\n",
       "      <td>0.200000</td>\n",
       "      <td>0.027379</td>\n",
       "      <td>0.026578</td>\n",
       "      <td>0.886116</td>\n",
       "      <td>0.874515</td>\n",
       "      <td>...</td>\n",
       "      <td>0.004361</td>\n",
       "      <td>0.0</td>\n",
       "      <td>1537.338539</td>\n",
       "      <td>0.056119</td>\n",
       "      <td>denlinger_lerner</td>\n",
       "      <td>None</td>\n",
       "      <td>SW96</td>\n",
       "      <td>0.090331</td>\n",
       "      <td>Abs</td>\n",
       "      <td>normal</td>\n",
       "    </tr>\n",
       "    <tr>\n",
       "      <th>2</th>\n",
       "      <td>K24_11_FIA</td>\n",
       "      <td>0.125982</td>\n",
       "      <td>1.824668</td>\n",
       "      <td>0.427481</td>\n",
       "      <td>0.429447</td>\n",
       "      <td>0.427338</td>\n",
       "      <td>0.029538</td>\n",
       "      <td>0.028659</td>\n",
       "      <td>1.832328</td>\n",
       "      <td>1.824083</td>\n",
       "      <td>...</td>\n",
       "      <td>0.004292</td>\n",
       "      <td>0.0</td>\n",
       "      <td>1510.998480</td>\n",
       "      <td>0.125982</td>\n",
       "      <td>denlinger_lerner</td>\n",
       "      <td>None</td>\n",
       "      <td>SW96</td>\n",
       "      <td>0.045284</td>\n",
       "      <td>Abs</td>\n",
       "      <td>normal</td>\n",
       "    </tr>\n",
       "    <tr>\n",
       "      <th>3</th>\n",
       "      <td>K24_11_FIB</td>\n",
       "      <td>0.085747</td>\n",
       "      <td>1.275439</td>\n",
       "      <td>0.294670</td>\n",
       "      <td>0.295646</td>\n",
       "      <td>0.291403</td>\n",
       "      <td>0.053509</td>\n",
       "      <td>0.050414</td>\n",
       "      <td>1.278274</td>\n",
       "      <td>1.261737</td>\n",
       "      <td>...</td>\n",
       "      <td>0.012513</td>\n",
       "      <td>0.0</td>\n",
       "      <td>1510.998480</td>\n",
       "      <td>0.085747</td>\n",
       "      <td>denlinger_lerner</td>\n",
       "      <td>None</td>\n",
       "      <td>SW96</td>\n",
       "      <td>0.067263</td>\n",
       "      <td>Abs</td>\n",
       "      <td>normal</td>\n",
       "    </tr>\n",
       "    <tr>\n",
       "      <th>4</th>\n",
       "      <td>K24_11_FIC</td>\n",
       "      <td>0.129648</td>\n",
       "      <td>1.877827</td>\n",
       "      <td>0.440530</td>\n",
       "      <td>0.443755</td>\n",
       "      <td>0.441439</td>\n",
       "      <td>0.031860</td>\n",
       "      <td>0.031045</td>\n",
       "      <td>1.890528</td>\n",
       "      <td>1.881526</td>\n",
       "      <td>...</td>\n",
       "      <td>0.004284</td>\n",
       "      <td>0.0</td>\n",
       "      <td>1513.129226</td>\n",
       "      <td>0.129648</td>\n",
       "      <td>denlinger_lerner</td>\n",
       "      <td>None</td>\n",
       "      <td>SW96</td>\n",
       "      <td>0.043765</td>\n",
       "      <td>Abs</td>\n",
       "      <td>normal</td>\n",
       "    </tr>\n",
       "    <tr>\n",
       "      <th>...</th>\n",
       "      <td>...</td>\n",
       "      <td>...</td>\n",
       "      <td>...</td>\n",
       "      <td>...</td>\n",
       "      <td>...</td>\n",
       "      <td>...</td>\n",
       "      <td>...</td>\n",
       "      <td>...</td>\n",
       "      <td>...</td>\n",
       "      <td>...</td>\n",
       "      <td>...</td>\n",
       "      <td>...</td>\n",
       "      <td>...</td>\n",
       "      <td>...</td>\n",
       "      <td>...</td>\n",
       "      <td>...</td>\n",
       "      <td>...</td>\n",
       "      <td>...</td>\n",
       "      <td>...</td>\n",
       "      <td>...</td>\n",
       "      <td>...</td>\n",
       "    </tr>\n",
       "    <tr>\n",
       "      <th>144</th>\n",
       "      <td>K24_40_FIA</td>\n",
       "      <td>0.113685</td>\n",
       "      <td>1.730300</td>\n",
       "      <td>0.404402</td>\n",
       "      <td>0.405324</td>\n",
       "      <td>0.404840</td>\n",
       "      <td>0.030002</td>\n",
       "      <td>0.028475</td>\n",
       "      <td>1.733703</td>\n",
       "      <td>1.732094</td>\n",
       "      <td>...</td>\n",
       "      <td>0.004704</td>\n",
       "      <td>0.0</td>\n",
       "      <td>1586.619996</td>\n",
       "      <td>0.113685</td>\n",
       "      <td>denlinger_lerner</td>\n",
       "      <td>None</td>\n",
       "      <td>SW96</td>\n",
       "      <td>0.048212</td>\n",
       "      <td>Abs</td>\n",
       "      <td>normal</td>\n",
       "    </tr>\n",
       "    <tr>\n",
       "      <th>145</th>\n",
       "      <td>K24_40_FIB</td>\n",
       "      <td>0.127505</td>\n",
       "      <td>1.937626</td>\n",
       "      <td>0.455249</td>\n",
       "      <td>0.456080</td>\n",
       "      <td>0.455592</td>\n",
       "      <td>0.030739</td>\n",
       "      <td>0.030511</td>\n",
       "      <td>1.940612</td>\n",
       "      <td>1.939016</td>\n",
       "      <td>...</td>\n",
       "      <td>0.004580</td>\n",
       "      <td>0.0</td>\n",
       "      <td>1594.037690</td>\n",
       "      <td>0.127505</td>\n",
       "      <td>denlinger_lerner</td>\n",
       "      <td>None</td>\n",
       "      <td>SW96</td>\n",
       "      <td>0.042144</td>\n",
       "      <td>Abs</td>\n",
       "      <td>normal</td>\n",
       "    </tr>\n",
       "    <tr>\n",
       "      <th>146</th>\n",
       "      <td>KL0919-013-A-rep2-6mW</td>\n",
       "      <td>0.429251</td>\n",
       "      <td>7.223926</td>\n",
       "      <td>1.921074</td>\n",
       "      <td>1.922057</td>\n",
       "      <td>1.928189</td>\n",
       "      <td>0.075022</td>\n",
       "      <td>0.075853</td>\n",
       "      <td>7.226566</td>\n",
       "      <td>7.247422</td>\n",
       "      <td>...</td>\n",
       "      <td>0.005502</td>\n",
       "      <td>0.0</td>\n",
       "      <td>1584.076867</td>\n",
       "      <td>0.429251</td>\n",
       "      <td>denlinger_lerner</td>\n",
       "      <td>None</td>\n",
       "      <td>SW96</td>\n",
       "      <td>0.000000</td>\n",
       "      <td>Abs</td>\n",
       "      <td>normal</td>\n",
       "    </tr>\n",
       "    <tr>\n",
       "      <th>147</th>\n",
       "      <td>KL0919-013-B-rep2-6mW</td>\n",
       "      <td>0.387546</td>\n",
       "      <td>6.335518</td>\n",
       "      <td>1.654795</td>\n",
       "      <td>1.659211</td>\n",
       "      <td>1.660922</td>\n",
       "      <td>0.063170</td>\n",
       "      <td>0.062729</td>\n",
       "      <td>6.349778</td>\n",
       "      <td>6.356186</td>\n",
       "      <td>...</td>\n",
       "      <td>0.003067</td>\n",
       "      <td>0.0</td>\n",
       "      <td>1585.208665</td>\n",
       "      <td>0.387546</td>\n",
       "      <td>denlinger_lerner</td>\n",
       "      <td>None</td>\n",
       "      <td>SW96</td>\n",
       "      <td>0.000000</td>\n",
       "      <td>Abs</td>\n",
       "      <td>normal</td>\n",
       "    </tr>\n",
       "    <tr>\n",
       "      <th>148</th>\n",
       "      <td>KL0919-013-C-rep2-6mW</td>\n",
       "      <td>0.374186</td>\n",
       "      <td>6.081240</td>\n",
       "      <td>1.579719</td>\n",
       "      <td>1.580699</td>\n",
       "      <td>1.580666</td>\n",
       "      <td>0.058939</td>\n",
       "      <td>0.060050</td>\n",
       "      <td>6.083958</td>\n",
       "      <td>6.084459</td>\n",
       "      <td>...</td>\n",
       "      <td>0.002926</td>\n",
       "      <td>0.0</td>\n",
       "      <td>1590.252898</td>\n",
       "      <td>0.374186</td>\n",
       "      <td>denlinger_lerner</td>\n",
       "      <td>None</td>\n",
       "      <td>SW96</td>\n",
       "      <td>0.000000</td>\n",
       "      <td>Abs</td>\n",
       "      <td>normal</td>\n",
       "    </tr>\n",
       "  </tbody>\n",
       "</table>\n",
       "<p>149 rows × 23 columns</p>\n",
       "</div>"
      ],
      "text/plain": [
       "                  Filename  CO2_dens_gcm3  SingleFI_D_km  SingleFI_P_kbar  \\\n",
       "0               K24_10_FIA       0.048859       0.765054         0.174482   \n",
       "1               K24_10_FIB       0.056119       0.880502         0.201400   \n",
       "2               K24_11_FIA       0.125982       1.824668         0.427481   \n",
       "3               K24_11_FIB       0.085747       1.275439         0.294670   \n",
       "4               K24_11_FIC       0.129648       1.877827         0.440530   \n",
       "..                     ...            ...            ...              ...   \n",
       "144             K24_40_FIA       0.113685       1.730300         0.404402   \n",
       "145             K24_40_FIB       0.127505       1.937626         0.455249   \n",
       "146  KL0919-013-A-rep2-6mW       0.429251       7.223926         1.921074   \n",
       "147  KL0919-013-B-rep2-6mW       0.387546       6.335518         1.654795   \n",
       "148  KL0919-013-C-rep2-6mW       0.374186       6.081240         1.579719   \n",
       "\n",
       "     Mean_MC_P_kbar  Med_MC_P_kbar  std_dev_MC_P_kbar  \\\n",
       "0          0.178643       0.175863           0.027504   \n",
       "1          0.202793       0.200000           0.027379   \n",
       "2          0.429447       0.427338           0.029538   \n",
       "3          0.295646       0.291403           0.053509   \n",
       "4          0.443755       0.441439           0.031860   \n",
       "..              ...            ...                ...   \n",
       "144        0.405324       0.404840           0.030002   \n",
       "145        0.456080       0.455592           0.030739   \n",
       "146        1.922057       1.928189           0.075022   \n",
       "147        1.659211       1.660922           0.063170   \n",
       "148        1.580699       1.580666           0.058939   \n",
       "\n",
       "     std_dev_MC_P_kbar_from_percentile  Mean_MC_D_km  Med_MC_D_km  ...  \\\n",
       "0                             0.027310      0.782594     0.770993  ...   \n",
       "1                             0.026578      0.886116     0.874515  ...   \n",
       "2                             0.028659      1.832328     1.824083  ...   \n",
       "3                             0.050414      1.278274     1.261737  ...   \n",
       "4                             0.031045      1.890528     1.881526  ...   \n",
       "..                                 ...           ...          ...  ...   \n",
       "144                           0.028475      1.733703     1.732094  ...   \n",
       "145                           0.030511      1.940612     1.939016  ...   \n",
       "146                           0.075853      7.226566     7.247422  ...   \n",
       "147                           0.062729      6.349778     6.356186  ...   \n",
       "148                           0.060050      6.083958     6.084459  ...   \n",
       "\n",
       "     error_CO2_dens_gcm3  error_crust_dens_kgm3          T_K  \\\n",
       "0               0.004082                    0.0  1513.193250   \n",
       "1               0.004361                    0.0  1537.338539   \n",
       "2               0.004292                    0.0  1510.998480   \n",
       "3               0.012513                    0.0  1510.998480   \n",
       "4               0.004284                    0.0  1513.129226   \n",
       "..                   ...                    ...          ...   \n",
       "144             0.004704                    0.0  1586.619996   \n",
       "145             0.004580                    0.0  1594.037690   \n",
       "146             0.005502                    0.0  1584.076867   \n",
       "147             0.003067                    0.0  1585.208665   \n",
       "148             0.002926                    0.0  1590.252898   \n",
       "\n",
       "     CO2_dens_gcm3_input             model  crust_dens_kgm3   EOS error_XH2O  \\\n",
       "0               0.048859  denlinger_lerner             None  SW96   0.098100   \n",
       "1               0.056119  denlinger_lerner             None  SW96   0.090331   \n",
       "2               0.125982  denlinger_lerner             None  SW96   0.045284   \n",
       "3               0.085747  denlinger_lerner             None  SW96   0.067263   \n",
       "4               0.129648  denlinger_lerner             None  SW96   0.043765   \n",
       "..                   ...               ...              ...   ...        ...   \n",
       "144             0.113685  denlinger_lerner             None  SW96   0.048212   \n",
       "145             0.127505  denlinger_lerner             None  SW96   0.042144   \n",
       "146             0.429251  denlinger_lerner             None  SW96   0.000000   \n",
       "147             0.387546  denlinger_lerner             None  SW96   0.000000   \n",
       "148             0.374186  denlinger_lerner             None  SW96   0.000000   \n",
       "\n",
       "    error_type_XH2O error_dist_XH2O  \n",
       "0               Abs          normal  \n",
       "1               Abs          normal  \n",
       "2               Abs          normal  \n",
       "3               Abs          normal  \n",
       "4               Abs          normal  \n",
       "..              ...             ...  \n",
       "144             Abs          normal  \n",
       "145             Abs          normal  \n",
       "146             Abs          normal  \n",
       "147             Abs          normal  \n",
       "148             Abs          normal  \n",
       "\n",
       "[149 rows x 23 columns]"
      ]
     },
     "execution_count": 56,
     "metadata": {},
     "output_type": "execute_result"
    }
   ],
   "source": [
    "MC_Av_rho_T_df_B"
   ]
  },
  {
   "cell_type": "code",
   "execution_count": 58,
   "metadata": {},
   "outputs": [
    {
     "data": {
      "image/png": "[encoded data removed]",
      "text/plain": [
       "<Figure size 800x500 with 1 Axes>"
      ]
     },
     "metadata": {},
     "output_type": "display_data"
    }
   ],
   "source": [
    "fig, (ax1) = plt.subplots(1, 1, figsize = (8,5))\n",
    "\n",
    "# Calculate x coordinates\n",
    "x1 = np.mean(Eq_Ol_19['Eq Fo (Shea, Kd=0.325)'])\n",
    "x2 = np.mean(Eq_Ol_19['Eq Fo (Shea, Kd=0.345)'])\n",
    "\n",
    "# Plot rectangle\n",
    "plt.fill_betweenx(y=[0, 8], x1=x1, x2=x2, color='red', alpha=0.3, label='Eq ol Shea 74')\n",
    "\n",
    "# Calculate x coordinates\n",
    "x1 = np.mean(Eq_Ol_24['Eq Fo (Shea, Kd=0.325)'])\n",
    "x2 = np.mean(Eq_Ol_24['Eq Fo (Shea, Kd=0.345)'])\n",
    "\n",
    "# Plot rectangle\n",
    "plt.fill_betweenx(y=[0, 8], x1=x1, x2=x2, color='cyan', alpha=0.3, label='Eq ol Shea 24')\n",
    "\n",
    "\n",
    "ax1.errorbar(df_combo['Fo'].loc[K24], MC_Av_rho_T_df_B['SingleFI_D_km'].loc[K24], xerr=0, yerr=MC_Av_rho_T_df_B['std_dev_MC_D_km_from_percentile'].loc[K24],\n",
    "             fmt='d', ecolor='grey', elinewidth=0.8, mfc='cyan', ms=5, mec='k', capsize=3, label='2024')\n",
    "ax1.errorbar(df_combo['Fo'].loc[U919], MC_Av_rho_T_df_B['SingleFI_D_km'].loc[U919], xerr=0, yerr=MC_Av_rho_T_df_B['std_dev_MC_D_km_from_percentile'].loc[U919],\n",
    "             fmt='<', ecolor='grey', elinewidth=0.8, mfc='red', ms=5, mec='k', capsize=3, label='1974')\n",
    "\n",
    "\n",
    "ax1.set_xlabel('Fo')\n",
    "ax1.set_ylabel('Depth (km)')\n",
    "plt.legend()#\n",
    "fig.savefig('FoDepth.png', dpi=300)"
   ]
  },
  {
   "cell_type": "code",
   "execution_count": 67,
   "metadata": {},
   "outputs": [
    {
     "data": {
      "image/png": "[encoded data removed]",
      "text/plain": [
       "<Figure size 1200x500 with 3 Axes>"
      ]
     },
     "metadata": {},
     "output_type": "display_data"
    }
   ],
   "source": [
    "import matplotlib.gridspec as gridspec\n",
    "fig = plt.figure(figsize=(12, 5))\n",
    "gs = gridspec.GridSpec(1, 3, width_ratios=[3, 0.5, 0.5], wspace=0)\n",
    "\n",
    "ax1 = plt.subplot(gs[0])\n",
    "\n",
    "# Calculate x coordinates and plot rectangles for Eq_Ol_19\n",
    "x1 = np.mean(Eq_Ol_19['Eq Fo (Shea, Kd=0.325)'])\n",
    "x2 = np.mean(Eq_Ol_19['Eq Fo (Shea, Kd=0.345)'])\n",
    "ax1.fill_betweenx(y=[0, 8], x1=x1, x2=x2, color='red', alpha=0.3, label='Eq ol Shea 74')\n",
    "\n",
    "# Calculate x coordinates and plot rectangles for Eq_Ol_24\n",
    "x1 = np.mean(Eq_Ol_24['Eq Fo (Shea, Kd=0.325)'])\n",
    "x2 = np.mean(Eq_Ol_24['Eq Fo (Shea, Kd=0.345)'])\n",
    "ax1.fill_betweenx(y=[0, 8], x1=x1, x2=x2, color='cyan', alpha=0.3, label='Eq ol Shea 24')\n",
    "\n",
    "# Plot error bars\n",
    "ax1.errorbar(df_combo['Fo'].loc[K24], MC_Av_rho_T_df_B['SingleFI_D_km'].loc[K24], xerr=0, yerr=MC_Av_rho_T_df_B['std_dev_MC_D_km_from_percentile'].loc[K24],\n",
    "             fmt='d', ecolor='grey', elinewidth=0.8, mfc='cyan', ms=5, mec='k', capsize=3, label='2024')\n",
    "ax1.errorbar(df_combo['Fo'].loc[U919], MC_Av_rho_T_df_B['SingleFI_D_km'].loc[U919], xerr=0, yerr=MC_Av_rho_T_df_B['std_dev_MC_D_km_from_percentile'].loc[U919],\n",
    "             fmt='<', ecolor='grey', elinewidth=0.8, mfc='red', ms=5, mec='k', capsize=3, label='1974')\n",
    "\n",
    "ax1.set_xlabel('Fo')\n",
    "ax1.set_ylabel('Depth (km)')\n",
    "ax1.legend()\n",
    "\n",
    "# Histogram plot\n",
    "ax2 = plt.subplot(gs[1], sharey=ax1)\n",
    "ax3 = plt.subplot(gs[2], sharey=ax1, sharex=ax2)\n",
    "ax2.hist(MC_Av_rho_T_df_B['SingleFI_D_km'].loc[K24], bins=20, stacked=True, orientation='horizontal', color=['cyan'], ec='k', alpha=0.6)\n",
    "ax3.hist(MC_Av_rho_T_df_B['SingleFI_D_km'].loc[U919], bins=25, stacked=True, orientation='horizontal', color=['red'], ec='k', alpha=0.6)\n",
    "\n",
    "ax2.set_xlabel('Frequency')\n",
    "plt.setp(ax2.get_yticklabels(), visible=False)\n",
    "plt.setp(ax3.get_yticklabels(), visible=False)\n",
    "plt.tight_layout()\n",
    "fig.savefig('FoDepth.png', dpi=300)\n",
    "plt.show()"
   ]
  },
  {
   "cell_type": "code",
   "execution_count": 77,
   "metadata": {},
   "outputs": [],
   "source": [
    "MC_Av_rho_T_df_B['Filename']=MC_Av_rho_T_df_B['Filename'].str.replace('-', '_')\n",
    "MC_Av_rho_T_df_B['crystal'] = MC_Av_rho_T_df_B['Filename'].str.split('_').str[:2].str.join('_')"
   ]
  },
  {
   "cell_type": "code",
   "execution_count": 79,
   "metadata": {},
   "outputs": [
    {
     "data": {
      "text/plain": [
       "0      NaN\n",
       "1      NaN\n",
       "2      NaN\n",
       "3      NaN\n",
       "4      NaN\n",
       "      ... \n",
       "144    NaN\n",
       "145    NaN\n",
       "146    NaN\n",
       "147    NaN\n",
       "148    NaN\n",
       "Name: Filename, Length: 149, dtype: object"
      ]
     },
     "execution_count": 79,
     "metadata": {},
     "output_type": "execute_result"
    }
   ],
   "source": [
    "MC_Av_rho_T_df_B['Filename']"
   ]
  },
  {
   "cell_type": "code",
   "execution_count": 75,
   "metadata": {},
   "outputs": [
    {
     "name": "stdout",
     "output_type": "stream",
     "text": [
      "Empty DataFrame\n",
      "Columns: [crystal, Filename, CO2_dens_gcm3, SingleFI_D_km, SingleFI_P_kbar, Mean_MC_P_kbar, Med_MC_P_kbar, std_dev_MC_P_kbar, std_dev_MC_P_kbar_from_percentile, Mean_MC_D_km, Med_MC_D_km, std_dev_MC_D_km, std_dev_MC_D_km_from_percentile, error_T_K, error_CO2_dens_gcm3, error_crust_dens_kgm3, T_K, CO2_dens_gcm3_input, model, crust_dens_kgm3, EOS, error_XH2O, error_type_XH2O, error_dist_XH2O]\n",
      "Index: []\n",
      "\n",
      "[0 rows x 24 columns]\n"
     ]
    }
   ],
   "source": [
    "# Replace non-numeric columns with NaN\n",
    "numeric_columns = MC_Av_rho_T_df_B.select_dtypes(include=[np.number]).columns\n",
    "MC_Av_rho_T_df_B.loc[:, ~MC_Av_rho_T_df_B.columns.isin(numeric_columns)] = np.nan\n",
    "\n",
    "# Group by 'crystal' and calculate the mean for each group\n",
    "averaged_df = MC_Av_rho_T_df_B.groupby('crystal').mean().reset_index()\n",
    "\n",
    "print(averaged_df)"
   ]
  },
  {
   "cell_type": "code",
   "execution_count": 72,
   "metadata": {},
   "outputs": [
    {
     "data": {
      "text/plain": [
       "0                 K24_10_FIA\n",
       "1                 K24_10_FIB\n",
       "2                 K24_11_FIA\n",
       "3                 K24_11_FIB\n",
       "4                 K24_11_FIC\n",
       "               ...          \n",
       "144               K24_40_FIA\n",
       "145               K24_40_FIB\n",
       "146    KL0919_013_A_rep2_6mW\n",
       "147    KL0919_013_B_rep2_6mW\n",
       "148    KL0919_013_C_rep2_6mW\n",
       "Name: Filename, Length: 149, dtype: object"
      ]
     },
     "execution_count": 72,
     "metadata": {},
     "output_type": "execute_result"
    }
   ],
   "source": [
    "MC_Av_rho_T_df_B['Filename']"
   ]
  },
  {
   "cell_type": "code",
   "execution_count": null,
   "metadata": {},
   "outputs": [],
   "source": [
    "# Lets do this manually\n",
    "\n",
    "i=3\n",
    "N_dup=500\n",
    "# Temp \n",
    "T_K=df_combo['Temp_from_Fo_all'].iloc[i]+273.15,\n",
    "error_T_K=df_combo['Temp_error'].iloc[i]\n",
    "MC_T_K=T_K + np.random.normal(0, error_T_K, N_dup)\n",
    "\n",
    "# CO2 density\n",
    "CO2_dens_gcm3=df_combo['Density g/cm3'].iloc[i]\n",
    "error_CO2_dens=df_combo['σ Density g/cm3'].iloc[i]\n",
    "MC_CO2=CO2_dens_gcm3 + np.random.normal(0, error_CO2_dens, N_dup)\n",
    "\n",
    "# XH2O\n",
    "XH2O=XH2O_av2[i]\n",
    "error_XH2O=0.5*np.abs(XH2O_max2[i]-XH2O_min2[i])\n",
    "MC_XH2O=XH2O + np.random.normal(0, error_XH2O, N_dup)\n",
    "# MC_XH2O[MC_XH2O<0]=0\n",
    "# MC_CO2[MC_CO2<0]=0"
   ]
  },
  {
   "cell_type": "code",
   "execution_count": null,
   "metadata": {},
   "outputs": [],
   "source": [
    "test_MC=pf.calculate_entrapment_P_XH2O(XH2O=MC_XH2O, CO2_dens_gcm3=MC_CO2, T_K=MC_T_K, T_K_ambient=37+273.15, fast_calcs=True)"
   ]
  },
  {
   "cell_type": "code",
   "execution_count": null,
   "metadata": {},
   "outputs": [],
   "source": []
  },
  {
   "cell_type": "code",
   "execution_count": null,
   "metadata": {},
   "outputs": [],
   "source": []
  },
  {
   "cell_type": "code",
   "execution_count": null,
   "metadata": {},
   "outputs": [
    {
     "name": "stdout",
     "output_type": "stream",
     "text": [
      "0.036471146028317906\n",
      "0.036463577077125164\n"
     ]
    },
    {
     "data": {
      "image/png": "[encoded data removed]",
      "text/plain": [
       "<Figure size 640x480 with 1 Axes>"
      ]
     },
     "metadata": {},
     "output_type": "display_data"
    }
   ],
   "source": [
    "plt.hist(test_MC)\n",
    "plt.hist(MC_All_rho_T_df_B['Pressure (kbar)'].loc[MC_All_rho_T_df_B['Filename']==df_combo['filename'].iloc[i]], fc='None', ec='k')\n",
    "print(np.std(test_MC))\n",
    "print(np.std(MC_All_rho_T_df_B['Pressure (kbar)'].loc[MC_All_rho_T_df_B['Filename']==df_combo['filename'].iloc[i]]))"
   ]
  },
  {
   "cell_type": "markdown",
   "metadata": {},
   "source": [
    "error_CO2_dens"
   ]
  },
  {
   "cell_type": "code",
   "execution_count": null,
   "metadata": {},
   "outputs": [
    {
     "ename": "NameError",
     "evalue": "name 'P_DZ062' is not defined",
     "output_type": "error",
     "traceback": [
      "\u001b[1;31m---------------------------------------------------------------------------\u001b[0m",
      "\u001b[1;31mNameError\u001b[0m                                 Traceback (most recent call last)",
      "Cell \u001b[1;32mIn[33], line 6\u001b[0m\n\u001b[0;32m      1\u001b[0m fig, (ax1, ax2, ax3) \u001b[38;5;241m=\u001b[39m plt\u001b[38;5;241m.\u001b[39msubplots(\u001b[38;5;241m1\u001b[39m, \u001b[38;5;241m3\u001b[39m, figsize\u001b[38;5;241m=\u001b[39m(\u001b[38;5;241m12\u001b[39m,\u001b[38;5;241m5\u001b[39m))\n\u001b[0;32m      4\u001b[0m \u001b[38;5;66;03m## LETS SHOW A CDF FUNCTION OF THE PRESSURE DIFFERENCE - ITS SMALL ############\u001b[39;00m\n\u001b[1;32m----> 6\u001b[0m x1\u001b[38;5;241m=\u001b[39m\u001b[38;5;241m100\u001b[39m\u001b[38;5;241m*\u001b[39mP_DZ062[\u001b[38;5;124m'\u001b[39m\u001b[38;5;124mP_kbar_pureCO2_SW96\u001b[39m\u001b[38;5;124m'\u001b[39m]\n\u001b[0;32m      7\u001b[0m x1_sorted\u001b[38;5;241m=\u001b[39mnp\u001b[38;5;241m.\u001b[39msort(x1)\n\u001b[0;32m      8\u001b[0m ax1\u001b[38;5;241m.\u001b[39mstep(np\u001b[38;5;241m.\u001b[39mconcatenate([x1_sorted, x1_sorted[[\u001b[38;5;241m-\u001b[39m\u001b[38;5;241m1\u001b[39m]]]),\n\u001b[0;32m      9\u001b[0m          np\u001b[38;5;241m.\u001b[39marange(x1_sorted\u001b[38;5;241m.\u001b[39msize\u001b[38;5;241m+\u001b[39m\u001b[38;5;241m1\u001b[39m)\u001b[38;5;241m/\u001b[39mx1_sorted\u001b[38;5;241m.\u001b[39msize, color\u001b[38;5;241m=\u001b[39m\u001b[38;5;124m'\u001b[39m\u001b[38;5;124morange\u001b[39m\u001b[38;5;124m'\u001b[39m, linewidth\u001b[38;5;241m=\u001b[39m\u001b[38;5;241m1\u001b[39m, label\u001b[38;5;241m=\u001b[39m\u001b[38;5;124m'\u001b[39m\u001b[38;5;124mSW96 CO$_2$ EOS\u001b[39m\u001b[38;5;124m'\u001b[39m)\n",
      "\u001b[1;31mNameError\u001b[0m: name 'P_DZ062' is not defined"
     ]
    },
    {
     "data": {
      "image/png": "[encoded data removed]",
      "text/plain": [
       "<Figure size 1200x500 with 3 Axes>"
      ]
     },
     "metadata": {},
     "output_type": "display_data"
    }
   ],
   "source": [
    "fig, (ax1, ax2, ax3) = plt.subplots(1, 3, figsize=(12,5))\n",
    "\n",
    "\n",
    "## LETS SHOW A CDF FUNCTION OF THE PRESSURE DIFFERENCE - ITS SMALL ############\n",
    "\n",
    "x1=100*P_DZ062['P_kbar_pureCO2_SW96']\n",
    "x1_sorted=np.sort(x1)\n",
    "ax1.step(np.concatenate([x1_sorted, x1_sorted[[-1]]]),\n",
    "         np.arange(x1_sorted.size+1)/x1_sorted.size, color='orange', linewidth=1, label='SW96 CO$_2$ EOS')\n",
    "\n",
    "x1=100*P_DZ062['P_kbar_mixCO2_DZ06_Hloss']\n",
    "x1_sorted=np.sort(x1)\n",
    "ax1.step(np.concatenate([x1_sorted, x1_sorted[[-1]]]),\n",
    "         np.arange(x1_sorted.size+1)/x1_sorted.size, color='green', linewidth=1, label='DZ06 CO$_2$-H$_2$O EOS \\n (Av XH2O+-error)')\n",
    "plt.legend()\n",
    "\n",
    "x2=100*P_DZ06_MinXH2O2['P_kbar_mixCO2_DZ06_Hloss']\n",
    "x2_sorted=np.sort(x2)\n",
    "# ax1.step(np.concatenate([x2_sorted, x2_sorted[[-1]]]),\n",
    "#          np.arange(x2_sorted.size+1)/x2_sorted.size, color='red', linewidth=1, linestyle='-', label='DZ06')\n",
    "y = np.arange(x1_sorted.size + 1) / x1_sorted.size  # Cumulative probability for each step\n",
    "\n",
    "\n",
    "x3=100*P_DZ06_MaxXH2O2['P_kbar_mixCO2_DZ06_Hloss']\n",
    "x3_sorted=np.sort(x3)\n",
    "# ax1.step(np.concatenate([x3_sorted, x3_sorted[[-1]]]),\n",
    "#          np.arange(x3_sorted.size+1)/x3_sorted.size, color='blue', linewidth=1, linestyle='-', label='DZ06')\n",
    "ax1.legend()\n",
    "ax1.set_xlabel('P (MPa)')\n",
    "ax1.set_ylabel('Cumulative Density')\n",
    "\n",
    "\n",
    "error = np.full_like(x1_sorted, 5)  # Replace 5 with your actual error values\n",
    "\n",
    "# Adding horizontal error bars - notice 'fmt='none'' for no central marker, adjust 'ecolor' and 'elinewidth' as needed\n",
    "ax1.errorbar(x1_sorted, y[:-1], xerr=[x3_sorted-x1_sorted, x1_sorted-x2_sorted], fmt='o', ms=3, ecolor='k', capsize=2, elinewidth=1, alpha=0.5)\n",
    "\n",
    "\n",
    "ax2.plot()\n",
    "\n",
    "ax2.errorbar(df_combo['Density g/cm3'], 100*MC_Av_rho_T_df_B['SingleFI_P_kbar'], \n",
    "             xerr=df_combo['σ Density g/cm3'], yerr=100*MC_Av_rho_T_df_B['std_dev_MC_P_kbar_from_percentile'],\n",
    "               fmt='d', mec='k',ecolor='grey', mfc='green', ms=5, capsize=2, elinewidth=1, alpha=1)\n",
    "\n",
    "ax2.set_xlabel('CO$_2$ Density (g/cm$^{3}$)')\n",
    "ax2.set_ylabel('Pressure (MPa)')\n",
    "\n",
    "\n",
    "# Lets show different density-depth models\n",
    "\n",
    "Depth_RL=pf.convert_pressure_to_depth(P_kbar=P_DZ062['P_kbar_mixCO2_DZ06_Hloss'], model='ryan_lerner')\n",
    "Depth_2400=pf.convert_pressure_to_depth(P_kbar=P_DZ062['P_kbar_mixCO2_DZ06_Hloss'], crust_dens_kgm3=2400)\n",
    "\n",
    "ax3.errorbar(df_combo['Density g/cm3'], MC_Av_rho_T_df_B['SingleFI_D_km'], \n",
    "             xerr=df_combo['σ Density g/cm3'], yerr=MC_Av_rho_T_df_B['std_dev_MC_D_km_from_percentile'],\n",
    "               fmt='d', mec='k',  ecolor='grey', capsize=2, elinewidth=1, alpha=1, label='Denlinger-Lerner')\n",
    "\n",
    "ax3.plot(df_combo['Density g/cm3'], Depth_RL, 'xk', label='Ryan-Lerner')\n",
    "ax3.plot(df_combo['Density g/cm3'], Depth_2400, 'xm', label='2400 kg/m$^{3}$')\n",
    "ax3.set_xlabel('CO$_2$ Density (g/cm$^{3}$)')\n",
    "ax3.set_ylabel('Depth (km)')\n",
    "ax3.legend()\n",
    "fig.tight_layout()\n",
    "\n",
    "ax1.annotate(\"a)\", xy=(0.93, 0.02), xycoords=\"axes fraction\", fontsize=12)\n",
    "ax2.annotate(\"b)\", xy=(0.93, 0.02), xycoords=\"axes fraction\", fontsize=12)\n",
    "ax3.annotate(\"c)\", xy=(0.93, 0.02), xycoords=\"axes fraction\", fontsize=12)\n",
    "fig.savefig('Errors_2022FI.png', dpi=200)"
   ]
  },
  {
   "cell_type": "code",
   "execution_count": null,
   "metadata": {},
   "outputs": [
    {
     "data": {
      "text/plain": [
       "0.15711339251667447"
      ]
     },
     "execution_count": 55,
     "metadata": {},
     "output_type": "execute_result"
    }
   ],
   "source": [
    "np.nanmean(MC_Av_rho_T_df_B['std_dev_MC_D_km_from_percentile'])"
   ]
  },
  {
   "cell_type": "code",
   "execution_count": null,
   "metadata": {},
   "outputs": [
    {
     "data": {
      "text/plain": [
       "4.078604228976206"
      ]
     },
     "execution_count": 56,
     "metadata": {},
     "output_type": "execute_result"
    }
   ],
   "source": [
    "\n",
    "np.nanmean(MC_Av_rho_T_df_B['std_dev_MC_P_kbar_from_percentile'])*100"
   ]
  },
  {
   "cell_type": "code",
   "execution_count": null,
   "metadata": {},
   "outputs": [
    {
     "data": {
      "text/plain": [
       "0.15711339251667447"
      ]
     },
     "execution_count": 57,
     "metadata": {},
     "output_type": "execute_result"
    }
   ],
   "source": [
    "np.nanmean(MC_Av_rho_T_df_B['std_dev_MC_D_km_from_percentile'])"
   ]
  },
  {
   "cell_type": "code",
   "execution_count": null,
   "metadata": {},
   "outputs": [],
   "source": [
    "df_combo_clip=df_combo.copy()\n",
    "# Lets strip out the columns we dont want.\n",
    "df_combo_clip = df_combo_clip[[col for col in df_combo_clip.columns if not any(x in col for x in\n",
    "                             ['Unnamed', 'cpxprim', 'Fo content (mol%)',  '_y', 'Preferred D_σ_Ne',\n",
    "                              'Preferred D_σ_pkfit', 'HighD_RT', 'LowD_RT', '_SC'\n",
    "                              ])]]\n",
    "\n",
    "\n",
    "\n"
   ]
  },
  {
   "cell_type": "code",
   "execution_count": null,
   "metadata": {},
   "outputs": [],
   "source": [
    "df_combo_clip.to_clipboard(excel=True, index=False)"
   ]
  },
  {
   "cell_type": "code",
   "execution_count": null,
   "metadata": {},
   "outputs": [
    {
     "data": {
      "text/plain": [
       "Index(['X_POS', 'Y_POS', 'Z_POS', 'BEAMCURR', 'BEAMCURR2', 'SiO2_olprim',\n",
       "       'TiO2_olprim', 'Al2O3_olprim', 'Cr2O3_olprim', 'FeO_olprim',\n",
       "       'NiO_olprim', 'MnO_olprim', 'MgO_olprim', 'CaO_olprim', 'Na2O_olprim',\n",
       "       'O_olprim', 'TOTAL_olprim', 'SiO2_CDL99_olprim', 'TiO2_CDL99_olprim',\n",
       "       'Al2O3_CDL99_olprim', 'Cr2O3_CDL99_olprim', 'FeO_CDL99_olprim',\n",
       "       'NiO_CDL99_olprim', 'MnO_CDL99_olprim', 'MgO_CDL99_olprim',\n",
       "       'CaO_CDL99_olprim', 'Na2O_CDL99_olprim', 'Si__PCTERR__olprim',\n",
       "       'Ti__PCTERR__olprim_olprim', 'Al__PCTERR__olprim', 'Cr__PCTERR__olprim',\n",
       "       'Fe__PCTERR__olprim', 'Ni__PCTERR__olprim', 'Mn__PCTERR__olprim',\n",
       "       'Mg__PCTERR__olprim', 'Ca__PCTERR__olprim', 'Na__PCTERR__olprim',\n",
       "       'Si_STD_NUM_olprim', 'Ti_STD_NUM_olprim', 'Al_STD_NUM_olprim',\n",
       "       'Cr_STD_NUM_olprim', 'Fe_STD_NUM_olprim', 'Ni_STD_NUM_olprim',\n",
       "       'Mn_STD_NUM_olprim', 'Mg_STD_NUM_olprim', 'Ca_STD_NUM_olprim',\n",
       "       'Na_STD_NUM_olprim', 'Si_STD_NAM_olprim', 'Ti_STD_NAM_olprim',\n",
       "       'Al_STD_NAM_olprim', 'Cr_STD_NAM_olprim', 'Fe_STD_NAM_olprim',\n",
       "       'Ni_STD_NAM_olprim', 'Mn_STD_NAM_olprim', 'Mg_STD_NAM_olprim',\n",
       "       'Ca_STD_NAM_olprim', 'Na_STD_NAM_olprim', 'Temp_from_Fo', 'Calc_P',\n",
       "       'SO2_mol_ratio', 'melt film', 'Spinel?', 'Shape', 'outer_index',\n",
       "       'outer_area', 'outer_major', 'outer_minor', 'angle', 'inner_index',\n",
       "       'inner_area', 'inner_major', 'inner_minor', 'angle.1', 'Total volume',\n",
       "       'Volume_FI', '% fluid', 'crystal', 'Temp_from_Fo_all', 'Temp_error',\n",
       "       'XH2O'],\n",
       "      dtype='object')"
      ]
     },
     "execution_count": 32,
     "metadata": {},
     "output_type": "execute_result"
    }
   ],
   "source": [
    "df_combo_clip.columns[100:200]"
   ]
  },
  {
   "cell_type": "code",
   "execution_count": null,
   "metadata": {},
   "outputs": [],
   "source": [
    "MC_Av_rho_T_df_B.to_clipboard(excel=True, index=False)"
   ]
  },
  {
   "cell_type": "code",
   "execution_count": null,
   "metadata": {},
   "outputs": [
    {
     "data": {
      "text/plain": [
       "0.15593774730247834"
      ]
     },
     "execution_count": 34,
     "metadata": {},
     "output_type": "execute_result"
    }
   ],
   "source": [
    "np.nanmedian(MC_Av_rho_T_df_B['std_dev_MC_D_km_from_percentile'])"
   ]
  },
  {
   "cell_type": "code",
   "execution_count": null,
   "metadata": {},
   "outputs": [
    {
     "data": {
      "text/plain": [
       "(array([2., 6., 3., 4., 6., 6., 2., 0., 0., 2.]),\n",
       " array([2.50606432, 2.90471531, 3.3033663 , 3.70201728, 4.10066827,\n",
       "        4.49931926, 4.89797024, 5.29662123, 5.69527222, 6.09392321,\n",
       "        6.49257419]),\n",
       " <BarContainer object of 10 artists>)"
      ]
     },
     "execution_count": 35,
     "metadata": {},
     "output_type": "execute_result"
    },
    {
     "data": {
      "image/png": "[encoded data removed]",
      "text/plain": [
       "<Figure size 640x480 with 1 Axes>"
      ]
     },
     "metadata": {},
     "output_type": "display_data"
    }
   ],
   "source": [
    "plt.hist(100*MC_Av_rho_T_df_B['std_dev_MC_P_kbar_from_percentile'])"
   ]
  },
  {
   "cell_type": "code",
   "execution_count": null,
   "metadata": {},
   "outputs": [
    {
     "data": {
      "text/plain": [
       "Index(['Filename', 'CO2_dens_gcm3', 'SingleFI_D_km', 'SingleFI_P_kbar',\n",
       "       'Mean_MC_P_kbar', 'Med_MC_P_kbar', 'std_dev_MC_P_kbar',\n",
       "       'std_dev_MC_P_kbar_from_percentile', 'Mean_MC_D_km', 'Med_MC_D_km',\n",
       "       'std_dev_MC_D_km', 'std_dev_MC_D_km_from_percentile', 'error_T_K',\n",
       "       'error_CO2_dens_gcm3', 'error_crust_dens_kgm3', 'T_K',\n",
       "       'CO2_dens_gcm3_input', 'model', 'crust_dens_kgm3', 'EOS', 'error_XH2O',\n",
       "       'error_type_XH2O', 'error_dist_XH2O'],\n",
       "      dtype='object')"
      ]
     },
     "execution_count": 36,
     "metadata": {},
     "output_type": "execute_result"
    }
   ],
   "source": [
    "MC_Av_rho_T_df_B.columns[0:100]"
   ]
  },
  {
   "cell_type": "code",
   "execution_count": null,
   "metadata": {},
   "outputs": [
    {
     "data": {
      "text/plain": [
       "<matplotlib.legend.Legend at 0x1ca2809c1d0>"
      ]
     },
     "execution_count": 37,
     "metadata": {},
     "output_type": "execute_result"
    },
    {
     "data": {
      "image/png": "[encoded data removed]",
      "text/plain": [
       "<Figure size 640x480 with 1 Axes>"
      ]
     },
     "metadata": {},
     "output_type": "display_data"
    }
   ],
   "source": [
    "Depth_DL=pf.convert_pressure_to_depth(P_kbar=P_DZ06['P_kbar_mixCO2_DZ06_Hloss'], model='denlinger_lerner')\n",
    "x1=Depth_DL\n",
    "x1_sorted=np.sort(x1)\n",
    "plt.step(np.concatenate([x1_sorted, x1_sorted[[-1]]]),\n",
    "         np.arange(x1_sorted.size+1)/x1_sorted.size, color='orange', linewidth=1, label='DZ06 - Denlinger')\n",
    "\n",
    "Depth_RL=pf.convert_pressure_to_depth(P_kbar=P_DZ06['P_kbar_mixCO2_DZ06_Hloss'], model='ryan_lerner')\n",
    "x1=Depth_RL\n",
    "x1_sorted=np.sort(x1)\n",
    "plt.step(np.concatenate([x1_sorted, x1_sorted[[-1]]]),\n",
    "         np.arange(x1_sorted.size+1)/x1_sorted.size, color='red', linewidth=1, label='DZ06 - Ryan')\n",
    "plt.legend()"
   ]
  },
  {
   "cell_type": "code",
   "execution_count": null,
   "metadata": {},
   "outputs": [
    {
     "data": {
      "text/plain": [
       "(array([1., 0., 1., 2., 2., 0., 0., 2., 1., 3., 7., 4., 2., 2., 1., 2., 0.,\n",
       "        0., 0., 1.]),\n",
       " array([0.52227144, 0.76457576, 1.00688008, 1.2491844 , 1.49148872,\n",
       "        1.73379304, 1.97609736, 2.21840168, 2.460706  , 2.70301032,\n",
       "        2.94531464, 3.18761896, 3.42992328, 3.6722276 , 3.91453192,\n",
       "        4.15683624, 4.39914056, 4.64144488, 4.8837492 , 5.12605352,\n",
       "        5.36835784]),\n",
       " <BarContainer object of 20 artists>)"
      ]
     },
     "execution_count": 38,
     "metadata": {},
     "output_type": "execute_result"
    },
    {
     "data": {
      "image/png": "[encoded data removed]",
      "text/plain": [
       "<Figure size 640x480 with 1 Axes>"
      ]
     },
     "metadata": {},
     "output_type": "display_data"
    }
   ],
   "source": [
    "plt.hist(Depth_DL, bins=20)"
   ]
  },
  {
   "cell_type": "code",
   "execution_count": null,
   "metadata": {},
   "outputs": [
    {
     "data": {
      "text/plain": [
       "6"
      ]
     },
     "execution_count": 39,
     "metadata": {},
     "output_type": "execute_result"
    }
   ],
   "source": [
    "sum(Depth_DL<2)"
   ]
  },
  {
   "cell_type": "code",
   "execution_count": null,
   "metadata": {},
   "outputs": [
    {
     "data": {
      "text/plain": [
       "[<matplotlib.lines.Line2D at 0x1ca27d0ef90>]"
      ]
     },
     "execution_count": 40,
     "metadata": {},
     "output_type": "execute_result"
    },
    {
     "data": {
      "image/png": "[encoded data removed]",
      "text/plain": [
       "<Figure size 640x480 with 1 Axes>"
      ]
     },
     "metadata": {},
     "output_type": "display_data"
    }
   ],
   "source": [
    "plt.plot(df_combo['Density g/cm3'], Depth_DL, '.r')"
   ]
  },
  {
   "cell_type": "code",
   "execution_count": null,
   "metadata": {},
   "outputs": [
    {
     "data": {
      "text/plain": [
       "(array([1., 0., 1., 2., 2., 0., 0., 2., 1., 3., 7., 4., 2., 2., 2., 1., 0.,\n",
       "        0., 0., 1.]),\n",
       " array([0.51285481, 0.75562996, 0.99840511, 1.24118026, 1.48395541,\n",
       "        1.72673056, 1.96950572, 2.21228087, 2.45505602, 2.69783117,\n",
       "        2.94060632, 3.18338147, 3.42615662, 3.66893178, 3.91170693,\n",
       "        4.15448208, 4.39725723, 4.64003238, 4.88280753, 5.12558268,\n",
       "        5.36835784]),\n",
       " <BarContainer object of 20 artists>)"
      ]
     },
     "execution_count": 41,
     "metadata": {},
     "output_type": "execute_result"
    },
    {
     "data": {
      "image/png": "[encoded data removed]",
      "text/plain": [
       "<Figure size 640x480 with 1 Axes>"
      ]
     },
     "metadata": {},
     "output_type": "display_data"
    }
   ],
   "source": [
    "plt.hist(MC_Av_rho_T_df_B['SingleFI_D_km'], bins=20)"
   ]
  },
  {
   "cell_type": "code",
   "execution_count": null,
   "metadata": {},
   "outputs": [
    {
     "name": "stdout",
     "output_type": "stream",
     "text": [
      "Median P\n",
      "3.309123314507732\n",
      "25 Quantile\n",
      "1.7398787178061652\n",
      "75 Quantile\n",
      "3.999040416499793\n"
     ]
    }
   ],
   "source": [
    "print('Median P')\n",
    "print(np.median(Depth_RL))\n",
    "print('25 Quantile')\n",
    "print(np.quantile(Depth_RL, 0.16))\n",
    "print('75 Quantile')\n",
    "print(np.quantile(Depth_RL, 0.84))"
   ]
  },
  {
   "cell_type": "code",
   "execution_count": null,
   "metadata": {},
   "outputs": [
    {
     "data": {
      "text/plain": [
       "5.721093015700244"
      ]
     },
     "execution_count": 43,
     "metadata": {},
     "output_type": "execute_result"
    }
   ],
   "source": [
    "max(Depth_RL)"
   ]
  },
  {
   "cell_type": "code",
   "execution_count": null,
   "metadata": {},
   "outputs": [
    {
     "name": "stdout",
     "output_type": "stream",
     "text": [
      "Median P\n",
      "0.7583585870917166\n",
      "16 Quantile\n",
      "0.38678753819145006\n",
      "84 Quantile\n",
      "0.9287190708428936\n"
     ]
    }
   ],
   "source": [
    "print('Median P')\n",
    "print(np.median(P_DZ06['P_kbar_mixCO2_DZ06_Hloss']))\n",
    "print('16 Quantile')\n",
    "print(np.quantile(P_DZ06['P_kbar_mixCO2_DZ06_Hloss'], 0.16))\n",
    "print('84 Quantile')\n",
    "print(np.quantile(P_DZ06['P_kbar_mixCO2_DZ06_Hloss'], 0.84))"
   ]
  },
  {
   "cell_type": "code",
   "execution_count": null,
   "metadata": {},
   "outputs": [],
   "source": []
  },
  {
   "cell_type": "code",
   "execution_count": null,
   "metadata": {},
   "outputs": [],
   "source": []
  },
  {
   "cell_type": "code",
   "execution_count": null,
   "metadata": {},
   "outputs": [
    {
     "data": {
      "text/plain": [
       "(array([ 1.,  3.,  2.,  2.,  6., 11.,  3.,  2.,  0.,  1.]),\n",
       " array([0.1179792 , 0.24289875, 0.3678183 , 0.49273785, 0.6176574 ,\n",
       "        0.74257694, 0.86749649, 0.99241604, 1.11733559, 1.24225513,\n",
       "        1.36717468]),\n",
       " <BarContainer object of 10 artists>)"
      ]
     },
     "execution_count": 45,
     "metadata": {},
     "output_type": "execute_result"
    },
    {
     "data": {
      "image/png": "[encoded data removed]",
      "text/plain": [
       "<Figure size 640x480 with 1 Axes>"
      ]
     },
     "metadata": {},
     "output_type": "display_data"
    }
   ],
   "source": [
    "plt.hist(P_DZ06['P_kbar_pureCO2_SW96'])\n",
    "plt.hist(P_DZ06['P_kbar_mixCO2_DZ06_no_Hloss'])"
   ]
  },
  {
   "cell_type": "code",
   "execution_count": null,
   "metadata": {},
   "outputs": [
    {
     "data": {
      "text/plain": [
       "[<matplotlib.lines.Line2D at 0x1ca288aa650>]"
      ]
     },
     "execution_count": 46,
     "metadata": {},
     "output_type": "execute_result"
    },
    {
     "data": {
      "image/png": "[encoded data removed]",
      "text/plain": [
       "<Figure size 640x480 with 1 Axes>"
      ]
     },
     "metadata": {},
     "output_type": "display_data"
    }
   ],
   "source": [
    "plt.plot(P_DZ06['P_kbar_pureCO2_SW96'],  P_DZ06['P Mix_Hloss/P Pure DZ06'], '.r')"
   ]
  },
  {
   "cell_type": "code",
   "execution_count": null,
   "metadata": {},
   "outputs": [
    {
     "data": {
      "text/plain": [
       "array([0.03139561, 0.02805938, 0.02894046, 0.02868418, 0.02964105,\n",
       "       0.02817475, 0.02944552, 0.05936877, 0.05042746, 0.06574182,\n",
       "       0.07866803, 0.02586885, 0.02735616, 0.        , 0.02368957,\n",
       "       0.02082461, 0.01786234, 0.11561941, 0.02577781, 0.05180682,\n",
       "       0.02878375, 0.03330258, 0.02806323, 0.02886073, 0.02736898,\n",
       "       0.02855738, 0.0286709 , 0.03331399, 0.02979726, 0.02868708,\n",
       "       0.02810656])"
      ]
     },
     "execution_count": 47,
     "metadata": {},
     "output_type": "execute_result"
    }
   ],
   "source": [
    "0.5*np.abs(XH2O_max-XH2O_min)"
   ]
  },
  {
   "cell_type": "code",
   "execution_count": null,
   "metadata": {},
   "outputs": [],
   "source": []
  },
  {
   "cell_type": "code",
   "execution_count": null,
   "metadata": {},
   "outputs": [
    {
     "data": {
      "text/plain": [
       "[<matplotlib.lines.Line2D at 0x1ca280b4050>]"
      ]
     },
     "execution_count": 48,
     "metadata": {},
     "output_type": "execute_result"
    },
    {
     "data": {
      "image/png": "[encoded data removed]",
      "text/plain": [
       "<Figure size 640x480 with 1 Axes>"
      ]
     },
     "metadata": {},
     "output_type": "display_data"
    }
   ],
   "source": [
    "plt.plot(df_combo['power (mW)'], df_combo['Mag (X)'], '.r')"
   ]
  },
  {
   "cell_type": "markdown",
   "metadata": {},
   "source": [
    "## Showing H2O trends"
   ]
  },
  {
   "cell_type": "code",
   "execution_count": null,
   "metadata": {},
   "outputs": [],
   "source": [
    "df_combo.to_clipboard(excel=True)"
   ]
  },
  {
   "cell_type": "code",
   "execution_count": null,
   "metadata": {},
   "outputs": [
    {
     "ename": "ValueError",
     "evalue": "x and y must have same first dimension, but have shapes (31,) and (1,)",
     "output_type": "error",
     "traceback": [
      "\u001b[1;31m---------------------------------------------------------------------------\u001b[0m",
      "\u001b[1;31mValueError\u001b[0m                                Traceback (most recent call last)",
      "Cell \u001b[1;32mIn[50], line 1\u001b[0m\n\u001b[1;32m----> 1\u001b[0m ax1\u001b[38;5;241m.\u001b[39mplot(P_SW96[\u001b[38;5;124m'\u001b[39m\u001b[38;5;124mP_MPa\u001b[39m\u001b[38;5;124m'\u001b[39m], XH2O, \u001b[38;5;124m'\u001b[39m\u001b[38;5;124m.r\u001b[39m\u001b[38;5;124m'\u001b[39m)\n\u001b[0;32m      2\u001b[0m ax2\u001b[38;5;241m.\u001b[39mplot(P_SW96[\u001b[38;5;124m'\u001b[39m\u001b[38;5;124mP_MPa\u001b[39m\u001b[38;5;124m'\u001b[39m], SO2_frac, \u001b[38;5;124m'\u001b[39m\u001b[38;5;124m.y\u001b[39m\u001b[38;5;124m'\u001b[39m)\n",
      "File \u001b[1;32mc:\\Users\\penny\\anaconda3\\Lib\\site-packages\\matplotlib\\axes\\_axes.py:1721\u001b[0m, in \u001b[0;36mAxes.plot\u001b[1;34m(self, scalex, scaley, data, *args, **kwargs)\u001b[0m\n\u001b[0;32m   1478\u001b[0m \u001b[38;5;250m\u001b[39m\u001b[38;5;124;03m\"\"\"\u001b[39;00m\n\u001b[0;32m   1479\u001b[0m \u001b[38;5;124;03mPlot y versus x as lines and/or markers.\u001b[39;00m\n\u001b[0;32m   1480\u001b[0m \n\u001b[1;32m   (...)\u001b[0m\n\u001b[0;32m   1718\u001b[0m \u001b[38;5;124;03m(``'green'``) or hex strings (``'#008000'``).\u001b[39;00m\n\u001b[0;32m   1719\u001b[0m \u001b[38;5;124;03m\"\"\"\u001b[39;00m\n\u001b[0;32m   1720\u001b[0m kwargs \u001b[38;5;241m=\u001b[39m cbook\u001b[38;5;241m.\u001b[39mnormalize_kwargs(kwargs, mlines\u001b[38;5;241m.\u001b[39mLine2D)\n\u001b[1;32m-> 1721\u001b[0m lines \u001b[38;5;241m=\u001b[39m [\u001b[38;5;241m*\u001b[39m\u001b[38;5;28mself\u001b[39m\u001b[38;5;241m.\u001b[39m_get_lines(\u001b[38;5;28mself\u001b[39m, \u001b[38;5;241m*\u001b[39margs, data\u001b[38;5;241m=\u001b[39mdata, \u001b[38;5;241m*\u001b[39m\u001b[38;5;241m*\u001b[39mkwargs)]\n\u001b[0;32m   1722\u001b[0m \u001b[38;5;28;01mfor\u001b[39;00m line \u001b[38;5;129;01min\u001b[39;00m lines:\n\u001b[0;32m   1723\u001b[0m     \u001b[38;5;28mself\u001b[39m\u001b[38;5;241m.\u001b[39madd_line(line)\n",
      "File \u001b[1;32mc:\\Users\\penny\\anaconda3\\Lib\\site-packages\\matplotlib\\axes\\_base.py:303\u001b[0m, in \u001b[0;36m_process_plot_var_args.__call__\u001b[1;34m(self, axes, data, *args, **kwargs)\u001b[0m\n\u001b[0;32m    301\u001b[0m     this \u001b[38;5;241m+\u001b[39m\u001b[38;5;241m=\u001b[39m args[\u001b[38;5;241m0\u001b[39m],\n\u001b[0;32m    302\u001b[0m     args \u001b[38;5;241m=\u001b[39m args[\u001b[38;5;241m1\u001b[39m:]\n\u001b[1;32m--> 303\u001b[0m \u001b[38;5;28;01myield from\u001b[39;00m \u001b[38;5;28mself\u001b[39m\u001b[38;5;241m.\u001b[39m_plot_args(\n\u001b[0;32m    304\u001b[0m     axes, this, kwargs, ambiguous_fmt_datakey\u001b[38;5;241m=\u001b[39mambiguous_fmt_datakey)\n",
      "File \u001b[1;32mc:\\Users\\penny\\anaconda3\\Lib\\site-packages\\matplotlib\\axes\\_base.py:499\u001b[0m, in \u001b[0;36m_process_plot_var_args._plot_args\u001b[1;34m(self, axes, tup, kwargs, return_kwargs, ambiguous_fmt_datakey)\u001b[0m\n\u001b[0;32m    496\u001b[0m     axes\u001b[38;5;241m.\u001b[39myaxis\u001b[38;5;241m.\u001b[39mupdate_units(y)\n\u001b[0;32m    498\u001b[0m \u001b[38;5;28;01mif\u001b[39;00m x\u001b[38;5;241m.\u001b[39mshape[\u001b[38;5;241m0\u001b[39m] \u001b[38;5;241m!=\u001b[39m y\u001b[38;5;241m.\u001b[39mshape[\u001b[38;5;241m0\u001b[39m]:\n\u001b[1;32m--> 499\u001b[0m     \u001b[38;5;28;01mraise\u001b[39;00m \u001b[38;5;167;01mValueError\u001b[39;00m(\u001b[38;5;124mf\u001b[39m\u001b[38;5;124m\"\u001b[39m\u001b[38;5;124mx and y must have same first dimension, but \u001b[39m\u001b[38;5;124m\"\u001b[39m\n\u001b[0;32m    500\u001b[0m                      \u001b[38;5;124mf\u001b[39m\u001b[38;5;124m\"\u001b[39m\u001b[38;5;124mhave shapes \u001b[39m\u001b[38;5;132;01m{\u001b[39;00mx\u001b[38;5;241m.\u001b[39mshape\u001b[38;5;132;01m}\u001b[39;00m\u001b[38;5;124m and \u001b[39m\u001b[38;5;132;01m{\u001b[39;00my\u001b[38;5;241m.\u001b[39mshape\u001b[38;5;132;01m}\u001b[39;00m\u001b[38;5;124m\"\u001b[39m)\n\u001b[0;32m    501\u001b[0m \u001b[38;5;28;01mif\u001b[39;00m x\u001b[38;5;241m.\u001b[39mndim \u001b[38;5;241m>\u001b[39m \u001b[38;5;241m2\u001b[39m \u001b[38;5;129;01mor\u001b[39;00m y\u001b[38;5;241m.\u001b[39mndim \u001b[38;5;241m>\u001b[39m \u001b[38;5;241m2\u001b[39m:\n\u001b[0;32m    502\u001b[0m     \u001b[38;5;28;01mraise\u001b[39;00m \u001b[38;5;167;01mValueError\u001b[39;00m(\u001b[38;5;124mf\u001b[39m\u001b[38;5;124m\"\u001b[39m\u001b[38;5;124mx and y can be no greater than 2D, but have \u001b[39m\u001b[38;5;124m\"\u001b[39m\n\u001b[0;32m    503\u001b[0m                      \u001b[38;5;124mf\u001b[39m\u001b[38;5;124m\"\u001b[39m\u001b[38;5;124mshapes \u001b[39m\u001b[38;5;132;01m{\u001b[39;00mx\u001b[38;5;241m.\u001b[39mshape\u001b[38;5;132;01m}\u001b[39;00m\u001b[38;5;124m and \u001b[39m\u001b[38;5;132;01m{\u001b[39;00my\u001b[38;5;241m.\u001b[39mshape\u001b[38;5;132;01m}\u001b[39;00m\u001b[38;5;124m\"\u001b[39m)\n",
      "\u001b[1;31mValueError\u001b[0m: x and y must have same first dimension, but have shapes (31,) and (1,)"
     ]
    }
   ],
   "source": [
    "\n",
    "ax1.plot(P_SW96['P_MPa'], XH2O, '.r')\n",
    "ax2.plot(P_SW96['P_MPa'], SO2_frac, '.y')"
   ]
  },
  {
   "cell_type": "code",
   "execution_count": null,
   "metadata": {},
   "outputs": [
    {
     "data": {
      "text/plain": [
       "[<matplotlib.lines.Line2D at 0x25b2da88990>]"
      ]
     },
     "execution_count": 47,
     "metadata": {},
     "output_type": "execute_result"
    },
    {
     "data": {
      "image/png": "[encoded data removed]",
      "text/plain": [
       "<Figure size 640x480 with 1 Axes>"
      ]
     },
     "metadata": {},
     "output_type": "display_data"
    }
   ],
   "source": [
    "#plt.plot(df_combo['Density g/cm3'], SO2_frac.fillna(0), '.r')\n",
    "plt.plot(df_combo['Density g/cm3'], P_SW96['P_MPa'], '.r')\n"
   ]
  },
  {
   "cell_type": "code",
   "execution_count": null,
   "metadata": {},
   "outputs": [
    {
     "ename": "SyntaxError",
     "evalue": "invalid syntax (1880845484.py, line 14)",
     "output_type": "error",
     "traceback": [
      "\u001b[1;36m  Cell \u001b[1;32mIn[48], line 14\u001b[1;36m\u001b[0m\n\u001b[1;33m    N_dup=1000, fig_i=0, plot_figure=False)\u001b[0m\n\u001b[1;37m         ^\u001b[0m\n\u001b[1;31mSyntaxError\u001b[0m\u001b[1;31m:\u001b[0m invalid syntax\n"
     ]
    }
   ],
   "source": [
    "\n",
    "df_FI_ML.head()\n",
    "\n",
    "\n",
    "\n",
    "FI_1868=(df_FI_ML['filename'].str.contains('MLP'))\n",
    "FI_1852=(df_FI_ML['filename'].str.contains('MP2'))\n",
    "\n",
    "MC_Av_rho_T_ML, MC_All_rho_T_ML, fig=pf.propagate_FI_uncertainty(\n",
    "T_K=df_FI_ML['Temp_from_Fo']+273.15,\n",
    "error_T_K=np.std(df_FI_ML['Temp_from_Fo']), error_type_T_K='Abs', error_dist_T_K='normal',\n",
    "CO2_dens_gcm3=df_FI_ML['Density g/cm3_x'],error_CO2_dens=df_FI_ML['σ Density g/cm3'], error_type_CO2_dens='Abs', error_dist_CO2_dens='normal',\n",
    "sample_ID=df_FI_ML['filename'],\n",
    "model='ryan_lerner', \n",
    "N_dup=1000, fig_i=0, plot_figure=False)\n",
    "\n",
    "\n",
    "\n",
    "# Lets add the pressure back into the original df\n",
    "df_FI_ML['D (km)']=MC_Av_rho_T_ML['SingleFI_P_kbar']\n",
    "df_FI_ML['D (km)']=MC_Av_rho_T_ML['SingleFI_D_km']"
   ]
  },
  {
   "cell_type": "markdown",
   "metadata": {},
   "source": [
    "## Berenise 2022 data"
   ]
  },
  {
   "cell_type": "code",
   "execution_count": null,
   "metadata": {},
   "outputs": [
    {
     "name": "stdout",
     "output_type": "stream",
     "text": [
      "working on sample number 0\n",
      "working on sample number 20\n"
     ]
    }
   ],
   "source": [
    "df_B=pd.read_excel('Berenise_2022.xlsx')\n",
    "df_B.head()\n",
    "\n",
    "MC_Av_rho_T_df_B, MC_All_rho_T_df_B, fig=pf.propagate_FI_uncertainty(\n",
    "T_K=1299.4908415519822+273.15,\n",
    "error_T_K=50, error_type_T_K='Abs', error_dist_T_K='normal',\n",
    "CO2_dens_gcm3=df_B['Density g/cm3'],error_CO2_dens=df_B['σ Density g/cm3'], \n",
    "error_type_CO2_dens='Abs', error_dist_CO2_dens='normal',\n",
    "sample_ID=df_B['filename'],\n",
    "model='ryan_lerner',\n",
    "N_dup=1000, fig_i=0, plot_figure=False)\n",
    "MC_Av_rho_T_df_B.head()\n",
    "\n",
    "\n",
    "df_B['D (km)']=MC_Av_rho_T_df_B['SingleFI_P_kbar']\n",
    "df_B['D (km)']=MC_Av_rho_T_df_B['SingleFI_D_km']\n",
    "\n"
   ]
  },
  {
   "cell_type": "markdown",
   "metadata": {},
   "source": [
    "## For Kendra\n"
   ]
  },
  {
   "cell_type": "code",
   "execution_count": null,
   "metadata": {},
   "outputs": [
    {
     "data": {
      "image/png": "[encoded data removed]",
      "text/plain": [
       "<Figure size 300x500 with 1 Axes>"
      ]
     },
     "metadata": {},
     "output_type": "display_data"
    }
   ],
   "source": [
    "from matplotlib import patches\n",
    "fig, ((ax3b)) = plt.subplots(1, 1, figsize=(3,5))\n",
    "M2022=pd.concat([df_FI_ML['D (km)'].loc[FI_2022], df_B['D (km)']])\n",
    "ax3b.hist(M2022,alpha=0.7,\n",
    "          orientation='horizontal',color='cyan', bins=20, ec='k')\n",
    "ax3b.set_ylim([6, 0])\n",
    "ax3b.set_ylabel('Depth (km)')\n",
    "ax3b.set_xlabel('# of measurements')\n",
    "\n",
    "\n",
    "ax3b.annotate(\" N$_{FI}$=\" + str(len(M2022)), \n",
    "              xy=(0.4, 0.9), xycoords=\"axes fraction\", fontsize=9)\n",
    "# ax3b.annotate(\" N$_{\\, Fo}$=\" + str(sum(df_FI['Fo'].loc[FI_2022]>0)), \n",
    "#               xy=(0.4, 0.9), xycoords=\"axes fraction\", fontsize=9)\n",
    "ax3b.annotate(\" N$_{Cryst}$=\" + str(len(df_FI_ML['crystal'].loc[FI_2022].unique())+len(df_B['crystal'].unique()) ), \n",
    "              xy=(0.4, 0.85), xycoords=\"axes fraction\", fontsize=9)\n",
    "\n",
    "#ax3b.plot(5.5+np.random.normal(-0.01, 0.01, size=len(M2022)), M2022, 'xc', ms=3)\n",
    "\n",
    "fig.savefig('Depths_for_kendra.pdf', dpi=300)\n"
   ]
  },
  {
   "cell_type": "code",
   "execution_count": null,
   "metadata": {},
   "outputs": [
    {
     "data": {
      "image/png": "[encoded data removed]",
      "text/plain": [
       "<Figure size 1000x500 with 5 Axes>"
      ]
     },
     "metadata": {},
     "output_type": "display_data"
    }
   ],
   "source": [
    "from matplotlib import patches\n",
    "fig, ((ax3b, ax3c, ax3d,  ax3e, ax3k)) = plt.subplots(1, 5, figsize=(10,5), sharey=True,gridspec_kw={'width_ratios': [0.7, 0.7, 0.7, 0.7, 0.7]})\n",
    "plt.subplots_adjust(wspace=0.2, hspace=0)\n",
    "\n",
    "ax3b.axes.get_xaxis().set_visible(False)\n",
    "#ax3b.axes.get_yaxis().set_visible(False)\n",
    "ax3c.axes.get_xaxis().set_visible(False)\n",
    "ax3c.axes.get_yaxis().set_visible(False)\n",
    "ax3d.axes.get_xaxis().set_visible(False)\n",
    "ax3d.axes.get_yaxis().set_visible(False)\n",
    "\n",
    "# 2022 combined\n",
    "M2022=pd.concat([df_FI_ML['D (km)'].loc[FI_2022], df_B['D (km)']])\n",
    "ax3b.hist(M2022,alpha=0.7,density=1,\n",
    "          orientation='horizontal',color='cyan', bins=20, ec='k')\n",
    "\n",
    "\n",
    "# 1868\n",
    "ax3c.hist(df_FI_ML['D (km)'].loc[FI_1868],alpha=0.7,density=1,\n",
    "          orientation='horizontal',color='grey', ec='k', bins=20)\n",
    "\n",
    "# 1852\n",
    "ax3d.hist(df_FI_ML['D (km)'].loc[FI_1852],alpha=0.7,density=1,\n",
    "          orientation='horizontal',color='red', ec='k', bins=20)\n",
    "\n",
    "ax3b.annotate(\"2022\", \n",
    "              xy=(0.4, 0.95), xycoords=\"axes fraction\", fontsize=9,fontweight='bold')\n",
    "ax3b.annotate(\" N$_{FI}$=\" + str(len(M2022)), \n",
    "              xy=(0.4, 0.9), xycoords=\"axes fraction\", fontsize=9)\n",
    "# ax3b.annotate(\" N$_{\\, Fo}$=\" + str(sum(df_FI['Fo'].loc[FI_2022]>0)), \n",
    "#               xy=(0.4, 0.9), xycoords=\"axes fraction\", fontsize=9)\n",
    "ax3b.annotate(\" N$_{Cryst}$=\" + str(len(df_FI_ML['crystal'].loc[FI_2022].unique())+len(df_B['crystal'].unique()) ), \n",
    "              xy=(0.4, 0.85), xycoords=\"axes fraction\", fontsize=9)\n",
    "\n",
    "\n",
    "ax3c.annotate(\"1868\", \n",
    "              xy=(0.4, 0.95), xycoords=\"axes fraction\", fontsize=9,fontweight='bold')\n",
    "ax3c.annotate(\" N$_{FI}$=\" + str(sum(df_FI_ML['D (km)'].loc[FI_1868]>0)), \n",
    "              xy=(0.4, 0.9), xycoords=\"axes fraction\", fontsize=9)\n",
    "# ax3c.annotate(\" N$_{\\, Fo}$=\" + str(sum(df_FI['Fo'].loc[FI_1868]>0)), \n",
    "#               xy=(0.4, 0.9), xycoords=\"axes fraction\", fontsize=9)\n",
    "ax3c.annotate(\" N$_{cryst}$=\" + str(len(df_FI_ML['crystal'].loc[FI_1868].unique())), \n",
    "              xy=(0.4, 0.85), xycoords=\"axes fraction\", fontsize=9)\n",
    "\n",
    "ax3d.annotate(\"1852\", \n",
    "              xy=(0.4, 0.95), xycoords=\"axes fraction\", fontsize=9,fontweight='bold')\n",
    "ax3d.annotate(\" N$_{FI}$=\" + str(sum(df_FI_ML['D (km)'].loc[FI_1852]>0)), \n",
    "              xy=(0.4, 0.9), xycoords=\"axes fraction\", fontsize=9)\n",
    "# ax3d.annotate(\" N$_{\\, Fo}$=\" + str(sum(df_FI['Fo'].loc[FI_1852]>0)), \n",
    "#               xy=(0.4, 0.9), xycoords=\"axes fraction\", fontsize=9)\n",
    "ax3d.annotate(\" N$_{cryst}$=\" + str(len(df_FI_ML['crystal'].loc[FI_1852].unique())), \n",
    "              xy=(0.4, 0.85), xycoords=\"axes fraction\", fontsize=9)\n",
    "\n",
    "ax3e.annotate(\"Geophysics \", \n",
    "              xy=(0.3, 0.95), xycoords=\"axes fraction\", fontsize=9, fontweight='bold')\n",
    "\n",
    "# Decker et al. 1983 - Mogi source 3.1\n",
    "ax3e.errorbar(0.1, 3.1,\n",
    "xerr=0, yerr=0.0,\n",
    "fmt='o', ecolor='grey', elinewidth=0.5, mfc='grey', ms=6, mec='k', capsize=2, label='2022')\n",
    "\n",
    "\n",
    "# Yun et al. (2005 )- 3.6 km radius of 2km - From inteferograms Jan 2002-May 2004\n",
    "rect_Y2005 = patches.Rectangle((0.2, 3.6-2),0.05,4,linewidth=1,edgecolor='k',facecolor='black', label='Yun et al. 2005')\n",
    "ax3e.add_patch(rect_Y2005)\n",
    "# Amelung et al. 2006 - 4.7+-1 - inflation\n",
    "rect_Y2005 = patches.Rectangle((0.35, 4.7-1),0.05,2,linewidth=1,edgecolor='k',facecolor='black', label='Amelung et al. 2007')\n",
    "ax3e.add_patch(rect_Y2005)\n",
    "# Johnson  - gravity\n",
    "ax3e.errorbar(0.55, 3.63,\n",
    "xerr=0, yerr=0.2,\n",
    "fmt='o', ecolor='grey', elinewidth=0.5, mfc='yellow', ms=6, mec='k', capsize=2, label='2022')\n",
    "\n",
    "\n",
    "ax3k.annotate(\"Kilauea FI\", \n",
    "              xy=(0.4, 0.95), xycoords=\"axes fraction\", fontsize=9, fontweight='bold')\n",
    "\n",
    "\n",
    "ax3k.hist(df_FI_Kil['D (km)'],alpha=0.7,density=1,\n",
    "          orientation='horizontal',color='white', bins=20, ec='k')\n",
    "\n",
    "#ax3b.axes.get_xaxis().set_visible(False)\n",
    "#ax3b.axes.get_yaxis().set_visible(False)\n",
    "ax3c.axes.get_xaxis().set_visible(False)\n",
    "ax3c.axes.get_yaxis().set_visible(False)\n",
    "ax3d.axes.get_xaxis().set_visible(False)\n",
    "ax3d.axes.get_yaxis().set_visible(False)\n",
    "ax3e.axes.get_xaxis().set_visible(False)\n",
    "ax3e.axes.get_yaxis().set_visible(False)\n",
    "ax3k.axes.get_yaxis().set_visible(False)\n",
    "ax3k.axes.get_xaxis().set_visible(False)\n",
    "#ax3b.set_ylim([6,14])\n",
    "#ax3b.axis(\"off\")\n",
    "#ax2.set_ylim([6, 0])\n",
    "#ax2.grid(color = 'k', linestyle = '--', linewidth = 1, alpha = 0.1)\n",
    "ax3b.grid(color = 'k', linestyle = '--', linewidth = 1, alpha = 0.1)\n",
    "ax3c.grid(color = 'k', linestyle = '--', linewidth = 1, alpha = 0.1)\n",
    "ax3d.grid(color = 'k', linestyle = '--', linewidth = 1, alpha = 0.1)\n",
    "ax3e.set_xlim([0, 0.7])\n",
    "ax3b.set_ylim([10, 0])\n",
    "#ax3a.set_ylim([0, ])\n",
    "ax3b.set_ylabel('Depth (km)')\n",
    "ax3b.set_xlabel('Host olivine Forsterite')\n",
    "\n",
    "#ax2.legend()\n",
    "fig.savefig('MaunaLoa_Depth.png', dpi=200)"
   ]
  }
 ],
 "metadata": {
  "kernelspec": {
   "display_name": "base",
   "language": "python",
   "name": "python3"
  },
  "language_info": {
   "codemirror_mode": {
    "name": "ipython",
    "version": 3
   },
   "file_extension": ".py",
   "mimetype": "text/x-python",
   "name": "python",
   "nbconvert_exporter": "python",
   "pygments_lexer": "ipython3",
   "version": "3.11.7"
  }
 },
 "nbformat": 4,
 "nbformat_minor": 2
}
