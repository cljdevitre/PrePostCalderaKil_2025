{
 "cells": [
  {
   "cell_type": "code",
   "execution_count": 5,
   "metadata": {},
   "outputs": [],
   "source": [
    "import os\n",
    "DIRNAME=\"/Users/cljd/Documents/Python_dev/PrePostCalderaKil_2025/Version_on_pcloud/Data/Data_SWRZ/EBSD/Rapid_response_day2/h5oina/mis2mean_unfilt\"\n",
    "files = os.listdir(DIRNAME)\n",
    "for f in files:\n",
    "    if \"\\\\\" in f:\n",
    "        newname = f.split(\"\\\\\")[1]\n",
    "        os.rename(os.path.join(DIRNAME,f), os.path.join(DIRNAME,newname))"
   ]
  }
 ],
 "metadata": {
  "kernelspec": {
   "display_name": "base",
   "language": "python",
   "name": "python3"
  },
  "language_info": {
   "codemirror_mode": {
    "name": "ipython",
    "version": 3
   },
   "file_extension": ".py",
   "mimetype": "text/x-python",
   "name": "python",
   "nbconvert_exporter": "python",
   "pygments_lexer": "ipython3",
   "version": "3.11.5"
  }
 },
 "nbformat": 4,
 "nbformat_minor": 2
}
