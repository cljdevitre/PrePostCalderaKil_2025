{
 "cells": [
  {
   "cell_type": "markdown",
   "id": "0a5d30ae-095e-4406-aff7-a817c2603e2c",
   "metadata": {},
   "source": [
    "# 4. Stitch outputs together\n",
    "- Once you have fitted the weak, medium and dense diads, stitch them all together, and apply the Ne correction model"
   ]
  },
  {
   "cell_type": "code",
   "execution_count": 1,
   "id": "56f8c066-4754-4d3e-9217-ae9e8f792016",
   "metadata": {
    "tags": []
   },
   "outputs": [
    {
     "data": {
      "text/plain": [
       "'1.0.5'"
      ]
     },
     "execution_count": 1,
     "metadata": {},
     "output_type": "execute_result"
    }
   ],
   "source": [
    "import numpy as np\n",
    "import pandas as pd\n",
    "import matplotlib.pyplot as plt\n",
    "\n",
    "import joblib\n",
    "import DiadFit as pf\n",
    "pf.__version__"
   ]
  },
  {
   "cell_type": "code",
   "execution_count": 2,
   "id": "cab54670-2019-40be-b7d8-588189ac9ced",
   "metadata": {
    "tags": []
   },
   "outputs": [],
   "source": [
    "# Load in settings, paths, file extensions etc. that you saved in step 1\n",
    "meta_path, spectra_path, spectra_filetype, prefix, str_prefix, spectra_file_ext, meta_file_ext, TruPower=pf.get_settings()"
   ]
  },
  {
   "cell_type": "markdown",
   "id": "8230f033-6c2c-4494-a554-885ab21b2e21",
   "metadata": {},
   "source": [
    "## Load in specra, and combine"
   ]
  },
  {
   "cell_type": "code",
   "execution_count": 3,
   "id": "0b0bb450-0872-44f7-b99e-2585f994efde",
   "metadata": {
    "tags": []
   },
   "outputs": [
    {
     "data": {
      "text/html": [
       "<div>\n",
       "<style scoped>\n",
       "    .dataframe tbody tr th:only-of-type {\n",
       "        vertical-align: middle;\n",
       "    }\n",
       "\n",
       "    .dataframe tbody tr th {\n",
       "        vertical-align: top;\n",
       "    }\n",
       "\n",
       "    .dataframe thead th {\n",
       "        text-align: right;\n",
       "    }\n",
       "</style>\n",
       "<table border=\"1\" class=\"dataframe\">\n",
       "  <thead>\n",
       "    <tr style=\"text-align: right;\">\n",
       "      <th></th>\n",
       "      <th>filename</th>\n",
       "      <th>Splitting</th>\n",
       "      <th>Split_σ</th>\n",
       "      <th>Diad1_Combofit_Cent</th>\n",
       "      <th>Diad1_cent_err</th>\n",
       "      <th>Diad1_Combofit_Height</th>\n",
       "      <th>Diad1_Voigt_Cent</th>\n",
       "      <th>Diad1_Voigt_Area</th>\n",
       "      <th>Diad1_Voigt_Sigma</th>\n",
       "      <th>Diad1_Residual</th>\n",
       "      <th>...</th>\n",
       "      <th>Diad1_Asym70</th>\n",
       "      <th>Diad1_Yuan2017_sym_factor</th>\n",
       "      <th>Diad1_Remigi2021_BSF</th>\n",
       "      <th>Diad2_Asym50</th>\n",
       "      <th>Diad2_Asym70</th>\n",
       "      <th>Diad2_Yuan2017_sym_factor</th>\n",
       "      <th>Diad2_Remigi2021_BSF</th>\n",
       "      <th>Diad1_PDF_Model</th>\n",
       "      <th>Diad2_PDF_Model</th>\n",
       "      <th>Standard</th>\n",
       "    </tr>\n",
       "  </thead>\n",
       "  <tbody>\n",
       "    <tr>\n",
       "      <th>0</th>\n",
       "      <td>K21-51rep1_CRR_DiadFit</td>\n",
       "      <td>103.308048</td>\n",
       "      <td>0.014389</td>\n",
       "      <td>1285.563064</td>\n",
       "      <td>0.013078</td>\n",
       "      <td>177.485300</td>\n",
       "      <td>1285.563064</td>\n",
       "      <td>269.646419</td>\n",
       "      <td>0.575691</td>\n",
       "      <td>2.937882</td>\n",
       "      <td>...</td>\n",
       "      <td>1.056277</td>\n",
       "      <td>0.097398</td>\n",
       "      <td>0.006487</td>\n",
       "      <td>1.168831</td>\n",
       "      <td>1.165414</td>\n",
       "      <td>0.153873</td>\n",
       "      <td>0.002627</td>\n",
       "      <td>PseudoVoigtModel</td>\n",
       "      <td>PseudoVoigtModel</td>\n",
       "      <td>No</td>\n",
       "    </tr>\n",
       "    <tr>\n",
       "      <th>1</th>\n",
       "      <td>K21-51rep2</td>\n",
       "      <td>103.324319</td>\n",
       "      <td>0.006210</td>\n",
       "      <td>1285.558094</td>\n",
       "      <td>0.005913</td>\n",
       "      <td>333.796474</td>\n",
       "      <td>1285.558094</td>\n",
       "      <td>502.556128</td>\n",
       "      <td>0.564167</td>\n",
       "      <td>2.569200</td>\n",
       "      <td>...</td>\n",
       "      <td>1.154195</td>\n",
       "      <td>0.142827</td>\n",
       "      <td>0.003380</td>\n",
       "      <td>1.183871</td>\n",
       "      <td>1.184539</td>\n",
       "      <td>0.183004</td>\n",
       "      <td>0.001663</td>\n",
       "      <td>PseudoVoigtModel</td>\n",
       "      <td>PseudoVoigtModel</td>\n",
       "      <td>No</td>\n",
       "    </tr>\n",
       "    <tr>\n",
       "      <th>2</th>\n",
       "      <td>K21-51rep3</td>\n",
       "      <td>103.305937</td>\n",
       "      <td>0.007835</td>\n",
       "      <td>1285.605176</td>\n",
       "      <td>0.007241</td>\n",
       "      <td>258.618893</td>\n",
       "      <td>1285.605176</td>\n",
       "      <td>396.208527</td>\n",
       "      <td>0.587275</td>\n",
       "      <td>2.328365</td>\n",
       "      <td>...</td>\n",
       "      <td>1.044211</td>\n",
       "      <td>0.041333</td>\n",
       "      <td>0.004542</td>\n",
       "      <td>1.243056</td>\n",
       "      <td>1.256000</td>\n",
       "      <td>0.228554</td>\n",
       "      <td>0.002015</td>\n",
       "      <td>PseudoVoigtModel</td>\n",
       "      <td>PseudoVoigtModel</td>\n",
       "      <td>No</td>\n",
       "    </tr>\n",
       "    <tr>\n",
       "      <th>3</th>\n",
       "      <td>K21-53-FI#2</td>\n",
       "      <td>102.961202</td>\n",
       "      <td>0.026001</td>\n",
       "      <td>1286.455497</td>\n",
       "      <td>0.017954</td>\n",
       "      <td>50.303399</td>\n",
       "      <td>1286.455497</td>\n",
       "      <td>42.288165</td>\n",
       "      <td>0.394875</td>\n",
       "      <td>1.668707</td>\n",
       "      <td>...</td>\n",
       "      <td>1.101695</td>\n",
       "      <td>0.077589</td>\n",
       "      <td>0.015700</td>\n",
       "      <td>1.301724</td>\n",
       "      <td>1.360825</td>\n",
       "      <td>0.192376</td>\n",
       "      <td>0.006357</td>\n",
       "      <td>PseudoVoigtModel</td>\n",
       "      <td>PseudoVoigtModel</td>\n",
       "      <td>No</td>\n",
       "    </tr>\n",
       "    <tr>\n",
       "      <th>4</th>\n",
       "      <td>K21-53-FI#4</td>\n",
       "      <td>103.017828</td>\n",
       "      <td>0.016841</td>\n",
       "      <td>1286.420301</td>\n",
       "      <td>0.012852</td>\n",
       "      <td>83.728592</td>\n",
       "      <td>1286.420301</td>\n",
       "      <td>72.620295</td>\n",
       "      <td>0.407401</td>\n",
       "      <td>1.850314</td>\n",
       "      <td>...</td>\n",
       "      <td>1.021622</td>\n",
       "      <td>0.008175</td>\n",
       "      <td>0.009731</td>\n",
       "      <td>1.213178</td>\n",
       "      <td>1.226300</td>\n",
       "      <td>0.172730</td>\n",
       "      <td>0.006518</td>\n",
       "      <td>PseudoVoigtModel</td>\n",
       "      <td>PseudoVoigtModel</td>\n",
       "      <td>No</td>\n",
       "    </tr>\n",
       "  </tbody>\n",
       "</table>\n",
       "<p>5 rows × 50 columns</p>\n",
       "</div>"
      ],
      "text/plain": [
       "                 filename   Splitting   Split_σ  Diad1_Combofit_Cent  \\\n",
       "0  K21-51rep1_CRR_DiadFit  103.308048  0.014389          1285.563064   \n",
       "1              K21-51rep2  103.324319  0.006210          1285.558094   \n",
       "2              K21-51rep3  103.305937  0.007835          1285.605176   \n",
       "3             K21-53-FI#2  102.961202  0.026001          1286.455497   \n",
       "4             K21-53-FI#4  103.017828  0.016841          1286.420301   \n",
       "\n",
       "   Diad1_cent_err  Diad1_Combofit_Height  Diad1_Voigt_Cent  Diad1_Voigt_Area  \\\n",
       "0        0.013078             177.485300       1285.563064        269.646419   \n",
       "1        0.005913             333.796474       1285.558094        502.556128   \n",
       "2        0.007241             258.618893       1285.605176        396.208527   \n",
       "3        0.017954              50.303399       1286.455497         42.288165   \n",
       "4        0.012852              83.728592       1286.420301         72.620295   \n",
       "\n",
       "   Diad1_Voigt_Sigma  Diad1_Residual  ...  Diad1_Asym70  \\\n",
       "0           0.575691        2.937882  ...      1.056277   \n",
       "1           0.564167        2.569200  ...      1.154195   \n",
       "2           0.587275        2.328365  ...      1.044211   \n",
       "3           0.394875        1.668707  ...      1.101695   \n",
       "4           0.407401        1.850314  ...      1.021622   \n",
       "\n",
       "   Diad1_Yuan2017_sym_factor Diad1_Remigi2021_BSF  Diad2_Asym50  Diad2_Asym70  \\\n",
       "0                   0.097398             0.006487      1.168831      1.165414   \n",
       "1                   0.142827             0.003380      1.183871      1.184539   \n",
       "2                   0.041333             0.004542      1.243056      1.256000   \n",
       "3                   0.077589             0.015700      1.301724      1.360825   \n",
       "4                   0.008175             0.009731      1.213178      1.226300   \n",
       "\n",
       "   Diad2_Yuan2017_sym_factor  Diad2_Remigi2021_BSF   Diad1_PDF_Model  \\\n",
       "0                   0.153873              0.002627  PseudoVoigtModel   \n",
       "1                   0.183004              0.001663  PseudoVoigtModel   \n",
       "2                   0.228554              0.002015  PseudoVoigtModel   \n",
       "3                   0.192376              0.006357  PseudoVoigtModel   \n",
       "4                   0.172730              0.006518  PseudoVoigtModel   \n",
       "\n",
       "    Diad2_PDF_Model  Standard  \n",
       "0  PseudoVoigtModel        No  \n",
       "1  PseudoVoigtModel        No  \n",
       "2  PseudoVoigtModel        No  \n",
       "3  PseudoVoigtModel        No  \n",
       "4  PseudoVoigtModel        No  \n",
       "\n",
       "[5 rows x 50 columns]"
      ]
     },
     "execution_count": 3,
     "metadata": {},
     "output_type": "execute_result"
    }
   ],
   "source": [
    "import os\n",
    "df2=pf.merge_fit_files(path=os.getcwd())\n",
    "df2.head()"
   ]
  },
  {
   "cell_type": "markdown",
   "id": "6449c9b4-d538-4d37-ad78-49c87aa677af",
   "metadata": {},
   "source": [
    "## First, get the metadata for this day"
   ]
  },
  {
   "cell_type": "code",
   "execution_count": 4,
   "id": "027e3ea1-f4ef-4c53-a57d-977e1f639ec9",
   "metadata": {
    "tags": []
   },
   "outputs": [
    {
     "data": {
      "text/plain": [
       "'06 K21-51-IMG5x.txt'"
      ]
     },
     "execution_count": 4,
     "metadata": {},
     "output_type": "execute_result"
    }
   ],
   "source": [
    "# Put the common string you can in all your Ne lines here\n",
    "diad_meta=pf.get_files(path=meta_path,\n",
    "file_ext=meta_file_ext, exclude_str=['Ne', 'NE', 'Si', 'nodiad', 'Ne', 'Cap','window','Video', 'nodiad','diad','Series','no_diad','diad','Series','unquant','map','Series','broad'],\n",
    " sort=True)\n",
    "diad_meta[0]"
   ]
  },
  {
   "cell_type": "markdown",
   "id": "378575ca-336b-4f04-bc6e-cf397dfdc56e",
   "metadata": {},
   "source": [
    "## Now get all the important information out of the metadata files"
   ]
  },
  {
   "cell_type": "code",
   "execution_count": 5,
   "id": "57ebb7b9-5c4f-4b49-9686-36f0d2ec9e8d",
   "metadata": {
    "tags": []
   },
   "outputs": [
    {
     "name": "stderr",
     "output_type": "stream",
     "text": [
      "  0%|          | 0/47 [00:00<?, ?it/s]"
     ]
    },
    {
     "name": "stderr",
     "output_type": "stream",
     "text": [
      "100%|██████████| 47/47 [00:00<00:00, 3550.14it/s]"
     ]
    },
    {
     "name": "stdout",
     "output_type": "stream",
     "text": [
      "Done\n"
     ]
    },
    {
     "name": "stderr",
     "output_type": "stream",
     "text": [
      "\n"
     ]
    },
    {
     "data": {
      "text/html": [
       "<div>\n",
       "<style scoped>\n",
       "    .dataframe tbody tr th:only-of-type {\n",
       "        vertical-align: middle;\n",
       "    }\n",
       "\n",
       "    .dataframe tbody tr th {\n",
       "        vertical-align: top;\n",
       "    }\n",
       "\n",
       "    .dataframe thead th {\n",
       "        text-align: right;\n",
       "    }\n",
       "</style>\n",
       "<table border=\"1\" class=\"dataframe\">\n",
       "  <thead>\n",
       "    <tr style=\"text-align: right;\">\n",
       "      <th></th>\n",
       "      <th>filename</th>\n",
       "      <th>date</th>\n",
       "      <th>Month</th>\n",
       "      <th>Day</th>\n",
       "      <th>power (mW)</th>\n",
       "      <th>Int_time (s)</th>\n",
       "      <th>accumulations</th>\n",
       "      <th>Mag (X)</th>\n",
       "      <th>duration</th>\n",
       "      <th>24hr_time</th>\n",
       "      <th>sec since midnight</th>\n",
       "      <th>Spectral Center</th>\n",
       "    </tr>\n",
       "  </thead>\n",
       "  <tbody>\n",
       "    <tr>\n",
       "      <th>0</th>\n",
       "      <td>K21-51rep1.txt</td>\n",
       "      <td>October 26, 2022\\n</td>\n",
       "      <td>October</td>\n",
       "      <td>26.0</td>\n",
       "      <td>12.075</td>\n",
       "      <td>45.0</td>\n",
       "      <td>5.0</td>\n",
       "      <td>50.0</td>\n",
       "      <td>['0h', '3m', '47s']</td>\n",
       "      <td>11:53:53 AM\\n</td>\n",
       "      <td>42833.0</td>\n",
       "      <td>1325.004</td>\n",
       "    </tr>\n",
       "    <tr>\n",
       "      <th>1</th>\n",
       "      <td>K21-51rep2.txt</td>\n",
       "      <td>October 26, 2022\\n</td>\n",
       "      <td>October</td>\n",
       "      <td>26.0</td>\n",
       "      <td>12.095</td>\n",
       "      <td>45.0</td>\n",
       "      <td>5.0</td>\n",
       "      <td>50.0</td>\n",
       "      <td>['0h', '3m', '46s']</td>\n",
       "      <td>12:00:22 PM\\n</td>\n",
       "      <td>43222.0</td>\n",
       "      <td>1325.004</td>\n",
       "    </tr>\n",
       "    <tr>\n",
       "      <th>2</th>\n",
       "      <td>K21-51rep3.txt</td>\n",
       "      <td>October 26, 2022\\n</td>\n",
       "      <td>October</td>\n",
       "      <td>26.0</td>\n",
       "      <td>12.131</td>\n",
       "      <td>45.0</td>\n",
       "      <td>5.0</td>\n",
       "      <td>50.0</td>\n",
       "      <td>['0h', '3m', '47s']</td>\n",
       "      <td>12:05:15 PM\\n</td>\n",
       "      <td>43515.0</td>\n",
       "      <td>1325.004</td>\n",
       "    </tr>\n",
       "    <tr>\n",
       "      <th>3</th>\n",
       "      <td>K21-53-FI#2.txt</td>\n",
       "      <td>October 26, 2022\\n</td>\n",
       "      <td>October</td>\n",
       "      <td>26.0</td>\n",
       "      <td>12.029</td>\n",
       "      <td>45.0</td>\n",
       "      <td>5.0</td>\n",
       "      <td>50.0</td>\n",
       "      <td>['0h', '3m', '46s']</td>\n",
       "      <td>12:57:26 PM\\n</td>\n",
       "      <td>46646.0</td>\n",
       "      <td>1325.004</td>\n",
       "    </tr>\n",
       "    <tr>\n",
       "      <th>4</th>\n",
       "      <td>K21-53-FI#4.txt</td>\n",
       "      <td>October 26, 2022\\n</td>\n",
       "      <td>October</td>\n",
       "      <td>26.0</td>\n",
       "      <td>19.972</td>\n",
       "      <td>45.0</td>\n",
       "      <td>5.0</td>\n",
       "      <td>50.0</td>\n",
       "      <td>['0h', '3m', '47s']</td>\n",
       "      <td>1:25:13 PM\\n</td>\n",
       "      <td>48313.0</td>\n",
       "      <td>1325.004</td>\n",
       "    </tr>\n",
       "  </tbody>\n",
       "</table>\n",
       "</div>"
      ],
      "text/plain": [
       "          filename                date    Month   Day  power (mW)  \\\n",
       "0   K21-51rep1.txt  October 26, 2022\\n  October  26.0      12.075   \n",
       "1   K21-51rep2.txt  October 26, 2022\\n  October  26.0      12.095   \n",
       "2   K21-51rep3.txt  October 26, 2022\\n  October  26.0      12.131   \n",
       "3  K21-53-FI#2.txt  October 26, 2022\\n  October  26.0      12.029   \n",
       "4  K21-53-FI#4.txt  October 26, 2022\\n  October  26.0      19.972   \n",
       "\n",
       "   Int_time (s)  accumulations  Mag (X)             duration      24hr_time  \\\n",
       "0          45.0            5.0     50.0  ['0h', '3m', '47s']  11:53:53 AM\\n   \n",
       "1          45.0            5.0     50.0  ['0h', '3m', '46s']  12:00:22 PM\\n   \n",
       "2          45.0            5.0     50.0  ['0h', '3m', '47s']  12:05:15 PM\\n   \n",
       "3          45.0            5.0     50.0  ['0h', '3m', '46s']  12:57:26 PM\\n   \n",
       "4          45.0            5.0     50.0  ['0h', '3m', '47s']   1:25:13 PM\\n   \n",
       "\n",
       "   sec since midnight  Spectral Center  \n",
       "0             42833.0         1325.004  \n",
       "1             43222.0         1325.004  \n",
       "2             43515.0         1325.004  \n",
       "3             46646.0         1325.004  \n",
       "4             48313.0         1325.004  "
      ]
     },
     "execution_count": 5,
     "metadata": {},
     "output_type": "execute_result"
    }
   ],
   "source": [
    "# This will only work for WITEC - for other vendors, you might have to use the file datastamp. See the HORIBA example\n",
    "meta=pf.stitch_metadata_in_loop_witec(path=meta_path, \n",
    "Allfiles=diad_meta, prefix=prefix, str_prefix=str_prefix,\n",
    "trupower=TruPower)\n",
    "meta.head()"
   ]
  },
  {
   "cell_type": "markdown",
   "id": "b7a6fbc0-2b4a-4f4b-8cfd-cc227047d833",
   "metadata": {},
   "source": [
    "## Then get a simple file name you can stitch with the spectra"
   ]
  },
  {
   "cell_type": "code",
   "execution_count": 6,
   "id": "ea140384-9cb9-41bf-b57e-eb16120afe12",
   "metadata": {
    "tags": []
   },
   "outputs": [
    {
     "name": "stdout",
     "output_type": "stream",
     "text": [
      "good job, no duplicate file names\n"
     ]
    },
    {
     "data": {
      "text/plain": [
       "'K21-51rep1'"
      ]
     },
     "execution_count": 6,
     "metadata": {},
     "output_type": "execute_result"
    }
   ],
   "source": [
    "file_m=pf.extracting_filenames_generic(names=meta['filename'],\n",
    "   file_ext=meta_file_ext)\n",
    "# Checks they are all unique\n",
    "file_m[0]"
   ]
  },
  {
   "cell_type": "code",
   "execution_count": 7,
   "id": "6873c9b3",
   "metadata": {},
   "outputs": [
    {
     "data": {
      "text/plain": [
       "array(['K21-51rep1', 'K21-51rep2', 'K21-51rep3', 'K21-53-FI#2',\n",
       "       'K21-53-FI#4', 'K21-54-FI#2', 'K21-54-FI#4', 'K21-55-FI#1',\n",
       "       'K21-56-FI#1', 'K21-57-FI#1', 'K21-57-FI#2', 'K21-57-FI#3',\n",
       "       'K21-57-FI#4', 'K21-58-FI#1-20mw', 'K21-58-FI#2',\n",
       "       'K21-58-FI#1-12mw', 'K21-58-FI#3'], dtype=object)"
      ]
     },
     "execution_count": 7,
     "metadata": {},
     "output_type": "execute_result"
    }
   ],
   "source": [
    "for i in range(len(file_m)):\n",
    "    file_m[i] = file_m[i].replace(\"--Information\", \"\")\n",
    "file_m"
   ]
  },
  {
   "cell_type": "markdown",
   "id": "80671930-57b4-476b-aec2-0aaf23f072b5",
   "metadata": {},
   "source": [
    "## Now get filename from spectra into same form as metadata"
   ]
  },
  {
   "cell_type": "code",
   "execution_count": 8,
   "id": "5f50eae0-1a22-4d35-ba87-0d853343d859",
   "metadata": {
    "tags": []
   },
   "outputs": [
    {
     "name": "stdout",
     "output_type": "stream",
     "text": [
      "good job, no duplicate file names\n",
      "K21-51rep1\n"
     ]
    }
   ],
   "source": [
    "# Remove these to get the pure file name\n",
    "file_s=pf.extracting_filenames_generic(\n",
    "    names=df2['filename'].reset_index(drop=True),\n",
    "   file_ext=spectra_file_ext)\n",
    "\n",
    "# Remove the cosmic rays, as doesnt have it in the metatdata\n",
    "file_s = np.char.replace(file_s.astype(str), \"_CRR_DiadFit\", \"\")\n",
    "print(file_s[0])"
   ]
  },
  {
   "cell_type": "code",
   "execution_count": 9,
   "id": "3d1dbc89",
   "metadata": {},
   "outputs": [
    {
     "data": {
      "text/plain": [
       "array(['K21-51rep1', 'K21-51rep2', 'K21-51rep3', 'K21-53-FI#2',\n",
       "       'K21-53-FI#4', 'K21-54-FI#2', 'K21-54-FI#4', 'K21-55-FI#1',\n",
       "       'K21-56-FI#1', 'K21-58-FI#1-20mw', 'K21-58-FI#2',\n",
       "       'K21-58-FI#1-12mw', 'K21-57-FI#1', 'K21-57-FI#2', 'K21-57-FI#3',\n",
       "       'K21-57-FI#4', 'K21-58-FI#3'], dtype='<U16')"
      ]
     },
     "execution_count": 9,
     "metadata": {},
     "output_type": "execute_result"
    }
   ],
   "source": [
    "for i in range(len(file_s)):\n",
    "    file_s[i] = file_s[i].replace(\"--Spec.Data 1\", \"\")\n",
    "file_s"
   ]
  },
  {
   "cell_type": "code",
   "execution_count": 10,
   "id": "51df3d2d-72d3-44fa-a076-b087cfdb5eef",
   "metadata": {
    "tags": []
   },
   "outputs": [
    {
     "data": {
      "text/html": [
       "<div>\n",
       "<style scoped>\n",
       "    .dataframe tbody tr th:only-of-type {\n",
       "        vertical-align: middle;\n",
       "    }\n",
       "\n",
       "    .dataframe tbody tr th {\n",
       "        vertical-align: top;\n",
       "    }\n",
       "\n",
       "    .dataframe thead th {\n",
       "        text-align: right;\n",
       "    }\n",
       "</style>\n",
       "<table border=\"1\" class=\"dataframe\">\n",
       "  <thead>\n",
       "    <tr style=\"text-align: right;\">\n",
       "      <th></th>\n",
       "      <th>filename</th>\n",
       "      <th>Splitting</th>\n",
       "      <th>Split_σ</th>\n",
       "      <th>Diad1_Combofit_Cent</th>\n",
       "      <th>Diad1_cent_err</th>\n",
       "      <th>Diad1_Combofit_Height</th>\n",
       "      <th>Diad1_Voigt_Cent</th>\n",
       "      <th>Diad1_Voigt_Area</th>\n",
       "      <th>Diad1_Voigt_Sigma</th>\n",
       "      <th>Diad1_Residual</th>\n",
       "      <th>...</th>\n",
       "      <th>Month</th>\n",
       "      <th>Day</th>\n",
       "      <th>power (mW)</th>\n",
       "      <th>Int_time (s)</th>\n",
       "      <th>accumulations</th>\n",
       "      <th>Mag (X)</th>\n",
       "      <th>duration</th>\n",
       "      <th>24hr_time</th>\n",
       "      <th>sec since midnight</th>\n",
       "      <th>Spectral Center</th>\n",
       "    </tr>\n",
       "  </thead>\n",
       "  <tbody>\n",
       "    <tr>\n",
       "      <th>0</th>\n",
       "      <td>K21-51rep1</td>\n",
       "      <td>103.308048</td>\n",
       "      <td>0.014389</td>\n",
       "      <td>1285.563064</td>\n",
       "      <td>0.013078</td>\n",
       "      <td>177.485300</td>\n",
       "      <td>1285.563064</td>\n",
       "      <td>269.646419</td>\n",
       "      <td>0.575691</td>\n",
       "      <td>2.937882</td>\n",
       "      <td>...</td>\n",
       "      <td>October</td>\n",
       "      <td>26.0</td>\n",
       "      <td>12.075</td>\n",
       "      <td>45.0</td>\n",
       "      <td>5.0</td>\n",
       "      <td>50.0</td>\n",
       "      <td>['0h', '3m', '47s']</td>\n",
       "      <td>11:53:53 AM\\n</td>\n",
       "      <td>42833.0</td>\n",
       "      <td>1325.004</td>\n",
       "    </tr>\n",
       "    <tr>\n",
       "      <th>1</th>\n",
       "      <td>K21-51rep2</td>\n",
       "      <td>103.324319</td>\n",
       "      <td>0.006210</td>\n",
       "      <td>1285.558094</td>\n",
       "      <td>0.005913</td>\n",
       "      <td>333.796474</td>\n",
       "      <td>1285.558094</td>\n",
       "      <td>502.556128</td>\n",
       "      <td>0.564167</td>\n",
       "      <td>2.569200</td>\n",
       "      <td>...</td>\n",
       "      <td>October</td>\n",
       "      <td>26.0</td>\n",
       "      <td>12.095</td>\n",
       "      <td>45.0</td>\n",
       "      <td>5.0</td>\n",
       "      <td>50.0</td>\n",
       "      <td>['0h', '3m', '46s']</td>\n",
       "      <td>12:00:22 PM\\n</td>\n",
       "      <td>43222.0</td>\n",
       "      <td>1325.004</td>\n",
       "    </tr>\n",
       "    <tr>\n",
       "      <th>2</th>\n",
       "      <td>K21-51rep3</td>\n",
       "      <td>103.305937</td>\n",
       "      <td>0.007835</td>\n",
       "      <td>1285.605176</td>\n",
       "      <td>0.007241</td>\n",
       "      <td>258.618893</td>\n",
       "      <td>1285.605176</td>\n",
       "      <td>396.208527</td>\n",
       "      <td>0.587275</td>\n",
       "      <td>2.328365</td>\n",
       "      <td>...</td>\n",
       "      <td>October</td>\n",
       "      <td>26.0</td>\n",
       "      <td>12.131</td>\n",
       "      <td>45.0</td>\n",
       "      <td>5.0</td>\n",
       "      <td>50.0</td>\n",
       "      <td>['0h', '3m', '47s']</td>\n",
       "      <td>12:05:15 PM\\n</td>\n",
       "      <td>43515.0</td>\n",
       "      <td>1325.004</td>\n",
       "    </tr>\n",
       "    <tr>\n",
       "      <th>3</th>\n",
       "      <td>K21-53-FI#2</td>\n",
       "      <td>102.961202</td>\n",
       "      <td>0.026001</td>\n",
       "      <td>1286.455497</td>\n",
       "      <td>0.017954</td>\n",
       "      <td>50.303399</td>\n",
       "      <td>1286.455497</td>\n",
       "      <td>42.288165</td>\n",
       "      <td>0.394875</td>\n",
       "      <td>1.668707</td>\n",
       "      <td>...</td>\n",
       "      <td>October</td>\n",
       "      <td>26.0</td>\n",
       "      <td>12.029</td>\n",
       "      <td>45.0</td>\n",
       "      <td>5.0</td>\n",
       "      <td>50.0</td>\n",
       "      <td>['0h', '3m', '46s']</td>\n",
       "      <td>12:57:26 PM\\n</td>\n",
       "      <td>46646.0</td>\n",
       "      <td>1325.004</td>\n",
       "    </tr>\n",
       "    <tr>\n",
       "      <th>4</th>\n",
       "      <td>K21-53-FI#4</td>\n",
       "      <td>103.017828</td>\n",
       "      <td>0.016841</td>\n",
       "      <td>1286.420301</td>\n",
       "      <td>0.012852</td>\n",
       "      <td>83.728592</td>\n",
       "      <td>1286.420301</td>\n",
       "      <td>72.620295</td>\n",
       "      <td>0.407401</td>\n",
       "      <td>1.850314</td>\n",
       "      <td>...</td>\n",
       "      <td>October</td>\n",
       "      <td>26.0</td>\n",
       "      <td>19.972</td>\n",
       "      <td>45.0</td>\n",
       "      <td>5.0</td>\n",
       "      <td>50.0</td>\n",
       "      <td>['0h', '3m', '47s']</td>\n",
       "      <td>1:25:13 PM\\n</td>\n",
       "      <td>48313.0</td>\n",
       "      <td>1325.004</td>\n",
       "    </tr>\n",
       "  </tbody>\n",
       "</table>\n",
       "<p>5 rows × 61 columns</p>\n",
       "</div>"
      ],
      "text/plain": [
       "      filename   Splitting   Split_σ  Diad1_Combofit_Cent  Diad1_cent_err  \\\n",
       "0   K21-51rep1  103.308048  0.014389          1285.563064        0.013078   \n",
       "1   K21-51rep2  103.324319  0.006210          1285.558094        0.005913   \n",
       "2   K21-51rep3  103.305937  0.007835          1285.605176        0.007241   \n",
       "3  K21-53-FI#2  102.961202  0.026001          1286.455497        0.017954   \n",
       "4  K21-53-FI#4  103.017828  0.016841          1286.420301        0.012852   \n",
       "\n",
       "   Diad1_Combofit_Height  Diad1_Voigt_Cent  Diad1_Voigt_Area  \\\n",
       "0             177.485300       1285.563064        269.646419   \n",
       "1             333.796474       1285.558094        502.556128   \n",
       "2             258.618893       1285.605176        396.208527   \n",
       "3              50.303399       1286.455497         42.288165   \n",
       "4              83.728592       1286.420301         72.620295   \n",
       "\n",
       "   Diad1_Voigt_Sigma  Diad1_Residual  ...    Month   Day power (mW)  \\\n",
       "0           0.575691        2.937882  ...  October  26.0     12.075   \n",
       "1           0.564167        2.569200  ...  October  26.0     12.095   \n",
       "2           0.587275        2.328365  ...  October  26.0     12.131   \n",
       "3           0.394875        1.668707  ...  October  26.0     12.029   \n",
       "4           0.407401        1.850314  ...  October  26.0     19.972   \n",
       "\n",
       "   Int_time (s)  accumulations  Mag (X)             duration      24hr_time  \\\n",
       "0          45.0            5.0     50.0  ['0h', '3m', '47s']  11:53:53 AM\\n   \n",
       "1          45.0            5.0     50.0  ['0h', '3m', '46s']  12:00:22 PM\\n   \n",
       "2          45.0            5.0     50.0  ['0h', '3m', '47s']  12:05:15 PM\\n   \n",
       "3          45.0            5.0     50.0  ['0h', '3m', '46s']  12:57:26 PM\\n   \n",
       "4          45.0            5.0     50.0  ['0h', '3m', '47s']   1:25:13 PM\\n   \n",
       "\n",
       "   sec since midnight  Spectral Center  \n",
       "0             42833.0         1325.004  \n",
       "1             43222.0         1325.004  \n",
       "2             43515.0         1325.004  \n",
       "3             46646.0         1325.004  \n",
       "4             48313.0         1325.004  \n",
       "\n",
       "[5 rows x 61 columns]"
      ]
     },
     "execution_count": 10,
     "metadata": {},
     "output_type": "execute_result"
    }
   ],
   "source": [
    "# Combining them together, if the form above matches, e.g. checking one doesnt have a suffix and the other one does\n",
    "\n",
    "meta['filename']=file_m\n",
    "df2['filename']=file_s\n",
    "df_combo=pd.merge(df2, meta, on='filename').reset_index(drop=True)\n",
    "df_combo.head()"
   ]
  },
  {
   "cell_type": "markdown",
   "id": "54b229a4-026d-4e4e-ab0a-ed0362566919",
   "metadata": {},
   "source": [
    "## If you have secondary phases, now is the time to merge those in"
   ]
  },
  {
   "cell_type": "code",
   "execution_count": 11,
   "id": "bc38474f-45cd-4fa5-beef-49db69e82989",
   "metadata": {
    "tags": []
   },
   "outputs": [
    {
     "name": "stdout",
     "output_type": "stream",
     "text": [
      "Made a df!\n",
      "good job, no duplicate file names\n"
     ]
    }
   ],
   "source": [
    "df_combo_sec_phase=pf.merge_in_carb_SO2(\n",
    "df_combo=df_combo, file1_name='Carb_Peak_fits.xlsx', file2_name='SO2_Peak_fits.xlsx', \n",
    "prefix=prefix, str_prefix=str_prefix, file_ext=spectra_file_ext)\n",
    "#df_combo_sec_phase.to_excel('FI_fitting_w_sec_phases.xlsx', index=False)"
   ]
  },
  {
   "cell_type": "markdown",
   "id": "663ac0cc",
   "metadata": {},
   "source": [
    "## If you have SO2, now is the time to calculate the molar proportion of SO2"
   ]
  },
  {
   "cell_type": "code",
   "execution_count": 12,
   "id": "d78b7bcf",
   "metadata": {
    "tags": []
   },
   "outputs": [],
   "source": [
    "if 'Peak_Area_SO2' in df_combo_sec_phase:\n",
    "    \n",
    "\n",
    "        SO2_mol_ratio=pf.calculate_SO2_CO2_ratio(SO2_area=df_combo_sec_phase['Peak_Area_SO2'], \n",
    "        diad1_area=df_combo_sec_phase['Diad1_Voigt_Area'], diad2_area=df_combo_sec_phase['Diad2_Voigt_Area'], \n",
    "                SO2_cross_sec=5.3, diad1_cross_sec=0.89, diad2_cross_sec=1.4)\n",
    "        \n",
    "\n",
    "        df_combo_sec_phase['SO2_mol_ratio']=SO2_mol_ratio"
   ]
  },
  {
   "cell_type": "markdown",
   "id": "cb9bb968",
   "metadata": {},
   "source": [
    "## Now we calculate the density using the UC Berkeley Densimeter. \n",
    "- If you have your own densimeter, I am happy to add a function for it if you email me (penny_wieser@berkeley.edu)\n",
    "- This particular function propagates the uncertainty on 1) The neon line correction model 2) the peak fits of the diads themselves 3) The densimeter. "
   ]
  },
  {
   "cell_type": "code",
   "execution_count": 13,
   "id": "fe4ba00c",
   "metadata": {
    "tags": []
   },
   "outputs": [
    {
     "name": "stdout",
     "output_type": "stream",
     "text": [
      "5.5009021446708445e-06\n"
     ]
    },
    {
     "data": {
      "text/html": [
       "<div>\n",
       "<style scoped>\n",
       "    .dataframe tbody tr th:only-of-type {\n",
       "        vertical-align: middle;\n",
       "    }\n",
       "\n",
       "    .dataframe tbody tr th {\n",
       "        vertical-align: top;\n",
       "    }\n",
       "\n",
       "    .dataframe thead th {\n",
       "        text-align: right;\n",
       "    }\n",
       "</style>\n",
       "<table border=\"1\" class=\"dataframe\">\n",
       "  <thead>\n",
       "    <tr style=\"text-align: right;\">\n",
       "      <th></th>\n",
       "      <th>filename</th>\n",
       "      <th>Density g/cm3</th>\n",
       "      <th>σ Density g/cm3</th>\n",
       "      <th>σ Density g/cm3 (from Ne+peakfit)</th>\n",
       "      <th>σ Density g/cm3 (from densimeter)</th>\n",
       "      <th>Corrected_Splitting</th>\n",
       "      <th>Corrected_Splitting_σ</th>\n",
       "      <th>Corrected_Splitting_σ_Ne</th>\n",
       "      <th>Corrected_Splitting_σ_peak_fit</th>\n",
       "      <th>power (mW)</th>\n",
       "      <th>...</th>\n",
       "      <th>Peak_Area_Carb</th>\n",
       "      <th>Peak_Height_Carb</th>\n",
       "      <th>Model_name_y</th>\n",
       "      <th>Carb_Diad_Ratio</th>\n",
       "      <th>SO2_Diad_Ratio</th>\n",
       "      <th>SO2_mol_ratio</th>\n",
       "      <th>time</th>\n",
       "      <th>preferred_values</th>\n",
       "      <th>lower_values</th>\n",
       "      <th>upper_values</th>\n",
       "    </tr>\n",
       "  </thead>\n",
       "  <tbody>\n",
       "    <tr>\n",
       "      <th>0</th>\n",
       "      <td>K21-51rep1</td>\n",
       "      <td>0.134861</td>\n",
       "      <td>0.006878</td>\n",
       "      <td>0.005694</td>\n",
       "      <td>0.003858</td>\n",
       "      <td>103.090608</td>\n",
       "      <td>0.014369</td>\n",
       "      <td>0.000555</td>\n",
       "      <td>0.014389</td>\n",
       "      <td>12.075</td>\n",
       "      <td>...</td>\n",
       "      <td>NaN</td>\n",
       "      <td>NaN</td>\n",
       "      <td>NaN</td>\n",
       "      <td>NaN</td>\n",
       "      <td>0.025656</td>\n",
       "      <td>0.010964</td>\n",
       "      <td>42833.0</td>\n",
       "      <td>0.997895</td>\n",
       "      <td>0.997890</td>\n",
       "      <td>0.997901</td>\n",
       "    </tr>\n",
       "    <tr>\n",
       "      <th>1</th>\n",
       "      <td>K21-51rep2</td>\n",
       "      <td>0.141104</td>\n",
       "      <td>0.004592</td>\n",
       "      <td>0.002465</td>\n",
       "      <td>0.003874</td>\n",
       "      <td>103.106364</td>\n",
       "      <td>0.006222</td>\n",
       "      <td>0.000554</td>\n",
       "      <td>0.006210</td>\n",
       "      <td>12.095</td>\n",
       "      <td>...</td>\n",
       "      <td>NaN</td>\n",
       "      <td>NaN</td>\n",
       "      <td>NaN</td>\n",
       "      <td>NaN</td>\n",
       "      <td>0.041454</td>\n",
       "      <td>0.017596</td>\n",
       "      <td>43222.0</td>\n",
       "      <td>0.997891</td>\n",
       "      <td>0.997885</td>\n",
       "      <td>0.997896</td>\n",
       "    </tr>\n",
       "    <tr>\n",
       "      <th>2</th>\n",
       "      <td>K21-51rep3</td>\n",
       "      <td>0.133693</td>\n",
       "      <td>0.004951</td>\n",
       "      <td>0.003106</td>\n",
       "      <td>0.003855</td>\n",
       "      <td>103.087661</td>\n",
       "      <td>0.007838</td>\n",
       "      <td>0.000553</td>\n",
       "      <td>0.007835</td>\n",
       "      <td>12.131</td>\n",
       "      <td>...</td>\n",
       "      <td>NaN</td>\n",
       "      <td>NaN</td>\n",
       "      <td>NaN</td>\n",
       "      <td>NaN</td>\n",
       "      <td>0.032495</td>\n",
       "      <td>0.013846</td>\n",
       "      <td>43515.0</td>\n",
       "      <td>0.997887</td>\n",
       "      <td>0.997882</td>\n",
       "      <td>0.997892</td>\n",
       "    </tr>\n",
       "    <tr>\n",
       "      <th>3</th>\n",
       "      <td>K21-53-FI#2</td>\n",
       "      <td>0.000000</td>\n",
       "      <td>0.000000</td>\n",
       "      <td>0.000000</td>\n",
       "      <td>0.000000</td>\n",
       "      <td>102.740005</td>\n",
       "      <td>0.025951</td>\n",
       "      <td>0.000545</td>\n",
       "      <td>0.026001</td>\n",
       "      <td>12.029</td>\n",
       "      <td>...</td>\n",
       "      <td>NaN</td>\n",
       "      <td>NaN</td>\n",
       "      <td>NaN</td>\n",
       "      <td>NaN</td>\n",
       "      <td>NaN</td>\n",
       "      <td>NaN</td>\n",
       "      <td>46646.0</td>\n",
       "      <td>0.997852</td>\n",
       "      <td>0.997846</td>\n",
       "      <td>0.997857</td>\n",
       "    </tr>\n",
       "    <tr>\n",
       "      <th>4</th>\n",
       "      <td>K21-53-FI#4</td>\n",
       "      <td>0.017623</td>\n",
       "      <td>0.007732</td>\n",
       "      <td>0.006662</td>\n",
       "      <td>0.003925</td>\n",
       "      <td>102.794730</td>\n",
       "      <td>0.016813</td>\n",
       "      <td>0.000545</td>\n",
       "      <td>0.016841</td>\n",
       "      <td>19.972</td>\n",
       "      <td>...</td>\n",
       "      <td>NaN</td>\n",
       "      <td>NaN</td>\n",
       "      <td>NaN</td>\n",
       "      <td>NaN</td>\n",
       "      <td>NaN</td>\n",
       "      <td>NaN</td>\n",
       "      <td>48313.0</td>\n",
       "      <td>0.997834</td>\n",
       "      <td>0.997829</td>\n",
       "      <td>0.997840</td>\n",
       "    </tr>\n",
       "  </tbody>\n",
       "</table>\n",
       "<p>5 rows × 97 columns</p>\n",
       "</div>"
      ],
      "text/plain": [
       "      filename  Density g/cm3  σ Density g/cm3  \\\n",
       "0   K21-51rep1       0.134861         0.006878   \n",
       "1   K21-51rep2       0.141104         0.004592   \n",
       "2   K21-51rep3       0.133693         0.004951   \n",
       "3  K21-53-FI#2       0.000000         0.000000   \n",
       "4  K21-53-FI#4       0.017623         0.007732   \n",
       "\n",
       "   σ Density g/cm3 (from Ne+peakfit)  σ Density g/cm3 (from densimeter)  \\\n",
       "0                           0.005694                           0.003858   \n",
       "1                           0.002465                           0.003874   \n",
       "2                           0.003106                           0.003855   \n",
       "3                           0.000000                           0.000000   \n",
       "4                           0.006662                           0.003925   \n",
       "\n",
       "   Corrected_Splitting  Corrected_Splitting_σ  Corrected_Splitting_σ_Ne  \\\n",
       "0           103.090608               0.014369                  0.000555   \n",
       "1           103.106364               0.006222                  0.000554   \n",
       "2           103.087661               0.007838                  0.000553   \n",
       "3           102.740005               0.025951                  0.000545   \n",
       "4           102.794730               0.016813                  0.000545   \n",
       "\n",
       "   Corrected_Splitting_σ_peak_fit  power (mW)  ...  Peak_Area_Carb  \\\n",
       "0                        0.014389      12.075  ...             NaN   \n",
       "1                        0.006210      12.095  ...             NaN   \n",
       "2                        0.007835      12.131  ...             NaN   \n",
       "3                        0.026001      12.029  ...             NaN   \n",
       "4                        0.016841      19.972  ...             NaN   \n",
       "\n",
       "   Peak_Height_Carb  Model_name_y Carb_Diad_Ratio SO2_Diad_Ratio  \\\n",
       "0               NaN           NaN             NaN       0.025656   \n",
       "1               NaN           NaN             NaN       0.041454   \n",
       "2               NaN           NaN             NaN       0.032495   \n",
       "3               NaN           NaN             NaN            NaN   \n",
       "4               NaN           NaN             NaN            NaN   \n",
       "\n",
       "   SO2_mol_ratio     time  preferred_values  lower_values  upper_values  \n",
       "0       0.010964  42833.0          0.997895      0.997890      0.997901  \n",
       "1       0.017596  43222.0          0.997891      0.997885      0.997896  \n",
       "2       0.013846  43515.0          0.997887      0.997882      0.997892  \n",
       "3            NaN  46646.0          0.997852      0.997846      0.997857  \n",
       "4            NaN  48313.0          0.997834      0.997829      0.997840  \n",
       "\n",
       "[5 rows x 97 columns]"
      ]
     },
     "execution_count": 13,
     "metadata": {},
     "output_type": "execute_result"
    }
   ],
   "source": [
    "df=pf.calculate_density_ucb(df_combo=df_combo_sec_phase,\n",
    "  Ne_pickle_str='Neon_corr_model.pkl',  temp='SupCrit', CI_split=0.67, CI_neon=0.67)\n",
    "df.head()"
   ]
  },
  {
   "cell_type": "code",
   "execution_count": 14,
   "id": "904175da",
   "metadata": {},
   "outputs": [
    {
     "name": "stdout",
     "output_type": "stream",
     "text": [
      "5.5009021446708445e-06\n"
     ]
    },
    {
     "data": {
      "text/html": [
       "<div>\n",
       "<style scoped>\n",
       "    .dataframe tbody tr th:only-of-type {\n",
       "        vertical-align: middle;\n",
       "    }\n",
       "\n",
       "    .dataframe tbody tr th {\n",
       "        vertical-align: top;\n",
       "    }\n",
       "\n",
       "    .dataframe thead th {\n",
       "        text-align: right;\n",
       "    }\n",
       "</style>\n",
       "<table border=\"1\" class=\"dataframe\">\n",
       "  <thead>\n",
       "    <tr style=\"text-align: right;\">\n",
       "      <th></th>\n",
       "      <th>filename</th>\n",
       "      <th>Density g/cm3</th>\n",
       "      <th>σ Density g/cm3</th>\n",
       "      <th>σ Density g/cm3 (from Ne+peakfit)</th>\n",
       "      <th>σ Density g/cm3 (from densimeter)</th>\n",
       "      <th>Corrected_Splitting</th>\n",
       "      <th>Corrected_Splitting_σ</th>\n",
       "      <th>Corrected_Splitting_σ_Ne</th>\n",
       "      <th>Corrected_Splitting_σ_peak_fit</th>\n",
       "      <th>power (mW)</th>\n",
       "      <th>...</th>\n",
       "      <th>Peak_Area_Carb</th>\n",
       "      <th>Peak_Height_Carb</th>\n",
       "      <th>Model_name_y</th>\n",
       "      <th>Carb_Diad_Ratio</th>\n",
       "      <th>SO2_Diad_Ratio</th>\n",
       "      <th>SO2_mol_ratio</th>\n",
       "      <th>time</th>\n",
       "      <th>preferred_values</th>\n",
       "      <th>lower_values</th>\n",
       "      <th>upper_values</th>\n",
       "    </tr>\n",
       "  </thead>\n",
       "  <tbody>\n",
       "    <tr>\n",
       "      <th>0</th>\n",
       "      <td>K21-51rep1</td>\n",
       "      <td>0.134861</td>\n",
       "      <td>0.006878</td>\n",
       "      <td>0.005694</td>\n",
       "      <td>0.003858</td>\n",
       "      <td>103.090608</td>\n",
       "      <td>0.014369</td>\n",
       "      <td>0.000555</td>\n",
       "      <td>0.014389</td>\n",
       "      <td>12.075</td>\n",
       "      <td>...</td>\n",
       "      <td>NaN</td>\n",
       "      <td>NaN</td>\n",
       "      <td>NaN</td>\n",
       "      <td>NaN</td>\n",
       "      <td>0.025656</td>\n",
       "      <td>0.010964</td>\n",
       "      <td>42833.0</td>\n",
       "      <td>0.997895</td>\n",
       "      <td>0.997890</td>\n",
       "      <td>0.997901</td>\n",
       "    </tr>\n",
       "    <tr>\n",
       "      <th>1</th>\n",
       "      <td>K21-51rep2</td>\n",
       "      <td>0.141104</td>\n",
       "      <td>0.004592</td>\n",
       "      <td>0.002465</td>\n",
       "      <td>0.003874</td>\n",
       "      <td>103.106364</td>\n",
       "      <td>0.006222</td>\n",
       "      <td>0.000554</td>\n",
       "      <td>0.006210</td>\n",
       "      <td>12.095</td>\n",
       "      <td>...</td>\n",
       "      <td>NaN</td>\n",
       "      <td>NaN</td>\n",
       "      <td>NaN</td>\n",
       "      <td>NaN</td>\n",
       "      <td>0.041454</td>\n",
       "      <td>0.017596</td>\n",
       "      <td>43222.0</td>\n",
       "      <td>0.997891</td>\n",
       "      <td>0.997885</td>\n",
       "      <td>0.997896</td>\n",
       "    </tr>\n",
       "    <tr>\n",
       "      <th>2</th>\n",
       "      <td>K21-51rep3</td>\n",
       "      <td>0.133693</td>\n",
       "      <td>0.004951</td>\n",
       "      <td>0.003106</td>\n",
       "      <td>0.003855</td>\n",
       "      <td>103.087661</td>\n",
       "      <td>0.007838</td>\n",
       "      <td>0.000553</td>\n",
       "      <td>0.007835</td>\n",
       "      <td>12.131</td>\n",
       "      <td>...</td>\n",
       "      <td>NaN</td>\n",
       "      <td>NaN</td>\n",
       "      <td>NaN</td>\n",
       "      <td>NaN</td>\n",
       "      <td>0.032495</td>\n",
       "      <td>0.013846</td>\n",
       "      <td>43515.0</td>\n",
       "      <td>0.997887</td>\n",
       "      <td>0.997882</td>\n",
       "      <td>0.997892</td>\n",
       "    </tr>\n",
       "    <tr>\n",
       "      <th>3</th>\n",
       "      <td>K21-53-FI#2</td>\n",
       "      <td>0.000000</td>\n",
       "      <td>0.000000</td>\n",
       "      <td>0.000000</td>\n",
       "      <td>0.000000</td>\n",
       "      <td>102.740005</td>\n",
       "      <td>0.025951</td>\n",
       "      <td>0.000545</td>\n",
       "      <td>0.026001</td>\n",
       "      <td>12.029</td>\n",
       "      <td>...</td>\n",
       "      <td>NaN</td>\n",
       "      <td>NaN</td>\n",
       "      <td>NaN</td>\n",
       "      <td>NaN</td>\n",
       "      <td>NaN</td>\n",
       "      <td>NaN</td>\n",
       "      <td>46646.0</td>\n",
       "      <td>0.997852</td>\n",
       "      <td>0.997846</td>\n",
       "      <td>0.997857</td>\n",
       "    </tr>\n",
       "    <tr>\n",
       "      <th>4</th>\n",
       "      <td>K21-53-FI#4</td>\n",
       "      <td>0.017623</td>\n",
       "      <td>0.007732</td>\n",
       "      <td>0.006662</td>\n",
       "      <td>0.003925</td>\n",
       "      <td>102.794730</td>\n",
       "      <td>0.016813</td>\n",
       "      <td>0.000545</td>\n",
       "      <td>0.016841</td>\n",
       "      <td>19.972</td>\n",
       "      <td>...</td>\n",
       "      <td>NaN</td>\n",
       "      <td>NaN</td>\n",
       "      <td>NaN</td>\n",
       "      <td>NaN</td>\n",
       "      <td>NaN</td>\n",
       "      <td>NaN</td>\n",
       "      <td>48313.0</td>\n",
       "      <td>0.997834</td>\n",
       "      <td>0.997829</td>\n",
       "      <td>0.997840</td>\n",
       "    </tr>\n",
       "  </tbody>\n",
       "</table>\n",
       "<p>5 rows × 97 columns</p>\n",
       "</div>"
      ],
      "text/plain": [
       "      filename  Density g/cm3  σ Density g/cm3  \\\n",
       "0   K21-51rep1       0.134861         0.006878   \n",
       "1   K21-51rep2       0.141104         0.004592   \n",
       "2   K21-51rep3       0.133693         0.004951   \n",
       "3  K21-53-FI#2       0.000000         0.000000   \n",
       "4  K21-53-FI#4       0.017623         0.007732   \n",
       "\n",
       "   σ Density g/cm3 (from Ne+peakfit)  σ Density g/cm3 (from densimeter)  \\\n",
       "0                           0.005694                           0.003858   \n",
       "1                           0.002465                           0.003874   \n",
       "2                           0.003106                           0.003855   \n",
       "3                           0.000000                           0.000000   \n",
       "4                           0.006662                           0.003925   \n",
       "\n",
       "   Corrected_Splitting  Corrected_Splitting_σ  Corrected_Splitting_σ_Ne  \\\n",
       "0           103.090608               0.014369                  0.000555   \n",
       "1           103.106364               0.006222                  0.000554   \n",
       "2           103.087661               0.007838                  0.000553   \n",
       "3           102.740005               0.025951                  0.000545   \n",
       "4           102.794730               0.016813                  0.000545   \n",
       "\n",
       "   Corrected_Splitting_σ_peak_fit  power (mW)  ...  Peak_Area_Carb  \\\n",
       "0                        0.014389      12.075  ...             NaN   \n",
       "1                        0.006210      12.095  ...             NaN   \n",
       "2                        0.007835      12.131  ...             NaN   \n",
       "3                        0.026001      12.029  ...             NaN   \n",
       "4                        0.016841      19.972  ...             NaN   \n",
       "\n",
       "   Peak_Height_Carb  Model_name_y Carb_Diad_Ratio SO2_Diad_Ratio  \\\n",
       "0               NaN           NaN             NaN       0.025656   \n",
       "1               NaN           NaN             NaN       0.041454   \n",
       "2               NaN           NaN             NaN       0.032495   \n",
       "3               NaN           NaN             NaN            NaN   \n",
       "4               NaN           NaN             NaN            NaN   \n",
       "\n",
       "   SO2_mol_ratio     time  preferred_values  lower_values  upper_values  \n",
       "0       0.010964  42833.0          0.997895      0.997890      0.997901  \n",
       "1       0.017596  43222.0          0.997891      0.997885      0.997896  \n",
       "2       0.013846  43515.0          0.997887      0.997882      0.997892  \n",
       "3            NaN  46646.0          0.997852      0.997846      0.997857  \n",
       "4            NaN  48313.0          0.997834      0.997829      0.997840  \n",
       "\n",
       "[5 rows x 97 columns]"
      ]
     },
     "execution_count": 14,
     "metadata": {},
     "output_type": "execute_result"
    }
   ],
   "source": [
    "df=pf.calculate_density_ucb(df_combo=df_combo_sec_phase,\n",
    "  Ne_pickle_str='Neon_corr_model.pkl',  temp='SupCrit', CI_split=0.67, CI_neon=0.67)\n",
    "df.head()"
   ]
  },
  {
   "cell_type": "markdown",
   "id": "4fba3346",
   "metadata": {},
   "source": [
    "### This cell saves the merged together dataframe with the folder name and the date you fitted it"
   ]
  },
  {
   "cell_type": "code",
   "execution_count": 15,
   "id": "a290a591",
   "metadata": {
    "tags": []
   },
   "outputs": [
    {
     "name": "stdout",
     "output_type": "stream",
     "text": [
      "Raman_session_October 26, 2022_fitted_2025-01-24.xlsx\n"
     ]
    }
   ],
   "source": [
    "\n",
    "from datetime import date\n",
    "today = date.today()\n",
    "today_str = today.strftime(\"%Y-%m-%d\")\n",
    "sorted_df = df.sort_values('sec since midnight')\n",
    "date=meta['date'].iloc[0].replace('\\n', '')\n",
    "name='Raman_session_'+date+'_fitted_'+today_str+'.xlsx'\n",
    "print(name)\n",
    "# sorted_df=sorted_df[~(sorted_df['Corrected_Splitting']>106)]\n",
    "sorted_df.to_excel(name)"
   ]
  },
  {
   "cell_type": "markdown",
   "id": "b34ba05e",
   "metadata": {},
   "source": [
    "## This helps visualize the errors on each spectra "
   ]
  },
  {
   "cell_type": "code",
   "execution_count": 16,
   "id": "8f67ccb8",
   "metadata": {
    "tags": []
   },
   "outputs": [
    {
     "data": {
      "image/png": "[encoded data removed]",
      "text/plain": [
       "<Figure size 1000x800 with 4 Axes>"
      ]
     },
     "metadata": {},
     "output_type": "display_data"
    }
   ],
   "source": [
    "\n",
    "fig, ((ax1, ax2), (ax3, ax4)) = plt.subplots(2, 2, figsize=(10,8))\n",
    "df=sorted_df.loc[(sorted_df['Density g/cm3']>0) & (sorted_df['Standard']!='Yes')]\n",
    "\n",
    "ax1.errorbar(df['Corrected_Splitting'], df['Density g/cm3'],\n",
    "xerr=df['Corrected_Splitting_σ'], yerr=df['σ Density g/cm3'],\n",
    "fmt='o', ecolor='grey', elinewidth=0.8, mfc='red', ms=6, mec='k', capsize=2)\n",
    "ax1.set_xlabel('Corrected Splitting (cm$^{-1}$)')\n",
    "ax1.set_ylabel('Density g/cm3')\n",
    "\n",
    "ax2.plot(df['Corrected_Splitting'], \n",
    "100*df['Corrected_Splitting_σ_Ne']/(df['Corrected_Splitting_σ_Ne']+df['Corrected_Splitting_σ_peak_fit']),\n",
    " 'ok', mfc='orange')\n",
    "ax2.set_ylabel('% of splitting error from Neon Correction')\n",
    "ax2.set_xlabel('Corrected Splitting (cm$^{-1}$)')\n",
    "ax3.plot(df['Density g/cm3'], 100*df['σ Density g/cm3 (from Ne+peakfit)']/df['Density g/cm3'], \n",
    "'ok', mfc='cyan', ms=5, label='Error: Ne + pk fit')\n",
    "\n",
    "\n",
    "ax3.plot(df['Density g/cm3'], 100*df['σ Density g/cm3 (from densimeter)']/df['Density g/cm3'], \n",
    "'ok', mfc='blue', ms=5, label='Error: Densimeter')\n",
    "\n",
    "ax3.plot(df['Density g/cm3'], 100*df['σ Density g/cm3']/df['Density g/cm3'], \n",
    "'ok', mfc='yellow', ms=5, label='Overall Error')\n",
    "ax3.set_ylabel('% error')\n",
    "ax3.set_xlabel('Density g/cm3')\n",
    "ax3.legend()\n",
    "\n",
    "ax4.plot(df['Density g/cm3'], df['σ Density g/cm3 (from densimeter)'], \n",
    "'ok', mfc='blue', ms=5, label='Error: Densimeter')\n",
    "ax4.plot(df['Density g/cm3'], df['σ Density g/cm3 (from Ne+peakfit)'], \n",
    "'ok', mfc='cyan', ms=5, label='Error: Splitting')\n",
    "ax4.plot(df['Density g/cm3'], df['σ Density g/cm3'], \n",
    "'ok', mfc='yellow', ms=5, label='Overall Error')\n",
    "ax4.set_ylabel('error (g/cm3)')\n",
    "ax4.set_xlabel('Density g/cm3')\n",
    "ax4.legend()\n",
    "\n",
    "fig.tight_layout()"
   ]
  },
  {
   "cell_type": "markdown",
   "id": "7e8d2ec6",
   "metadata": {},
   "source": [
    "## lets look at standards\n"
   ]
  },
  {
   "cell_type": "code",
   "execution_count": 17,
   "id": "342b137e",
   "metadata": {},
   "outputs": [
    {
     "data": {
      "text/plain": [
       "Text(0, 0.5, 'Density g/cm3')"
      ]
     },
     "execution_count": 17,
     "metadata": {},
     "output_type": "execute_result"
    },
    {
     "data": {
      "image/png": "[encoded data removed]",
      "text/plain": [
       "<Figure size 500x400 with 1 Axes>"
      ]
     },
     "metadata": {},
     "output_type": "display_data"
    }
   ],
   "source": [
    "fig, (ax1) = plt.subplots(1, 1, figsize=(5,4))\n",
    "df=sorted_df.loc[ sorted_df['Standard']=='Yes']\n",
    "ax1.errorbar(df['Corrected_Splitting'], df['Density g/cm3'],\n",
    "xerr=df['Corrected_Splitting_σ'], yerr=df['σ Density g/cm3'],\n",
    "fmt='o', ecolor='grey', elinewidth=0.8, mfc='red', ms=6, mec='k', capsize=2)\n",
    "ax1.set_xlabel('Corrected Splitting (cm$^{-1}$)')\n",
    "ax1.set_ylabel('Density g/cm3')"
   ]
  },
  {
   "cell_type": "code",
   "execution_count": 18,
   "id": "76c8800b",
   "metadata": {},
   "outputs": [
    {
     "data": {
      "text/html": [
       "<div>\n",
       "<style scoped>\n",
       "    .dataframe tbody tr th:only-of-type {\n",
       "        vertical-align: middle;\n",
       "    }\n",
       "\n",
       "    .dataframe tbody tr th {\n",
       "        vertical-align: top;\n",
       "    }\n",
       "\n",
       "    .dataframe thead th {\n",
       "        text-align: right;\n",
       "    }\n",
       "</style>\n",
       "<table border=\"1\" class=\"dataframe\">\n",
       "  <thead>\n",
       "    <tr style=\"text-align: right;\">\n",
       "      <th></th>\n",
       "      <th>filename</th>\n",
       "      <th>Density g/cm3</th>\n",
       "      <th>σ Density g/cm3</th>\n",
       "      <th>σ Density g/cm3 (from Ne+peakfit)</th>\n",
       "      <th>σ Density g/cm3 (from densimeter)</th>\n",
       "      <th>Corrected_Splitting</th>\n",
       "      <th>Corrected_Splitting_σ</th>\n",
       "      <th>Corrected_Splitting_σ_Ne</th>\n",
       "      <th>Corrected_Splitting_σ_peak_fit</th>\n",
       "      <th>power (mW)</th>\n",
       "      <th>...</th>\n",
       "      <th>Peak_Area_Carb</th>\n",
       "      <th>Peak_Height_Carb</th>\n",
       "      <th>Model_name_y</th>\n",
       "      <th>Carb_Diad_Ratio</th>\n",
       "      <th>SO2_Diad_Ratio</th>\n",
       "      <th>SO2_mol_ratio</th>\n",
       "      <th>time</th>\n",
       "      <th>preferred_values</th>\n",
       "      <th>lower_values</th>\n",
       "      <th>upper_values</th>\n",
       "    </tr>\n",
       "  </thead>\n",
       "  <tbody>\n",
       "  </tbody>\n",
       "</table>\n",
       "<p>0 rows × 97 columns</p>\n",
       "</div>"
      ],
      "text/plain": [
       "Empty DataFrame\n",
       "Columns: [filename, Density g/cm3, σ Density g/cm3, σ Density g/cm3 (from Ne+peakfit), σ Density g/cm3 (from densimeter), Corrected_Splitting, Corrected_Splitting_σ, Corrected_Splitting_σ_Ne, Corrected_Splitting_σ_peak_fit, power (mW), Spectral Center, Preferred D_σ_Ne, Preferred D_σ_pkfit, in range, Notes, LowD_RT, HighD_RT, LowD_SC, LowD_SC_σ, MedD_SC, MedD_SC_σ, HighD_SC, HighD_SC_σ, Temperature, Splitting, Split_σ, Diad1_Combofit_Cent, Diad1_cent_err, Diad1_Combofit_Height, Diad1_Voigt_Cent, Diad1_Voigt_Area, Diad1_Voigt_Sigma, Diad1_Residual, Diad1_Prop_Lor, Diad1_fwhm, Diad1_refit, Diad2_Combofit_Cent, Diad2_cent_err, Diad2_Combofit_Height, Diad2_Voigt_Cent, Diad2_Voigt_Area, Diad2_Voigt_Sigma, Diad2_Voigt_Gamma, Diad2_Residual, Diad2_Prop_Lor, Diad2_fwhm, Diad2_refit, HB1_Cent, HB1_Area, HB1_Sigma, HB2_Cent, HB2_Area, HB2_Sigma, C13_Cent, C13_Area, C13_Sigma, Diad2_Gauss_Cent, Diad2_Gauss_Area, Diad2_Gauss_Sigma, Diad1_Gauss_Cent, Diad1_Gauss_Area, Diad1_Gauss_Sigma, Diad1_Asym50, Diad1_Asym70, Diad1_Yuan2017_sym_factor, Diad1_Remigi2021_BSF, Diad2_Asym50, Diad2_Asym70, Diad2_Yuan2017_sym_factor, Diad2_Remigi2021_BSF, Diad1_PDF_Model, Diad2_PDF_Model, Standard, date, Month, Day, Int_time (s), accumulations, Mag (X), duration, 24hr_time, sec since midnight, Peak_Cent_SO2, Peak_Area_SO2, Peak_Height_SO2, Model_name_x, Peak_Cent_Carb, Peak_Area_Carb, Peak_Height_Carb, Model_name_y, Carb_Diad_Ratio, SO2_Diad_Ratio, SO2_mol_ratio, time, preferred_values, lower_values, upper_values]\n",
       "Index: []\n",
       "\n",
       "[0 rows x 97 columns]"
      ]
     },
     "execution_count": 18,
     "metadata": {},
     "output_type": "execute_result"
    }
   ],
   "source": [
    "df"
   ]
  },
  {
   "cell_type": "code",
   "execution_count": 19,
   "id": "cfea5861",
   "metadata": {},
   "outputs": [],
   "source": [
    "df.to_clipboard(excel=True,index=False)"
   ]
  },
  {
   "cell_type": "markdown",
   "id": "3f9497d4",
   "metadata": {},
   "source": [
    "## If you were analysing fluid inclusions, lets calculate their pressures\n",
    "- This bit isn't valid for melt inclusion vapour bubbles. "
   ]
  },
  {
   "cell_type": "code",
   "execution_count": 20,
   "id": "6954ac35",
   "metadata": {
    "tags": []
   },
   "outputs": [
    {
     "data": {
      "text/plain": [
       "Text(0, 0.5, '# of FI')"
      ]
     },
     "execution_count": 20,
     "metadata": {},
     "output_type": "execute_result"
    },
    {
     "data": {
      "image/png": "[encoded data removed]",
      "text/plain": [
       "<Figure size 1000x500 with 2 Axes>"
      ]
     },
     "metadata": {},
     "output_type": "display_data"
    }
   ],
   "source": [
    "# Calculate pressure with a temperature estimate\n",
    "Temp_C=1240\n",
    "df=sorted_df.loc[(sorted_df['Density g/cm3']>0) & (sorted_df['Standard']!='Yes')]\n",
    "\n",
    "Pressure_SW96=pf.calculate_P_for_rho_T(T_K=Temp_C+273.15,\n",
    "                CO2_dens_gcm3=df['Density g/cm3'],\n",
    "                 EOS='SW96')\n",
    "# Calculate depth from a crustal density assumption\n",
    "Depth=pf.convert_pressure_to_depth(P_kbar=Pressure_SW96['P_kbar'], \n",
    "                crust_dens_kgm3=2300)\n",
    "\n",
    "fig, (ax1, ax2) = plt.subplots(1, 2, figsize=(10,5))\n",
    "ax1.hist(Pressure_SW96['P_kbar'], ec='k', fc='cyan', bins=10)\n",
    "ax1.plot(Pressure_SW96['P_kbar'], Pressure_SW96['P_kbar']*0+5, 'xk')\n",
    "ax2.plot(Depth, Pressure_SW96['P_kbar']*0+5, 'xk')\n",
    "ax2.hist(Depth, ec='k', fc='white', bins=10)\n",
    "ax1.set_xlabel('P kbar')\n",
    "ax2.set_xlabel('Depth (km)')\n",
    "ax1.set_ylabel('# of FI')"
   ]
  },
  {
   "cell_type": "code",
   "execution_count": 21,
   "id": "32fcbefc",
   "metadata": {},
   "outputs": [],
   "source": [
    "import os\n",
    "\n",
    "if os.name==\"posix\":\n",
    "\n",
    "    def mac_notification(title, subtitle, message):\n",
    "        \"\"\"\n",
    "        Display a macOS notification with the default sound using AppleScript.\n",
    "        \n",
    "        Args:\n",
    "        - title: Title of the notification.\n",
    "        - subtitle: Subtitle of the notification.\n",
    "        - message: Main message content of the notification.\n",
    "        \"\"\"\n",
    "        os.system(\"\"\"\n",
    "                osascript -e 'display notification \"{}\" with title \"{}\" subtitle \"{}\" sound name \"default\"'\n",
    "                \"\"\".format(message, title, subtitle))\n",
    "\n",
    "    mac_notification(\"Notebook Completed\", \"VSCode\", \"Step4 Stitch outputs\")\n",
    "\n",
    "else:\n",
    "\n",
    "    # %pip install winotify\n",
    "\n",
    "    from winotify import Notification, audio\n",
    "\n",
    "    toast= Notification(app_id=\"VSCode\",title=\"Notebook completed\",\n",
    "                        msg=\"Step4 Stitch outputs is done!\",\n",
    "                        duration=\"short\")\n",
    "    toast.set_audio(audio.Mail,loop=False)\n",
    "    toast.show()"
   ]
  },
  {
   "cell_type": "code",
   "execution_count": null,
   "id": "bf564fde",
   "metadata": {},
   "outputs": [],
   "source": []
  }
 ],
 "metadata": {
  "kernelspec": {
   "display_name": "py3115",
   "language": "python",
   "name": "python3"
  },
  "language_info": {
   "codemirror_mode": {
    "name": "ipython",
    "version": 3
   },
   "file_extension": ".py",
   "mimetype": "text/x-python",
   "name": "python",
   "nbconvert_exporter": "python",
   "pygments_lexer": "ipython3",
   "version": "3.11.5"
  }
 },
 "nbformat": 4,
 "nbformat_minor": 5
}
